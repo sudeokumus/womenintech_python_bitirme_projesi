{
 "cells": [
  {
   "cell_type": "markdown",
   "metadata": {},
   "source": [
    "## Bitirme Projesi"
   ]
  },
  {
   "cell_type": "markdown",
   "metadata": {},
   "source": [
    "Kütüphanleri import edelim:"
   ]
  },
  {
   "cell_type": "code",
   "execution_count": 801,
   "metadata": {},
   "outputs": [],
   "source": [
    "#Kütüphaneleri import edelim:\n",
    "import pandas as pd\n",
    "import numpy as np\n",
    "import matplotlib.pyplot as plt\n",
    "from collections import Counter\n",
    "import seaborn as sns\n",
    "\n",
    "#Python'daki uyarıları kapatmak için:\n",
    "import warnings\n",
    "warnings.filterwarnings(\"ignore\")"
   ]
  },
  {
   "cell_type": "markdown",
   "metadata": {},
   "source": [
    "Verileri içeri aktaralım:"
   ]
  },
  {
   "cell_type": "code",
   "execution_count": 681,
   "metadata": {},
   "outputs": [],
   "source": [
    "#Verileri içeri aktaralım:\n",
    "\n",
    "customer_data = pd.read_csv(\"data/customers_dataset.csv\")\n",
    "geolocation_data = pd.read_csv(\"data/geolocation_dataset.csv\")\n",
    "items_data = pd.read_csv(\"data/order_items_dataset.csv\")\n",
    "payments_data = pd.read_csv(\"data/order_payments_dataset.csv\")\n",
    "reviews_data = pd.read_csv(\"data/order_reviews_dataset.csv\")\n",
    "orders_data = pd.read_csv(\"data/orders_dataset.csv\")\n",
    "translations_data = pd.read_csv(\"data/product_category_name_translation.csv\")\n",
    "products_data = pd.read_csv(\"data/products_dataset.csv\")\n",
    "sellers_data = pd.read_csv(\"data/sellers_dataset.csv\")"
   ]
  },
  {
   "cell_type": "markdown",
   "metadata": {},
   "source": [
    "Veri setleri hakkında özet ve faydalı bilgiler verebilecek bir fonksiyon tanımlayalım:"
   ]
  },
  {
   "cell_type": "code",
   "execution_count": 682,
   "metadata": {},
   "outputs": [],
   "source": [
    "def info_func(data_name):\n",
    "    print(\"••••••••••••••••••  Veri Seti Hakkında Özet Bilgiler  ••••••••••••••••••\")\n",
    "    data_name.info()\n",
    "    print(\"\\n\")\n",
    "    print(\"••••••••••••••••  Veri setindeki gözlem ve değişken sayısı: \", data_name.shape)\n",
    "    print(\"\\n\")\n",
    "    print(\"•••••••••••••••••••••••••  Boş Değer Kontrolü  •••••••••••••••••••••••••\")\n",
    "    print(data_name.isnull().sum())"
   ]
  },
  {
   "cell_type": "markdown",
   "metadata": {},
   "source": [
    "* Sayısal değişkenleri grafikte görebilmek adına bir fonksiyon tanımlayalım:"
   ]
  },
  {
   "cell_type": "code",
   "execution_count": null,
   "metadata": {},
   "outputs": [],
   "source": [
    "def plotHistogram(degisken, n=5):\n",
    "  \"\"\"\n",
    "    Girdi: Değişken/sütun ismi\n",
    "    Çıktı: İlgili değişkenin histogramı\n",
    "  \"\"\"\n",
    "  veri = items_data[degisken]\n",
    "  veri_sayma = veri.value_counts()\n",
    "  veri_sayma = veri_sayma[:n] #İlk n tanesini almak içi \n",
    "  plt.figure()\n",
    "  plt.hist(items_data[degisken], bins = 85, color = \"salmon\") #bins -> aralık, biz 85 olsun dedik\n",
    "  plt.xlabel(degisken)\n",
    "  plt.ylabel(\"Frekans\")\n",
    "  plt.title(f\"Veri Sıklığı - {degisken}\")\n",
    "  plt.show()\n",
    "  print(f\"{degisken}:\\n{veri_sayma}\")\n",
    "\n",
    "sayısal_degisken = [\"siparis_adet\", \"urun_fiyat\", \"nakliye_ucreti\"]\n",
    "\n",
    "for i in sayısal_degisken:\n",
    "  plotHistogram(i)"
   ]
  },
  {
   "cell_type": "markdown",
   "metadata": {},
   "source": [
    "* Sayısal değişkenleri grafikte görebilmek adına bir fonksiyon tanımlayalım:"
   ]
  },
  {
   "cell_type": "code",
   "execution_count": null,
   "metadata": {},
   "outputs": [],
   "source": [
    "def plotBar(degisken, n = 10):   #En çok görülen 10 değer\n",
    "  \n",
    "  \"\"\"\n",
    "  Girdi: Değişken/sütun ismi\n",
    "  n = Gösterilecek eşsiz, en sık rastlanan değer sayısı\n",
    "  Çıktı: Çubuk grafiği\n",
    "  \"\"\"\n",
    "\n",
    "  veri = customer_data[degisken]\n",
    "  veri_sayma = veri.value_counts()\n",
    "  veri_sayma = veri_sayma[:n] #İlk n tanesini almak için\n",
    "  plt.figure()\n",
    "  plt.bar(veri_sayma.index, veri_sayma, color = \"aquamarine\")\n",
    "  plt.xticks(veri_sayma.index, veri_sayma.index.values)\n",
    "  plt.xticks(rotation = 90)\n",
    "  plt.ylabel(\"Frekans\")\n",
    "  plt.title(f\"Veri Sıklığı - {degisken}\")\n",
    "  plt.show()\n",
    "  print(f\"{degisken}:\\n{veri_sayma}\")"
   ]
  },
  {
   "cell_type": "markdown",
   "metadata": {},
   "source": [
    "Örnek Analizler\n",
    "1. Siparişlerin ortalama ne kadar tuttuğu.\n",
    "2. Ödeme türlerinin birbirlerine oranı.\n",
    "3. Aylara göre sipariş sayısı.\n",
    "4. Hangi satıcının ne kadar ürün sattığı.\n",
    "5. Hangi kategoriden ne kadar ürün satıldığı."
   ]
  },
  {
   "cell_type": "markdown",
   "metadata": {},
   "source": [
    "Öncelikle her bir veri setini inceleyelim:"
   ]
  },
  {
   "cell_type": "markdown",
   "metadata": {},
   "source": [
    "### **1. customer_data**"
   ]
  },
  {
   "cell_type": "code",
   "execution_count": 683,
   "metadata": {},
   "outputs": [
    {
     "name": "stdout",
     "output_type": "stream",
     "text": [
      "••••••••••••••••••  Veri Seti Hakkında Özet Bilgiler  ••••••••••••••••••\n",
      "<class 'pandas.core.frame.DataFrame'>\n",
      "RangeIndex: 99441 entries, 0 to 99440\n",
      "Data columns (total 5 columns):\n",
      " #   Column                    Non-Null Count  Dtype \n",
      "---  ------                    --------------  ----- \n",
      " 0   customer_id               99441 non-null  object\n",
      " 1   customer_unique_id        99441 non-null  object\n",
      " 2   customer_zip_code_prefix  99441 non-null  int64 \n",
      " 3   customer_city             99441 non-null  object\n",
      " 4   customer_state            99441 non-null  object\n",
      "dtypes: int64(1), object(4)\n",
      "memory usage: 3.8+ MB\n",
      "\n",
      "\n",
      "••••••••••••••••  Veri setindeki gözlem ve değişken sayısı:  (99441, 5)\n",
      "\n",
      "\n",
      "•••••••••••••••••••••••••  Boş Değer Kontrolü  •••••••••••••••••••••••••\n",
      "customer_id                 0\n",
      "customer_unique_id          0\n",
      "customer_zip_code_prefix    0\n",
      "customer_city               0\n",
      "customer_state              0\n",
      "dtype: int64\n"
     ]
    }
   ],
   "source": [
    "info_func(customer_data)"
   ]
  },
  {
   "cell_type": "markdown",
   "metadata": {},
   "source": [
    "Bu veri setimizde 5 adet değişken bulunmakta. Bunların 4 tanesi kategorik, 1 tanesi ise sayısal değişken."
   ]
  },
  {
   "cell_type": "code",
   "execution_count": 684,
   "metadata": {},
   "outputs": [
    {
     "data": {
      "text/html": [
       "<div>\n",
       "<style scoped>\n",
       "    .dataframe tbody tr th:only-of-type {\n",
       "        vertical-align: middle;\n",
       "    }\n",
       "\n",
       "    .dataframe tbody tr th {\n",
       "        vertical-align: top;\n",
       "    }\n",
       "\n",
       "    .dataframe thead th {\n",
       "        text-align: right;\n",
       "    }\n",
       "</style>\n",
       "<table border=\"1\" class=\"dataframe\">\n",
       "  <thead>\n",
       "    <tr style=\"text-align: right;\">\n",
       "      <th></th>\n",
       "      <th>customer_id</th>\n",
       "      <th>customer_unique_id</th>\n",
       "      <th>customer_zip_code_prefix</th>\n",
       "      <th>customer_city</th>\n",
       "      <th>customer_state</th>\n",
       "    </tr>\n",
       "  </thead>\n",
       "  <tbody>\n",
       "    <tr>\n",
       "      <th>0</th>\n",
       "      <td>06b8999e2fba1a1fbc88172c00ba8bc7</td>\n",
       "      <td>861eff4711a542e4b93843c6dd7febb0</td>\n",
       "      <td>14409</td>\n",
       "      <td>franca</td>\n",
       "      <td>SP</td>\n",
       "    </tr>\n",
       "    <tr>\n",
       "      <th>1</th>\n",
       "      <td>18955e83d337fd6b2def6b18a428ac77</td>\n",
       "      <td>290c77bc529b7ac935b93aa66c333dc3</td>\n",
       "      <td>9790</td>\n",
       "      <td>sao bernardo do campo</td>\n",
       "      <td>SP</td>\n",
       "    </tr>\n",
       "    <tr>\n",
       "      <th>2</th>\n",
       "      <td>4e7b3e00288586ebd08712fdd0374a03</td>\n",
       "      <td>060e732b5b29e8181a18229c7b0b2b5e</td>\n",
       "      <td>1151</td>\n",
       "      <td>sao paulo</td>\n",
       "      <td>SP</td>\n",
       "    </tr>\n",
       "    <tr>\n",
       "      <th>3</th>\n",
       "      <td>b2b6027bc5c5109e529d4dc6358b12c3</td>\n",
       "      <td>259dac757896d24d7702b9acbbff3f3c</td>\n",
       "      <td>8775</td>\n",
       "      <td>mogi das cruzes</td>\n",
       "      <td>SP</td>\n",
       "    </tr>\n",
       "    <tr>\n",
       "      <th>4</th>\n",
       "      <td>4f2d8ab171c80ec8364f7c12e35b23ad</td>\n",
       "      <td>345ecd01c38d18a9036ed96c73b8d066</td>\n",
       "      <td>13056</td>\n",
       "      <td>campinas</td>\n",
       "      <td>SP</td>\n",
       "    </tr>\n",
       "  </tbody>\n",
       "</table>\n",
       "</div>"
      ],
      "text/plain": [
       "                        customer_id                customer_unique_id  \\\n",
       "0  06b8999e2fba1a1fbc88172c00ba8bc7  861eff4711a542e4b93843c6dd7febb0   \n",
       "1  18955e83d337fd6b2def6b18a428ac77  290c77bc529b7ac935b93aa66c333dc3   \n",
       "2  4e7b3e00288586ebd08712fdd0374a03  060e732b5b29e8181a18229c7b0b2b5e   \n",
       "3  b2b6027bc5c5109e529d4dc6358b12c3  259dac757896d24d7702b9acbbff3f3c   \n",
       "4  4f2d8ab171c80ec8364f7c12e35b23ad  345ecd01c38d18a9036ed96c73b8d066   \n",
       "\n",
       "   customer_zip_code_prefix          customer_city customer_state  \n",
       "0                     14409                 franca             SP  \n",
       "1                      9790  sao bernardo do campo             SP  \n",
       "2                      1151              sao paulo             SP  \n",
       "3                      8775        mogi das cruzes             SP  \n",
       "4                     13056               campinas             SP  "
      ]
     },
     "execution_count": 684,
     "metadata": {},
     "output_type": "execute_result"
    }
   ],
   "source": [
    "customer_data.head()"
   ]
  },
  {
   "cell_type": "code",
   "execution_count": 685,
   "metadata": {},
   "outputs": [
    {
     "data": {
      "text/plain": [
       "Index(['customer_id', 'customer_unique_id', 'customer_zip_code_prefix',\n",
       "       'customer_city', 'customer_state'],\n",
       "      dtype='object')"
      ]
     },
     "execution_count": 685,
     "metadata": {},
     "output_type": "execute_result"
    }
   ],
   "source": [
    "customer_data.columns"
   ]
  },
  {
   "cell_type": "markdown",
   "metadata": {},
   "source": [
    "##### 1.1 - Sütun İsimlerinin Düzenlenmesi"
   ]
  },
  {
   "cell_type": "code",
   "execution_count": 826,
   "metadata": {},
   "outputs": [
    {
     "data": {
      "text/html": [
       "<div>\n",
       "<style scoped>\n",
       "    .dataframe tbody tr th:only-of-type {\n",
       "        vertical-align: middle;\n",
       "    }\n",
       "\n",
       "    .dataframe tbody tr th {\n",
       "        vertical-align: top;\n",
       "    }\n",
       "\n",
       "    .dataframe thead th {\n",
       "        text-align: right;\n",
       "    }\n",
       "</style>\n",
       "<table border=\"1\" class=\"dataframe\">\n",
       "  <thead>\n",
       "    <tr style=\"text-align: right;\">\n",
       "      <th></th>\n",
       "      <th>musteri_id</th>\n",
       "      <th>musteri_essiz_id</th>\n",
       "      <th>musteri_posta_kodu</th>\n",
       "      <th>musteri_sehir</th>\n",
       "      <th>musteri_eyalet</th>\n",
       "      <th>musteri_adres</th>\n",
       "    </tr>\n",
       "  </thead>\n",
       "  <tbody>\n",
       "    <tr>\n",
       "      <th>0</th>\n",
       "      <td>06b8999e2fba1a1fbc88172c00ba8bc7</td>\n",
       "      <td>861eff4711a542e4b93843c6dd7febb0</td>\n",
       "      <td>14409</td>\n",
       "      <td>franca</td>\n",
       "      <td>SP</td>\n",
       "      <td>franca - SP</td>\n",
       "    </tr>\n",
       "    <tr>\n",
       "      <th>1</th>\n",
       "      <td>18955e83d337fd6b2def6b18a428ac77</td>\n",
       "      <td>290c77bc529b7ac935b93aa66c333dc3</td>\n",
       "      <td>9790</td>\n",
       "      <td>sao bernardo do campo</td>\n",
       "      <td>SP</td>\n",
       "      <td>sao bernardo do campo - SP</td>\n",
       "    </tr>\n",
       "    <tr>\n",
       "      <th>2</th>\n",
       "      <td>4e7b3e00288586ebd08712fdd0374a03</td>\n",
       "      <td>060e732b5b29e8181a18229c7b0b2b5e</td>\n",
       "      <td>1151</td>\n",
       "      <td>sao paulo</td>\n",
       "      <td>SP</td>\n",
       "      <td>sao paulo - SP</td>\n",
       "    </tr>\n",
       "    <tr>\n",
       "      <th>3</th>\n",
       "      <td>b2b6027bc5c5109e529d4dc6358b12c3</td>\n",
       "      <td>259dac757896d24d7702b9acbbff3f3c</td>\n",
       "      <td>8775</td>\n",
       "      <td>mogi das cruzes</td>\n",
       "      <td>SP</td>\n",
       "      <td>mogi das cruzes - SP</td>\n",
       "    </tr>\n",
       "    <tr>\n",
       "      <th>4</th>\n",
       "      <td>4f2d8ab171c80ec8364f7c12e35b23ad</td>\n",
       "      <td>345ecd01c38d18a9036ed96c73b8d066</td>\n",
       "      <td>13056</td>\n",
       "      <td>campinas</td>\n",
       "      <td>SP</td>\n",
       "      <td>campinas - SP</td>\n",
       "    </tr>\n",
       "    <tr>\n",
       "      <th>...</th>\n",
       "      <td>...</td>\n",
       "      <td>...</td>\n",
       "      <td>...</td>\n",
       "      <td>...</td>\n",
       "      <td>...</td>\n",
       "      <td>...</td>\n",
       "    </tr>\n",
       "    <tr>\n",
       "      <th>99436</th>\n",
       "      <td>17ddf5dd5d51696bb3d7c6291687be6f</td>\n",
       "      <td>1a29b476fee25c95fbafc67c5ac95cf8</td>\n",
       "      <td>3937</td>\n",
       "      <td>sao paulo</td>\n",
       "      <td>SP</td>\n",
       "      <td>sao paulo - SP</td>\n",
       "    </tr>\n",
       "    <tr>\n",
       "      <th>99437</th>\n",
       "      <td>e7b71a9017aa05c9a7fd292d714858e8</td>\n",
       "      <td>d52a67c98be1cf6a5c84435bd38d095d</td>\n",
       "      <td>6764</td>\n",
       "      <td>taboao da serra</td>\n",
       "      <td>SP</td>\n",
       "      <td>taboao da serra - SP</td>\n",
       "    </tr>\n",
       "    <tr>\n",
       "      <th>99438</th>\n",
       "      <td>5e28dfe12db7fb50a4b2f691faecea5e</td>\n",
       "      <td>e9f50caf99f032f0bf3c55141f019d99</td>\n",
       "      <td>60115</td>\n",
       "      <td>fortaleza</td>\n",
       "      <td>CE</td>\n",
       "      <td>fortaleza - CE</td>\n",
       "    </tr>\n",
       "    <tr>\n",
       "      <th>99439</th>\n",
       "      <td>56b18e2166679b8a959d72dd06da27f9</td>\n",
       "      <td>73c2643a0a458b49f58cea58833b192e</td>\n",
       "      <td>92120</td>\n",
       "      <td>canoas</td>\n",
       "      <td>RS</td>\n",
       "      <td>canoas - RS</td>\n",
       "    </tr>\n",
       "    <tr>\n",
       "      <th>99440</th>\n",
       "      <td>274fa6071e5e17fe303b9748641082c8</td>\n",
       "      <td>84732c5050c01db9b23e19ba39899398</td>\n",
       "      <td>6703</td>\n",
       "      <td>cotia</td>\n",
       "      <td>SP</td>\n",
       "      <td>cotia - SP</td>\n",
       "    </tr>\n",
       "  </tbody>\n",
       "</table>\n",
       "<p>99441 rows × 6 columns</p>\n",
       "</div>"
      ],
      "text/plain": [
       "                             musteri_id                  musteri_essiz_id  \\\n",
       "0      06b8999e2fba1a1fbc88172c00ba8bc7  861eff4711a542e4b93843c6dd7febb0   \n",
       "1      18955e83d337fd6b2def6b18a428ac77  290c77bc529b7ac935b93aa66c333dc3   \n",
       "2      4e7b3e00288586ebd08712fdd0374a03  060e732b5b29e8181a18229c7b0b2b5e   \n",
       "3      b2b6027bc5c5109e529d4dc6358b12c3  259dac757896d24d7702b9acbbff3f3c   \n",
       "4      4f2d8ab171c80ec8364f7c12e35b23ad  345ecd01c38d18a9036ed96c73b8d066   \n",
       "...                                 ...                               ...   \n",
       "99436  17ddf5dd5d51696bb3d7c6291687be6f  1a29b476fee25c95fbafc67c5ac95cf8   \n",
       "99437  e7b71a9017aa05c9a7fd292d714858e8  d52a67c98be1cf6a5c84435bd38d095d   \n",
       "99438  5e28dfe12db7fb50a4b2f691faecea5e  e9f50caf99f032f0bf3c55141f019d99   \n",
       "99439  56b18e2166679b8a959d72dd06da27f9  73c2643a0a458b49f58cea58833b192e   \n",
       "99440  274fa6071e5e17fe303b9748641082c8  84732c5050c01db9b23e19ba39899398   \n",
       "\n",
       "       musteri_posta_kodu          musteri_sehir musteri_eyalet  \\\n",
       "0                   14409                 franca             SP   \n",
       "1                    9790  sao bernardo do campo             SP   \n",
       "2                    1151              sao paulo             SP   \n",
       "3                    8775        mogi das cruzes             SP   \n",
       "4                   13056               campinas             SP   \n",
       "...                   ...                    ...            ...   \n",
       "99436                3937              sao paulo             SP   \n",
       "99437                6764        taboao da serra             SP   \n",
       "99438               60115              fortaleza             CE   \n",
       "99439               92120                 canoas             RS   \n",
       "99440                6703                  cotia             SP   \n",
       "\n",
       "                    musteri_adres  \n",
       "0                     franca - SP  \n",
       "1      sao bernardo do campo - SP  \n",
       "2                  sao paulo - SP  \n",
       "3            mogi das cruzes - SP  \n",
       "4                   campinas - SP  \n",
       "...                           ...  \n",
       "99436              sao paulo - SP  \n",
       "99437        taboao da serra - SP  \n",
       "99438              fortaleza - CE  \n",
       "99439                 canoas - RS  \n",
       "99440                  cotia - SP  \n",
       "\n",
       "[99441 rows x 6 columns]"
      ]
     },
     "execution_count": 826,
     "metadata": {},
     "output_type": "execute_result"
    }
   ],
   "source": [
    "customer_data.rename(columns = {'customer_id':                  'musteri_id',\n",
    "                                'customer_unique_id':           'musteri_essiz_id',\n",
    "                                'customer_zip_code_prefix':     'musteri_posta_kodu',\n",
    "                                'customer_city':                'musteri_sehir',\n",
    "                                'customer_state':               'musteri_eyalet'\n",
    "                                }, inplace = True)\n",
    "\n",
    "customer_data"
   ]
  },
  {
   "cell_type": "code",
   "execution_count": 687,
   "metadata": {},
   "outputs": [
    {
     "data": {
      "text/plain": [
       "musteri_id            object\n",
       "musteri_essiz_id      object\n",
       "musteri_posta_kodu     int64\n",
       "musteri_sehir         object\n",
       "musteri_eyalet        object\n",
       "dtype: object"
      ]
     },
     "execution_count": 687,
     "metadata": {},
     "output_type": "execute_result"
    }
   ],
   "source": [
    "customer_data.dtypes"
   ]
  },
  {
   "cell_type": "code",
   "execution_count": 689,
   "metadata": {},
   "outputs": [
    {
     "name": "stdout",
     "output_type": "stream",
     "text": [
      "Satış yapılan şehir sayısı:  4119\n",
      "Satış yapılan eyalet sayısı:  27\n"
     ]
    }
   ],
   "source": [
    "print(\"Satış yapılan şehir sayısı: \", len(customer_data.musteri_sehir.unique()))\n",
    "print(\"Satış yapılan eyalet sayısı: \", len(customer_data.musteri_eyalet.unique()))"
   ]
  },
  {
   "cell_type": "code",
   "execution_count": 690,
   "metadata": {},
   "outputs": [
    {
     "name": "stdout",
     "output_type": "stream",
     "text": [
      "Müşteri sayısı:  96096\n"
     ]
    }
   ],
   "source": [
    "customer_data.musteri_essiz_id.unique()\n",
    "print(\"Müşteri sayısı: \", len(customer_data.musteri_essiz_id.unique()))"
   ]
  },
  {
   "cell_type": "code",
   "execution_count": 691,
   "metadata": {},
   "outputs": [
    {
     "name": "stdout",
     "output_type": "stream",
     "text": [
      "Eyalet başına düşen ortalama şehir sayısı:  23.0\n"
     ]
    }
   ],
   "source": [
    "#Eyalet başına düşen ortalama şehir sayısı\n",
    "\n",
    "eyalet_sehir = customer_data.groupby(by = \"musteri_eyalet\").musteri_sehir.value_counts().mean()\n",
    "print(\"Eyalet başına düşen ortalama şehir sayısı: \", np.round(eyalet_sehir))"
   ]
  },
  {
   "cell_type": "code",
   "execution_count": 692,
   "metadata": {},
   "outputs": [
    {
     "data": {
      "text/html": [
       "<div>\n",
       "<style scoped>\n",
       "    .dataframe tbody tr th:only-of-type {\n",
       "        vertical-align: middle;\n",
       "    }\n",
       "\n",
       "    .dataframe tbody tr th {\n",
       "        vertical-align: top;\n",
       "    }\n",
       "\n",
       "    .dataframe thead th {\n",
       "        text-align: right;\n",
       "    }\n",
       "</style>\n",
       "<table border=\"1\" class=\"dataframe\">\n",
       "  <thead>\n",
       "    <tr style=\"text-align: right;\">\n",
       "      <th></th>\n",
       "      <th>0</th>\n",
       "      <th>1</th>\n",
       "      <th>2</th>\n",
       "      <th>3</th>\n",
       "      <th>4</th>\n",
       "    </tr>\n",
       "  </thead>\n",
       "  <tbody>\n",
       "    <tr>\n",
       "      <th>musteri_sehir</th>\n",
       "      <td>franca</td>\n",
       "      <td>sao bernardo do campo</td>\n",
       "      <td>sao paulo</td>\n",
       "      <td>mogi das cruzes</td>\n",
       "      <td>campinas</td>\n",
       "    </tr>\n",
       "    <tr>\n",
       "      <th>musteri_eyalet_AC</th>\n",
       "      <td>0</td>\n",
       "      <td>0</td>\n",
       "      <td>0</td>\n",
       "      <td>0</td>\n",
       "      <td>0</td>\n",
       "    </tr>\n",
       "    <tr>\n",
       "      <th>musteri_eyalet_AL</th>\n",
       "      <td>0</td>\n",
       "      <td>0</td>\n",
       "      <td>0</td>\n",
       "      <td>0</td>\n",
       "      <td>0</td>\n",
       "    </tr>\n",
       "    <tr>\n",
       "      <th>musteri_eyalet_AM</th>\n",
       "      <td>0</td>\n",
       "      <td>0</td>\n",
       "      <td>0</td>\n",
       "      <td>0</td>\n",
       "      <td>0</td>\n",
       "    </tr>\n",
       "    <tr>\n",
       "      <th>musteri_eyalet_AP</th>\n",
       "      <td>0</td>\n",
       "      <td>0</td>\n",
       "      <td>0</td>\n",
       "      <td>0</td>\n",
       "      <td>0</td>\n",
       "    </tr>\n",
       "    <tr>\n",
       "      <th>musteri_eyalet_BA</th>\n",
       "      <td>0</td>\n",
       "      <td>0</td>\n",
       "      <td>0</td>\n",
       "      <td>0</td>\n",
       "      <td>0</td>\n",
       "    </tr>\n",
       "    <tr>\n",
       "      <th>musteri_eyalet_CE</th>\n",
       "      <td>0</td>\n",
       "      <td>0</td>\n",
       "      <td>0</td>\n",
       "      <td>0</td>\n",
       "      <td>0</td>\n",
       "    </tr>\n",
       "    <tr>\n",
       "      <th>musteri_eyalet_DF</th>\n",
       "      <td>0</td>\n",
       "      <td>0</td>\n",
       "      <td>0</td>\n",
       "      <td>0</td>\n",
       "      <td>0</td>\n",
       "    </tr>\n",
       "    <tr>\n",
       "      <th>musteri_eyalet_ES</th>\n",
       "      <td>0</td>\n",
       "      <td>0</td>\n",
       "      <td>0</td>\n",
       "      <td>0</td>\n",
       "      <td>0</td>\n",
       "    </tr>\n",
       "    <tr>\n",
       "      <th>musteri_eyalet_GO</th>\n",
       "      <td>0</td>\n",
       "      <td>0</td>\n",
       "      <td>0</td>\n",
       "      <td>0</td>\n",
       "      <td>0</td>\n",
       "    </tr>\n",
       "    <tr>\n",
       "      <th>musteri_eyalet_MA</th>\n",
       "      <td>0</td>\n",
       "      <td>0</td>\n",
       "      <td>0</td>\n",
       "      <td>0</td>\n",
       "      <td>0</td>\n",
       "    </tr>\n",
       "    <tr>\n",
       "      <th>musteri_eyalet_MG</th>\n",
       "      <td>0</td>\n",
       "      <td>0</td>\n",
       "      <td>0</td>\n",
       "      <td>0</td>\n",
       "      <td>0</td>\n",
       "    </tr>\n",
       "    <tr>\n",
       "      <th>musteri_eyalet_MS</th>\n",
       "      <td>0</td>\n",
       "      <td>0</td>\n",
       "      <td>0</td>\n",
       "      <td>0</td>\n",
       "      <td>0</td>\n",
       "    </tr>\n",
       "    <tr>\n",
       "      <th>musteri_eyalet_MT</th>\n",
       "      <td>0</td>\n",
       "      <td>0</td>\n",
       "      <td>0</td>\n",
       "      <td>0</td>\n",
       "      <td>0</td>\n",
       "    </tr>\n",
       "    <tr>\n",
       "      <th>musteri_eyalet_PA</th>\n",
       "      <td>0</td>\n",
       "      <td>0</td>\n",
       "      <td>0</td>\n",
       "      <td>0</td>\n",
       "      <td>0</td>\n",
       "    </tr>\n",
       "    <tr>\n",
       "      <th>musteri_eyalet_PB</th>\n",
       "      <td>0</td>\n",
       "      <td>0</td>\n",
       "      <td>0</td>\n",
       "      <td>0</td>\n",
       "      <td>0</td>\n",
       "    </tr>\n",
       "    <tr>\n",
       "      <th>musteri_eyalet_PE</th>\n",
       "      <td>0</td>\n",
       "      <td>0</td>\n",
       "      <td>0</td>\n",
       "      <td>0</td>\n",
       "      <td>0</td>\n",
       "    </tr>\n",
       "    <tr>\n",
       "      <th>musteri_eyalet_PI</th>\n",
       "      <td>0</td>\n",
       "      <td>0</td>\n",
       "      <td>0</td>\n",
       "      <td>0</td>\n",
       "      <td>0</td>\n",
       "    </tr>\n",
       "    <tr>\n",
       "      <th>musteri_eyalet_PR</th>\n",
       "      <td>0</td>\n",
       "      <td>0</td>\n",
       "      <td>0</td>\n",
       "      <td>0</td>\n",
       "      <td>0</td>\n",
       "    </tr>\n",
       "    <tr>\n",
       "      <th>musteri_eyalet_RJ</th>\n",
       "      <td>0</td>\n",
       "      <td>0</td>\n",
       "      <td>0</td>\n",
       "      <td>0</td>\n",
       "      <td>0</td>\n",
       "    </tr>\n",
       "    <tr>\n",
       "      <th>musteri_eyalet_RN</th>\n",
       "      <td>0</td>\n",
       "      <td>0</td>\n",
       "      <td>0</td>\n",
       "      <td>0</td>\n",
       "      <td>0</td>\n",
       "    </tr>\n",
       "    <tr>\n",
       "      <th>musteri_eyalet_RO</th>\n",
       "      <td>0</td>\n",
       "      <td>0</td>\n",
       "      <td>0</td>\n",
       "      <td>0</td>\n",
       "      <td>0</td>\n",
       "    </tr>\n",
       "    <tr>\n",
       "      <th>musteri_eyalet_RR</th>\n",
       "      <td>0</td>\n",
       "      <td>0</td>\n",
       "      <td>0</td>\n",
       "      <td>0</td>\n",
       "      <td>0</td>\n",
       "    </tr>\n",
       "    <tr>\n",
       "      <th>musteri_eyalet_RS</th>\n",
       "      <td>0</td>\n",
       "      <td>0</td>\n",
       "      <td>0</td>\n",
       "      <td>0</td>\n",
       "      <td>0</td>\n",
       "    </tr>\n",
       "    <tr>\n",
       "      <th>musteri_eyalet_SC</th>\n",
       "      <td>0</td>\n",
       "      <td>0</td>\n",
       "      <td>0</td>\n",
       "      <td>0</td>\n",
       "      <td>0</td>\n",
       "    </tr>\n",
       "    <tr>\n",
       "      <th>musteri_eyalet_SE</th>\n",
       "      <td>0</td>\n",
       "      <td>0</td>\n",
       "      <td>0</td>\n",
       "      <td>0</td>\n",
       "      <td>0</td>\n",
       "    </tr>\n",
       "    <tr>\n",
       "      <th>musteri_eyalet_SP</th>\n",
       "      <td>1</td>\n",
       "      <td>1</td>\n",
       "      <td>1</td>\n",
       "      <td>1</td>\n",
       "      <td>1</td>\n",
       "    </tr>\n",
       "    <tr>\n",
       "      <th>musteri_eyalet_TO</th>\n",
       "      <td>0</td>\n",
       "      <td>0</td>\n",
       "      <td>0</td>\n",
       "      <td>0</td>\n",
       "      <td>0</td>\n",
       "    </tr>\n",
       "  </tbody>\n",
       "</table>\n",
       "</div>"
      ],
      "text/plain": [
       "                        0                      1          2                3  \\\n",
       "musteri_sehir      franca  sao bernardo do campo  sao paulo  mogi das cruzes   \n",
       "musteri_eyalet_AC       0                      0          0                0   \n",
       "musteri_eyalet_AL       0                      0          0                0   \n",
       "musteri_eyalet_AM       0                      0          0                0   \n",
       "musteri_eyalet_AP       0                      0          0                0   \n",
       "musteri_eyalet_BA       0                      0          0                0   \n",
       "musteri_eyalet_CE       0                      0          0                0   \n",
       "musteri_eyalet_DF       0                      0          0                0   \n",
       "musteri_eyalet_ES       0                      0          0                0   \n",
       "musteri_eyalet_GO       0                      0          0                0   \n",
       "musteri_eyalet_MA       0                      0          0                0   \n",
       "musteri_eyalet_MG       0                      0          0                0   \n",
       "musteri_eyalet_MS       0                      0          0                0   \n",
       "musteri_eyalet_MT       0                      0          0                0   \n",
       "musteri_eyalet_PA       0                      0          0                0   \n",
       "musteri_eyalet_PB       0                      0          0                0   \n",
       "musteri_eyalet_PE       0                      0          0                0   \n",
       "musteri_eyalet_PI       0                      0          0                0   \n",
       "musteri_eyalet_PR       0                      0          0                0   \n",
       "musteri_eyalet_RJ       0                      0          0                0   \n",
       "musteri_eyalet_RN       0                      0          0                0   \n",
       "musteri_eyalet_RO       0                      0          0                0   \n",
       "musteri_eyalet_RR       0                      0          0                0   \n",
       "musteri_eyalet_RS       0                      0          0                0   \n",
       "musteri_eyalet_SC       0                      0          0                0   \n",
       "musteri_eyalet_SE       0                      0          0                0   \n",
       "musteri_eyalet_SP       1                      1          1                1   \n",
       "musteri_eyalet_TO       0                      0          0                0   \n",
       "\n",
       "                          4  \n",
       "musteri_sehir      campinas  \n",
       "musteri_eyalet_AC         0  \n",
       "musteri_eyalet_AL         0  \n",
       "musteri_eyalet_AM         0  \n",
       "musteri_eyalet_AP         0  \n",
       "musteri_eyalet_BA         0  \n",
       "musteri_eyalet_CE         0  \n",
       "musteri_eyalet_DF         0  \n",
       "musteri_eyalet_ES         0  \n",
       "musteri_eyalet_GO         0  \n",
       "musteri_eyalet_MA         0  \n",
       "musteri_eyalet_MG         0  \n",
       "musteri_eyalet_MS         0  \n",
       "musteri_eyalet_MT         0  \n",
       "musteri_eyalet_PA         0  \n",
       "musteri_eyalet_PB         0  \n",
       "musteri_eyalet_PE         0  \n",
       "musteri_eyalet_PI         0  \n",
       "musteri_eyalet_PR         0  \n",
       "musteri_eyalet_RJ         0  \n",
       "musteri_eyalet_RN         0  \n",
       "musteri_eyalet_RO         0  \n",
       "musteri_eyalet_RR         0  \n",
       "musteri_eyalet_RS         0  \n",
       "musteri_eyalet_SC         0  \n",
       "musteri_eyalet_SE         0  \n",
       "musteri_eyalet_SP         1  \n",
       "musteri_eyalet_TO         0  "
      ]
     },
     "execution_count": 692,
     "metadata": {},
     "output_type": "execute_result"
    }
   ],
   "source": [
    "#Kategorik değişkeni sınıflarına parçaladık - musteri_eyalet\n",
    "\n",
    "veri_gecici = customer_data.copy()\n",
    "veri_gecici = pd.get_dummies(veri_gecici, columns = ['musteri_eyalet'])\n",
    "veri_gecici.head().iloc[:,3:].T"
   ]
  },
  {
   "cell_type": "code",
   "execution_count": 693,
   "metadata": {},
   "outputs": [
    {
     "data": {
      "text/html": [
       "<div>\n",
       "<style scoped>\n",
       "    .dataframe tbody tr th:only-of-type {\n",
       "        vertical-align: middle;\n",
       "    }\n",
       "\n",
       "    .dataframe tbody tr th {\n",
       "        vertical-align: top;\n",
       "    }\n",
       "\n",
       "    .dataframe thead th {\n",
       "        text-align: right;\n",
       "    }\n",
       "</style>\n",
       "<table border=\"1\" class=\"dataframe\">\n",
       "  <thead>\n",
       "    <tr style=\"text-align: right;\">\n",
       "      <th></th>\n",
       "      <th>musteri_id</th>\n",
       "      <th>musteri_essiz_id</th>\n",
       "      <th>musteri_posta_kodu</th>\n",
       "      <th>musteri_sehir</th>\n",
       "      <th>musteri_eyalet</th>\n",
       "      <th>musteri_adres</th>\n",
       "    </tr>\n",
       "  </thead>\n",
       "  <tbody>\n",
       "    <tr>\n",
       "      <th>0</th>\n",
       "      <td>06b8999e2fba1a1fbc88172c00ba8bc7</td>\n",
       "      <td>861eff4711a542e4b93843c6dd7febb0</td>\n",
       "      <td>14409</td>\n",
       "      <td>franca</td>\n",
       "      <td>SP</td>\n",
       "      <td>franca - SP</td>\n",
       "    </tr>\n",
       "    <tr>\n",
       "      <th>1</th>\n",
       "      <td>18955e83d337fd6b2def6b18a428ac77</td>\n",
       "      <td>290c77bc529b7ac935b93aa66c333dc3</td>\n",
       "      <td>9790</td>\n",
       "      <td>sao bernardo do campo</td>\n",
       "      <td>SP</td>\n",
       "      <td>sao bernardo do campo - SP</td>\n",
       "    </tr>\n",
       "    <tr>\n",
       "      <th>2</th>\n",
       "      <td>4e7b3e00288586ebd08712fdd0374a03</td>\n",
       "      <td>060e732b5b29e8181a18229c7b0b2b5e</td>\n",
       "      <td>1151</td>\n",
       "      <td>sao paulo</td>\n",
       "      <td>SP</td>\n",
       "      <td>sao paulo - SP</td>\n",
       "    </tr>\n",
       "    <tr>\n",
       "      <th>3</th>\n",
       "      <td>b2b6027bc5c5109e529d4dc6358b12c3</td>\n",
       "      <td>259dac757896d24d7702b9acbbff3f3c</td>\n",
       "      <td>8775</td>\n",
       "      <td>mogi das cruzes</td>\n",
       "      <td>SP</td>\n",
       "      <td>mogi das cruzes - SP</td>\n",
       "    </tr>\n",
       "    <tr>\n",
       "      <th>4</th>\n",
       "      <td>4f2d8ab171c80ec8364f7c12e35b23ad</td>\n",
       "      <td>345ecd01c38d18a9036ed96c73b8d066</td>\n",
       "      <td>13056</td>\n",
       "      <td>campinas</td>\n",
       "      <td>SP</td>\n",
       "      <td>campinas - SP</td>\n",
       "    </tr>\n",
       "    <tr>\n",
       "      <th>...</th>\n",
       "      <td>...</td>\n",
       "      <td>...</td>\n",
       "      <td>...</td>\n",
       "      <td>...</td>\n",
       "      <td>...</td>\n",
       "      <td>...</td>\n",
       "    </tr>\n",
       "    <tr>\n",
       "      <th>99436</th>\n",
       "      <td>17ddf5dd5d51696bb3d7c6291687be6f</td>\n",
       "      <td>1a29b476fee25c95fbafc67c5ac95cf8</td>\n",
       "      <td>3937</td>\n",
       "      <td>sao paulo</td>\n",
       "      <td>SP</td>\n",
       "      <td>sao paulo - SP</td>\n",
       "    </tr>\n",
       "    <tr>\n",
       "      <th>99437</th>\n",
       "      <td>e7b71a9017aa05c9a7fd292d714858e8</td>\n",
       "      <td>d52a67c98be1cf6a5c84435bd38d095d</td>\n",
       "      <td>6764</td>\n",
       "      <td>taboao da serra</td>\n",
       "      <td>SP</td>\n",
       "      <td>taboao da serra - SP</td>\n",
       "    </tr>\n",
       "    <tr>\n",
       "      <th>99438</th>\n",
       "      <td>5e28dfe12db7fb50a4b2f691faecea5e</td>\n",
       "      <td>e9f50caf99f032f0bf3c55141f019d99</td>\n",
       "      <td>60115</td>\n",
       "      <td>fortaleza</td>\n",
       "      <td>CE</td>\n",
       "      <td>fortaleza - CE</td>\n",
       "    </tr>\n",
       "    <tr>\n",
       "      <th>99439</th>\n",
       "      <td>56b18e2166679b8a959d72dd06da27f9</td>\n",
       "      <td>73c2643a0a458b49f58cea58833b192e</td>\n",
       "      <td>92120</td>\n",
       "      <td>canoas</td>\n",
       "      <td>RS</td>\n",
       "      <td>canoas - RS</td>\n",
       "    </tr>\n",
       "    <tr>\n",
       "      <th>99440</th>\n",
       "      <td>274fa6071e5e17fe303b9748641082c8</td>\n",
       "      <td>84732c5050c01db9b23e19ba39899398</td>\n",
       "      <td>6703</td>\n",
       "      <td>cotia</td>\n",
       "      <td>SP</td>\n",
       "      <td>cotia - SP</td>\n",
       "    </tr>\n",
       "  </tbody>\n",
       "</table>\n",
       "<p>99441 rows × 6 columns</p>\n",
       "</div>"
      ],
      "text/plain": [
       "                             musteri_id                  musteri_essiz_id  \\\n",
       "0      06b8999e2fba1a1fbc88172c00ba8bc7  861eff4711a542e4b93843c6dd7febb0   \n",
       "1      18955e83d337fd6b2def6b18a428ac77  290c77bc529b7ac935b93aa66c333dc3   \n",
       "2      4e7b3e00288586ebd08712fdd0374a03  060e732b5b29e8181a18229c7b0b2b5e   \n",
       "3      b2b6027bc5c5109e529d4dc6358b12c3  259dac757896d24d7702b9acbbff3f3c   \n",
       "4      4f2d8ab171c80ec8364f7c12e35b23ad  345ecd01c38d18a9036ed96c73b8d066   \n",
       "...                                 ...                               ...   \n",
       "99436  17ddf5dd5d51696bb3d7c6291687be6f  1a29b476fee25c95fbafc67c5ac95cf8   \n",
       "99437  e7b71a9017aa05c9a7fd292d714858e8  d52a67c98be1cf6a5c84435bd38d095d   \n",
       "99438  5e28dfe12db7fb50a4b2f691faecea5e  e9f50caf99f032f0bf3c55141f019d99   \n",
       "99439  56b18e2166679b8a959d72dd06da27f9  73c2643a0a458b49f58cea58833b192e   \n",
       "99440  274fa6071e5e17fe303b9748641082c8  84732c5050c01db9b23e19ba39899398   \n",
       "\n",
       "       musteri_posta_kodu          musteri_sehir musteri_eyalet  \\\n",
       "0                   14409                 franca             SP   \n",
       "1                    9790  sao bernardo do campo             SP   \n",
       "2                    1151              sao paulo             SP   \n",
       "3                    8775        mogi das cruzes             SP   \n",
       "4                   13056               campinas             SP   \n",
       "...                   ...                    ...            ...   \n",
       "99436                3937              sao paulo             SP   \n",
       "99437                6764        taboao da serra             SP   \n",
       "99438               60115              fortaleza             CE   \n",
       "99439               92120                 canoas             RS   \n",
       "99440                6703                  cotia             SP   \n",
       "\n",
       "                    musteri_adres  \n",
       "0                     franca - SP  \n",
       "1      sao bernardo do campo - SP  \n",
       "2                  sao paulo - SP  \n",
       "3            mogi das cruzes - SP  \n",
       "4                   campinas - SP  \n",
       "...                           ...  \n",
       "99436              sao paulo - SP  \n",
       "99437        taboao da serra - SP  \n",
       "99438              fortaleza - CE  \n",
       "99439                 canoas - RS  \n",
       "99440                  cotia - SP  \n",
       "\n",
       "[99441 rows x 6 columns]"
      ]
     },
     "execution_count": 693,
     "metadata": {},
     "output_type": "execute_result"
    }
   ],
   "source": [
    "#Yeni değişken eklemek:\n",
    "\n",
    "customer_data[\"musteri_adres\"] = customer_data.musteri_sehir + \" - \" + customer_data.musteri_eyalet\n",
    "\n",
    "customer_data"
   ]
  },
  {
   "cell_type": "markdown",
   "metadata": {},
   "source": [
    "* Kategorik değişkenleri için grafik üzerinde görebilmek adına bir fonksiyon tanımlayalım:"
   ]
  },
  {
   "cell_type": "code",
   "execution_count": 694,
   "metadata": {},
   "outputs": [],
   "source": [
    "def plotBar(degisken, n = 10):   #En çok görülen 10 değer\n",
    "  \n",
    "  veri = customer_data[degisken]\n",
    "  veri_sayma = veri.value_counts()\n",
    "  veri_sayma = veri_sayma[:n] #İlk n tanesini almak için\n",
    "  plt.figure()\n",
    "  plt.bar(veri_sayma.index, veri_sayma, color = \"aquamarine\")\n",
    "  plt.xticks(veri_sayma.index, veri_sayma.index.values)\n",
    "  plt.xticks(rotation = 90)\n",
    "  plt.ylabel(\"Frekans\")\n",
    "  plt.title(f\"Veri Sıklığı - {degisken}\")\n",
    "  plt.show()\n",
    "  print(f\"{degisken}:\\n{veri_sayma}\")"
   ]
  },
  {
   "cell_type": "code",
   "execution_count": 695,
   "metadata": {},
   "outputs": [
    {
     "data": {
      "image/png": "[encoded data removed]",
      "text/plain": [
       "<Figure size 432x288 with 1 Axes>"
      ]
     },
     "metadata": {
      "needs_background": "light"
     },
     "output_type": "display_data"
    },
    {
     "name": "stdout",
     "output_type": "stream",
     "text": [
      "musteri_id:\n",
      "06b8999e2fba1a1fbc88172c00ba8bc7    1\n",
      "c023f30c1147aeb0358474f3b1dbc707    1\n",
      "b5cbf43f42281920a175fc99650c91d6    1\n",
      "19f4e983f8f05b7de16670f8a0cf0ac7    1\n",
      "229ac14c6ee6d6a606264ebcc861beb7    1\n",
      "8cd118ecfb9703463ef9670b1d18a26e    1\n",
      "8b7369c82ac3d8d71b77d5b23b085696    1\n",
      "4b7decb9b58e2569548b8b4c8e20e8d7    1\n",
      "a30378a29ac174b9a1a158ce067e1fd2    1\n",
      "1d99b48c0fe6d0bc50feebecdc88cbc2    1\n",
      "Name: musteri_id, dtype: int64\n"
     ]
    },
    {
     "data": {
      "image/png": "[encoded data removed]",
      "text/plain": [
       "<Figure size 432x288 with 1 Axes>"
      ]
     },
     "metadata": {
      "needs_background": "light"
     },
     "output_type": "display_data"
    },
    {
     "name": "stdout",
     "output_type": "stream",
     "text": [
      "musteri_essiz_id:\n",
      "8d50f5eadf50201ccdcedfb9e2ac8455    17\n",
      "3e43e6105506432c953e165fb2acf44c     9\n",
      "1b6c7548a2a1f9037c1fd3ddfed95f33     7\n",
      "ca77025e7201e3b30c44b472ff346268     7\n",
      "6469f99c1f9dfae7733b25662e7f1782     7\n",
      "63cfc61cee11cbe306bff5857d00bfe4     6\n",
      "47c1a3033b8b77b3ab6e109eb4d5fdf3     6\n",
      "12f5d6e1cbf93dafd9dcc19095df0b3d     6\n",
      "de34b16117594161a6a89c50b289d35a     6\n",
      "dc813062e0fc23409cd255f7f53c7074     6\n",
      "Name: musteri_essiz_id, dtype: int64\n"
     ]
    },
    {
     "data": {
      "image/png": "[encoded data removed]",
      "text/plain": [
       "<Figure size 432x288 with 1 Axes>"
      ]
     },
     "metadata": {
      "needs_background": "light"
     },
     "output_type": "display_data"
    },
    {
     "name": "stdout",
     "output_type": "stream",
     "text": [
      "musteri_sehir:\n",
      "sao paulo                15540\n",
      "rio de janeiro            6882\n",
      "belo horizonte            2773\n",
      "brasilia                  2131\n",
      "curitiba                  1521\n",
      "campinas                  1444\n",
      "porto alegre              1379\n",
      "salvador                  1245\n",
      "guarulhos                 1189\n",
      "sao bernardo do campo      938\n",
      "Name: musteri_sehir, dtype: int64\n"
     ]
    },
    {
     "data": {
      "image/png": "[encoded data removed]",
      "text/plain": [
       "<Figure size 432x288 with 1 Axes>"
      ]
     },
     "metadata": {
      "needs_background": "light"
     },
     "output_type": "display_data"
    },
    {
     "name": "stdout",
     "output_type": "stream",
     "text": [
      "musteri_eyalet:\n",
      "SP    41746\n",
      "RJ    12852\n",
      "MG    11635\n",
      "RS     5466\n",
      "PR     5045\n",
      "SC     3637\n",
      "BA     3380\n",
      "DF     2140\n",
      "ES     2033\n",
      "GO     2020\n",
      "Name: musteri_eyalet, dtype: int64\n"
     ]
    }
   ],
   "source": [
    "kategorik_degiskenler = [\"musteri_id\", \"musteri_essiz_id\", \"musteri_sehir\", \"musteri_eyalet\"]\n",
    "\n",
    "for kategorik_degisken in kategorik_degiskenler:\n",
    "  plotBar(kategorik_degisken)"
   ]
  },
  {
   "cell_type": "markdown",
   "metadata": {},
   "source": [
    "* Sayısal değişkenleri grafik üzerinde görebilmek adına bir fonksiyon tanımlayalım:"
   ]
  },
  {
   "cell_type": "code",
   "execution_count": 829,
   "metadata": {},
   "outputs": [
    {
     "data": {
      "image/png": "[encoded data removed]",
      "text/plain": [
       "<Figure size 432x288 with 1 Axes>"
      ]
     },
     "metadata": {
      "needs_background": "light"
     },
     "output_type": "display_data"
    },
    {
     "name": "stdout",
     "output_type": "stream",
     "text": [
      "musteri_posta_kodu:\n",
      "22790    142\n",
      "24220    124\n",
      "22793    121\n",
      "24230    117\n",
      "22775    110\n",
      "Name: musteri_posta_kodu, dtype: int64\n"
     ]
    }
   ],
   "source": [
    "def plotHistogram(degisken, n=5):\n",
    "  \"\"\"\n",
    "    Girdi: Değişken/sütun ismi\n",
    "    Çıktı: İlgili değişkenin histogramı\n",
    "  \"\"\"\n",
    "  veri = customer_data[degisken]\n",
    "  veri_sayma = veri.value_counts()\n",
    "  veri_sayma = veri_sayma[:n] #İlk n tanesini almak için \n",
    "  plt.figure()\n",
    "  plt.hist(customer_data[degisken], bins = 85, color = \"lime\") \n",
    "  plt.xlabel(degisken)\n",
    "  plt.ylabel(\"Frekans\")\n",
    "  plt.title(f\"Veri Sıklığı - {degisken}\")\n",
    "  plt.show()\n",
    "  print(f\"{degisken}:\\n{veri_sayma}\")\n",
    "\n",
    "sayısal_degisken = [\"musteri_posta_kodu\"]\n",
    "\n",
    "for i in sayısal_degisken:\n",
    "  plotHistogram(i)"
   ]
  },
  {
   "cell_type": "code",
   "execution_count": 696,
   "metadata": {},
   "outputs": [
    {
     "data": {
      "text/plain": [
       "eugenio de castro     1\n",
       "monteiropolis         1\n",
       "campo florido         1\n",
       "alto sao joao         1\n",
       "paulistania           1\n",
       "taquarana             1\n",
       "castanheiras          1\n",
       "humberto de campos    1\n",
       "nova brescia          1\n",
       "chaval                1\n",
       "Name: musteri_sehir, dtype: int64"
      ]
     },
     "execution_count": 696,
     "metadata": {},
     "output_type": "execute_result"
    }
   ],
   "source": [
    "#Müşterilerin en az bulunduğu şehirler\n",
    "\n",
    "en_az_sehir = customer_data['musteri_sehir'].value_counts(ascending = True)\n",
    "en_az_sehir[:10]"
   ]
  },
  {
   "cell_type": "code",
   "execution_count": 697,
   "metadata": {},
   "outputs": [
    {
     "data": {
      "text/plain": [
       "RR     46\n",
       "AP     68\n",
       "AC     81\n",
       "AM    148\n",
       "RO    253\n",
       "TO    280\n",
       "SE    350\n",
       "AL    413\n",
       "RN    485\n",
       "PI    495\n",
       "Name: musteri_eyalet, dtype: int64"
      ]
     },
     "execution_count": 697,
     "metadata": {},
     "output_type": "execute_result"
    }
   ],
   "source": [
    "#Müşterilerin en az bulunduğu eyaletler\n",
    "\n",
    "en_az_eyalet = customer_data['musteri_eyalet'].value_counts(ascending = True)\n",
    "en_az_eyalet[:10]"
   ]
  },
  {
   "cell_type": "markdown",
   "metadata": {},
   "source": [
    "##### **2. geolocation_data**"
   ]
  },
  {
   "cell_type": "code",
   "execution_count": 699,
   "metadata": {},
   "outputs": [
    {
     "name": "stdout",
     "output_type": "stream",
     "text": [
      "••••••••••••••••••  Veri Seti Hakkında Özet Bilgiler  ••••••••••••••••••\n",
      "<class 'pandas.core.frame.DataFrame'>\n",
      "RangeIndex: 1000163 entries, 0 to 1000162\n",
      "Data columns (total 5 columns):\n",
      " #   Column                       Non-Null Count    Dtype  \n",
      "---  ------                       --------------    -----  \n",
      " 0   geolocation_zip_code_prefix  1000163 non-null  int64  \n",
      " 1   geolocation_lat              1000163 non-null  float64\n",
      " 2   geolocation_lng              1000163 non-null  float64\n",
      " 3   geolocation_city             1000163 non-null  object \n",
      " 4   geolocation_state            1000163 non-null  object \n",
      "dtypes: float64(2), int64(1), object(2)\n",
      "memory usage: 38.2+ MB\n",
      "\n",
      "\n",
      "••••••••••••••••  Veri setindeki gözlem ve değişken sayısı:  (1000163, 5)\n",
      "\n",
      "\n",
      "•••••••••••••••••••••••••  Boş Değer Kontrolü  •••••••••••••••••••••••••\n",
      "geolocation_zip_code_prefix    0\n",
      "geolocation_lat                0\n",
      "geolocation_lng                0\n",
      "geolocation_city               0\n",
      "geolocation_state              0\n",
      "dtype: int64\n"
     ]
    }
   ],
   "source": [
    "info_func(geolocation_data)"
   ]
  },
  {
   "cell_type": "markdown",
   "metadata": {},
   "source": [
    "##### 2.1 - Sütun İsimlerinin Düzenlenmesi"
   ]
  },
  {
   "cell_type": "code",
   "execution_count": 700,
   "metadata": {},
   "outputs": [
    {
     "data": {
      "text/html": [
       "<div>\n",
       "<style scoped>\n",
       "    .dataframe tbody tr th:only-of-type {\n",
       "        vertical-align: middle;\n",
       "    }\n",
       "\n",
       "    .dataframe tbody tr th {\n",
       "        vertical-align: top;\n",
       "    }\n",
       "\n",
       "    .dataframe thead th {\n",
       "        text-align: right;\n",
       "    }\n",
       "</style>\n",
       "<table border=\"1\" class=\"dataframe\">\n",
       "  <thead>\n",
       "    <tr style=\"text-align: right;\">\n",
       "      <th></th>\n",
       "      <th>geolocation_zip_code_prefix</th>\n",
       "      <th>geolocation_lat</th>\n",
       "      <th>geolocation_lng</th>\n",
       "      <th>geolocation_city</th>\n",
       "      <th>geolocation_state</th>\n",
       "    </tr>\n",
       "  </thead>\n",
       "  <tbody>\n",
       "    <tr>\n",
       "      <th>0</th>\n",
       "      <td>1037</td>\n",
       "      <td>-23.545621</td>\n",
       "      <td>-46.639292</td>\n",
       "      <td>sao paulo</td>\n",
       "      <td>SP</td>\n",
       "    </tr>\n",
       "    <tr>\n",
       "      <th>1</th>\n",
       "      <td>1046</td>\n",
       "      <td>-23.546081</td>\n",
       "      <td>-46.644820</td>\n",
       "      <td>sao paulo</td>\n",
       "      <td>SP</td>\n",
       "    </tr>\n",
       "    <tr>\n",
       "      <th>2</th>\n",
       "      <td>1046</td>\n",
       "      <td>-23.546129</td>\n",
       "      <td>-46.642951</td>\n",
       "      <td>sao paulo</td>\n",
       "      <td>SP</td>\n",
       "    </tr>\n",
       "    <tr>\n",
       "      <th>3</th>\n",
       "      <td>1041</td>\n",
       "      <td>-23.544392</td>\n",
       "      <td>-46.639499</td>\n",
       "      <td>sao paulo</td>\n",
       "      <td>SP</td>\n",
       "    </tr>\n",
       "    <tr>\n",
       "      <th>4</th>\n",
       "      <td>1035</td>\n",
       "      <td>-23.541578</td>\n",
       "      <td>-46.641607</td>\n",
       "      <td>sao paulo</td>\n",
       "      <td>SP</td>\n",
       "    </tr>\n",
       "  </tbody>\n",
       "</table>\n",
       "</div>"
      ],
      "text/plain": [
       "   geolocation_zip_code_prefix  geolocation_lat  geolocation_lng  \\\n",
       "0                         1037       -23.545621       -46.639292   \n",
       "1                         1046       -23.546081       -46.644820   \n",
       "2                         1046       -23.546129       -46.642951   \n",
       "3                         1041       -23.544392       -46.639499   \n",
       "4                         1035       -23.541578       -46.641607   \n",
       "\n",
       "  geolocation_city geolocation_state  \n",
       "0        sao paulo                SP  \n",
       "1        sao paulo                SP  \n",
       "2        sao paulo                SP  \n",
       "3        sao paulo                SP  \n",
       "4        sao paulo                SP  "
      ]
     },
     "execution_count": 700,
     "metadata": {},
     "output_type": "execute_result"
    }
   ],
   "source": [
    "geolocation_data.head()"
   ]
  },
  {
   "cell_type": "code",
   "execution_count": 701,
   "metadata": {},
   "outputs": [
    {
     "data": {
      "text/html": [
       "<div>\n",
       "<style scoped>\n",
       "    .dataframe tbody tr th:only-of-type {\n",
       "        vertical-align: middle;\n",
       "    }\n",
       "\n",
       "    .dataframe tbody tr th {\n",
       "        vertical-align: top;\n",
       "    }\n",
       "\n",
       "    .dataframe thead th {\n",
       "        text-align: right;\n",
       "    }\n",
       "</style>\n",
       "<table border=\"1\" class=\"dataframe\">\n",
       "  <thead>\n",
       "    <tr style=\"text-align: right;\">\n",
       "      <th></th>\n",
       "      <th>cografi_id</th>\n",
       "      <th>enlem</th>\n",
       "      <th>boylam</th>\n",
       "      <th>sehir</th>\n",
       "      <th>eyalet</th>\n",
       "    </tr>\n",
       "  </thead>\n",
       "  <tbody>\n",
       "    <tr>\n",
       "      <th>0</th>\n",
       "      <td>1037</td>\n",
       "      <td>-23.545621</td>\n",
       "      <td>-46.639292</td>\n",
       "      <td>sao paulo</td>\n",
       "      <td>SP</td>\n",
       "    </tr>\n",
       "    <tr>\n",
       "      <th>1</th>\n",
       "      <td>1046</td>\n",
       "      <td>-23.546081</td>\n",
       "      <td>-46.644820</td>\n",
       "      <td>sao paulo</td>\n",
       "      <td>SP</td>\n",
       "    </tr>\n",
       "    <tr>\n",
       "      <th>2</th>\n",
       "      <td>1046</td>\n",
       "      <td>-23.546129</td>\n",
       "      <td>-46.642951</td>\n",
       "      <td>sao paulo</td>\n",
       "      <td>SP</td>\n",
       "    </tr>\n",
       "    <tr>\n",
       "      <th>3</th>\n",
       "      <td>1041</td>\n",
       "      <td>-23.544392</td>\n",
       "      <td>-46.639499</td>\n",
       "      <td>sao paulo</td>\n",
       "      <td>SP</td>\n",
       "    </tr>\n",
       "    <tr>\n",
       "      <th>4</th>\n",
       "      <td>1035</td>\n",
       "      <td>-23.541578</td>\n",
       "      <td>-46.641607</td>\n",
       "      <td>sao paulo</td>\n",
       "      <td>SP</td>\n",
       "    </tr>\n",
       "    <tr>\n",
       "      <th>...</th>\n",
       "      <td>...</td>\n",
       "      <td>...</td>\n",
       "      <td>...</td>\n",
       "      <td>...</td>\n",
       "      <td>...</td>\n",
       "    </tr>\n",
       "    <tr>\n",
       "      <th>1000158</th>\n",
       "      <td>99950</td>\n",
       "      <td>-28.068639</td>\n",
       "      <td>-52.010705</td>\n",
       "      <td>tapejara</td>\n",
       "      <td>RS</td>\n",
       "    </tr>\n",
       "    <tr>\n",
       "      <th>1000159</th>\n",
       "      <td>99900</td>\n",
       "      <td>-27.877125</td>\n",
       "      <td>-52.224882</td>\n",
       "      <td>getulio vargas</td>\n",
       "      <td>RS</td>\n",
       "    </tr>\n",
       "    <tr>\n",
       "      <th>1000160</th>\n",
       "      <td>99950</td>\n",
       "      <td>-28.071855</td>\n",
       "      <td>-52.014716</td>\n",
       "      <td>tapejara</td>\n",
       "      <td>RS</td>\n",
       "    </tr>\n",
       "    <tr>\n",
       "      <th>1000161</th>\n",
       "      <td>99980</td>\n",
       "      <td>-28.388932</td>\n",
       "      <td>-51.846871</td>\n",
       "      <td>david canabarro</td>\n",
       "      <td>RS</td>\n",
       "    </tr>\n",
       "    <tr>\n",
       "      <th>1000162</th>\n",
       "      <td>99950</td>\n",
       "      <td>-28.070104</td>\n",
       "      <td>-52.018658</td>\n",
       "      <td>tapejara</td>\n",
       "      <td>RS</td>\n",
       "    </tr>\n",
       "  </tbody>\n",
       "</table>\n",
       "<p>1000163 rows × 5 columns</p>\n",
       "</div>"
      ],
      "text/plain": [
       "         cografi_id      enlem     boylam            sehir eyalet\n",
       "0              1037 -23.545621 -46.639292        sao paulo     SP\n",
       "1              1046 -23.546081 -46.644820        sao paulo     SP\n",
       "2              1046 -23.546129 -46.642951        sao paulo     SP\n",
       "3              1041 -23.544392 -46.639499        sao paulo     SP\n",
       "4              1035 -23.541578 -46.641607        sao paulo     SP\n",
       "...             ...        ...        ...              ...    ...\n",
       "1000158       99950 -28.068639 -52.010705         tapejara     RS\n",
       "1000159       99900 -27.877125 -52.224882   getulio vargas     RS\n",
       "1000160       99950 -28.071855 -52.014716         tapejara     RS\n",
       "1000161       99980 -28.388932 -51.846871  david canabarro     RS\n",
       "1000162       99950 -28.070104 -52.018658         tapejara     RS\n",
       "\n",
       "[1000163 rows x 5 columns]"
      ]
     },
     "execution_count": 701,
     "metadata": {},
     "output_type": "execute_result"
    }
   ],
   "source": [
    "geolocation_data.rename(columns = { 'geolocation_zip_code_prefix': 'cografi_id',\n",
    "                                    'geolocation_lat':             'enlem',\n",
    "                                    'geolocation_lng':             'boylam',\n",
    "                                    'geolocation_city':            'sehir',\n",
    "                                    'geolocation_state':           'eyalet',\n",
    "                                    }, inplace = True)\n",
    "\n",
    "geolocation_data"
   ]
  },
  {
   "cell_type": "code",
   "execution_count": 831,
   "metadata": {},
   "outputs": [
    {
     "data": {
      "image/png": "[encoded data removed]",
      "text/plain": [
       "<Figure size 432x288 with 1 Axes>"
      ]
     },
     "metadata": {
      "needs_background": "light"
     },
     "output_type": "display_data"
    },
    {
     "name": "stdout",
     "output_type": "stream",
     "text": [
      "sehir:\n",
      "sao paulo                135800\n",
      "rio de janeiro            62151\n",
      "belo horizonte            27805\n",
      "são paulo                 24918\n",
      "curitiba                  16593\n",
      "porto alegre              13521\n",
      "salvador                  11865\n",
      "guarulhos                 11340\n",
      "brasilia                  10470\n",
      "sao bernardo do campo      8112\n",
      "Name: sehir, dtype: int64\n"
     ]
    },
    {
     "data": {
      "image/png": "[encoded data removed]",
      "text/plain": [
       "<Figure size 432x288 with 1 Axes>"
      ]
     },
     "metadata": {
      "needs_background": "light"
     },
     "output_type": "display_data"
    },
    {
     "name": "stdout",
     "output_type": "stream",
     "text": [
      "eyalet:\n",
      "SP    404268\n",
      "MG    126336\n",
      "RJ    121169\n",
      "RS     61851\n",
      "PR     57859\n",
      "SC     38328\n",
      "BA     36045\n",
      "GO     20139\n",
      "ES     16748\n",
      "PE     16432\n",
      "Name: eyalet, dtype: int64\n"
     ]
    }
   ],
   "source": [
    "def plotBar(degisken, n = 10):   #En çok görülen 10 değer\n",
    "\n",
    "  veri = geolocation_data[degisken]\n",
    "  veri_sayma = veri.value_counts()\n",
    "  veri_sayma = veri_sayma[:n] #İlk n tanesini almak için\n",
    "  plt.figure()\n",
    "  plt.bar(veri_sayma.index, veri_sayma, color = \"khaki\")\n",
    "  plt.xticks(veri_sayma.index, veri_sayma.index.values)\n",
    "  plt.xticks(rotation = 90)\n",
    "  plt.ylabel(\"Frekans\")\n",
    "  plt.title(f\"Veri Sıklığı - {degisken}\")\n",
    "  plt.show()\n",
    "  print(f\"{degisken}:\\n{veri_sayma}\")\n",
    "\n",
    "\n",
    "geo_kategorik_degiskenler = ['sehir', 'eyalet']\n",
    "\n",
    "for i in geo_kategorik_degiskenler:\n",
    "  plotBar(i)"
   ]
  },
  {
   "cell_type": "code",
   "execution_count": 703,
   "metadata": {},
   "outputs": [
    {
     "data": {
      "text/plain": [
       "<AxesSubplot: >"
      ]
     },
     "execution_count": 703,
     "metadata": {},
     "output_type": "execute_result"
    },
    {
     "data": {
      "image/png": "[encoded data removed]",
      "text/plain": [
       "<Figure size 720x432 with 1 Axes>"
      ]
     },
     "metadata": {
      "needs_background": "light"
     },
     "output_type": "display_data"
    }
   ],
   "source": [
    "from shapely.geometry import Point\n",
    "import geopandas as gpd\n",
    "from geopandas import GeoDataFrame\n",
    "\n",
    "geometry = [Point(xy) for xy in zip(geolocation_data['boylam'], geolocation_data['enlem'])]\n",
    "gdf = GeoDataFrame(geolocation_data, geometry=geometry)   \n",
    "\n",
    "world = gpd.read_file(gpd.datasets.get_path('naturalearth_lowres'))\n",
    "gdf.plot(ax = world.plot(figsize=(10, 6)), marker='o', color='red', markersize=15)"
   ]
  },
  {
   "cell_type": "markdown",
   "metadata": {},
   "source": [
    "### **3. items_data**"
   ]
  },
  {
   "cell_type": "code",
   "execution_count": 705,
   "metadata": {},
   "outputs": [
    {
     "name": "stdout",
     "output_type": "stream",
     "text": [
      "••••••••••••••••••  Veri Seti Hakkında Özet Bilgiler  ••••••••••••••••••\n",
      "<class 'pandas.core.frame.DataFrame'>\n",
      "RangeIndex: 112650 entries, 0 to 112649\n",
      "Data columns (total 7 columns):\n",
      " #   Column               Non-Null Count   Dtype  \n",
      "---  ------               --------------   -----  \n",
      " 0   order_id             112650 non-null  object \n",
      " 1   order_item_id        112650 non-null  int64  \n",
      " 2   product_id           112650 non-null  object \n",
      " 3   seller_id            112650 non-null  object \n",
      " 4   shipping_limit_date  112650 non-null  object \n",
      " 5   price                112650 non-null  float64\n",
      " 6   freight_value        112650 non-null  float64\n",
      "dtypes: float64(2), int64(1), object(4)\n",
      "memory usage: 6.0+ MB\n",
      "\n",
      "\n",
      "••••••••••••••••  Veri setindeki gözlem ve değişken sayısı:  (112650, 7)\n",
      "\n",
      "\n",
      "•••••••••••••••••••••••••  Boş Değer Kontrolü  •••••••••••••••••••••••••\n",
      "order_id               0\n",
      "order_item_id          0\n",
      "product_id             0\n",
      "seller_id              0\n",
      "shipping_limit_date    0\n",
      "price                  0\n",
      "freight_value          0\n",
      "dtype: int64\n"
     ]
    }
   ],
   "source": [
    "info_func(items_data)"
   ]
  },
  {
   "cell_type": "code",
   "execution_count": 704,
   "metadata": {},
   "outputs": [
    {
     "data": {
      "text/html": [
       "<div>\n",
       "<style scoped>\n",
       "    .dataframe tbody tr th:only-of-type {\n",
       "        vertical-align: middle;\n",
       "    }\n",
       "\n",
       "    .dataframe tbody tr th {\n",
       "        vertical-align: top;\n",
       "    }\n",
       "\n",
       "    .dataframe thead th {\n",
       "        text-align: right;\n",
       "    }\n",
       "</style>\n",
       "<table border=\"1\" class=\"dataframe\">\n",
       "  <thead>\n",
       "    <tr style=\"text-align: right;\">\n",
       "      <th></th>\n",
       "      <th>order_id</th>\n",
       "      <th>order_item_id</th>\n",
       "      <th>product_id</th>\n",
       "      <th>seller_id</th>\n",
       "      <th>shipping_limit_date</th>\n",
       "      <th>price</th>\n",
       "      <th>freight_value</th>\n",
       "    </tr>\n",
       "  </thead>\n",
       "  <tbody>\n",
       "    <tr>\n",
       "      <th>0</th>\n",
       "      <td>00010242fe8c5a6d1ba2dd792cb16214</td>\n",
       "      <td>1</td>\n",
       "      <td>4244733e06e7ecb4970a6e2683c13e61</td>\n",
       "      <td>48436dade18ac8b2bce089ec2a041202</td>\n",
       "      <td>2017-09-19 09:45:35</td>\n",
       "      <td>58.90</td>\n",
       "      <td>13.29</td>\n",
       "    </tr>\n",
       "    <tr>\n",
       "      <th>1</th>\n",
       "      <td>00018f77f2f0320c557190d7a144bdd3</td>\n",
       "      <td>1</td>\n",
       "      <td>e5f2d52b802189ee658865ca93d83a8f</td>\n",
       "      <td>dd7ddc04e1b6c2c614352b383efe2d36</td>\n",
       "      <td>2017-05-03 11:05:13</td>\n",
       "      <td>239.90</td>\n",
       "      <td>19.93</td>\n",
       "    </tr>\n",
       "    <tr>\n",
       "      <th>2</th>\n",
       "      <td>000229ec398224ef6ca0657da4fc703e</td>\n",
       "      <td>1</td>\n",
       "      <td>c777355d18b72b67abbeef9df44fd0fd</td>\n",
       "      <td>5b51032eddd242adc84c38acab88f23d</td>\n",
       "      <td>2018-01-18 14:48:30</td>\n",
       "      <td>199.00</td>\n",
       "      <td>17.87</td>\n",
       "    </tr>\n",
       "    <tr>\n",
       "      <th>3</th>\n",
       "      <td>00024acbcdf0a6daa1e931b038114c75</td>\n",
       "      <td>1</td>\n",
       "      <td>7634da152a4610f1595efa32f14722fc</td>\n",
       "      <td>9d7a1d34a5052409006425275ba1c2b4</td>\n",
       "      <td>2018-08-15 10:10:18</td>\n",
       "      <td>12.99</td>\n",
       "      <td>12.79</td>\n",
       "    </tr>\n",
       "    <tr>\n",
       "      <th>4</th>\n",
       "      <td>00042b26cf59d7ce69dfabb4e55b4fd9</td>\n",
       "      <td>1</td>\n",
       "      <td>ac6c3623068f30de03045865e4e10089</td>\n",
       "      <td>df560393f3a51e74553ab94004ba5c87</td>\n",
       "      <td>2017-02-13 13:57:51</td>\n",
       "      <td>199.90</td>\n",
       "      <td>18.14</td>\n",
       "    </tr>\n",
       "  </tbody>\n",
       "</table>\n",
       "</div>"
      ],
      "text/plain": [
       "                           order_id  order_item_id  \\\n",
       "0  00010242fe8c5a6d1ba2dd792cb16214              1   \n",
       "1  00018f77f2f0320c557190d7a144bdd3              1   \n",
       "2  000229ec398224ef6ca0657da4fc703e              1   \n",
       "3  00024acbcdf0a6daa1e931b038114c75              1   \n",
       "4  00042b26cf59d7ce69dfabb4e55b4fd9              1   \n",
       "\n",
       "                         product_id                         seller_id  \\\n",
       "0  4244733e06e7ecb4970a6e2683c13e61  48436dade18ac8b2bce089ec2a041202   \n",
       "1  e5f2d52b802189ee658865ca93d83a8f  dd7ddc04e1b6c2c614352b383efe2d36   \n",
       "2  c777355d18b72b67abbeef9df44fd0fd  5b51032eddd242adc84c38acab88f23d   \n",
       "3  7634da152a4610f1595efa32f14722fc  9d7a1d34a5052409006425275ba1c2b4   \n",
       "4  ac6c3623068f30de03045865e4e10089  df560393f3a51e74553ab94004ba5c87   \n",
       "\n",
       "   shipping_limit_date   price  freight_value  \n",
       "0  2017-09-19 09:45:35   58.90          13.29  \n",
       "1  2017-05-03 11:05:13  239.90          19.93  \n",
       "2  2018-01-18 14:48:30  199.00          17.87  \n",
       "3  2018-08-15 10:10:18   12.99          12.79  \n",
       "4  2017-02-13 13:57:51  199.90          18.14  "
      ]
     },
     "execution_count": 704,
     "metadata": {},
     "output_type": "execute_result"
    }
   ],
   "source": [
    "items_data.head()"
   ]
  },
  {
   "cell_type": "code",
   "execution_count": 706,
   "metadata": {},
   "outputs": [
    {
     "data": {
      "text/plain": [
       "order_id               0\n",
       "order_item_id          0\n",
       "product_id             0\n",
       "seller_id              0\n",
       "shipping_limit_date    0\n",
       "price                  0\n",
       "freight_value          0\n",
       "dtype: int64"
      ]
     },
     "execution_count": 706,
     "metadata": {},
     "output_type": "execute_result"
    }
   ],
   "source": [
    "items_data.isnull().sum()"
   ]
  },
  {
   "cell_type": "markdown",
   "metadata": {},
   "source": [
    "##### 3.1 - Sütun İsimlerinin Düzenlenmesi"
   ]
  },
  {
   "cell_type": "code",
   "execution_count": 707,
   "metadata": {},
   "outputs": [
    {
     "data": {
      "text/html": [
       "<div>\n",
       "<style scoped>\n",
       "    .dataframe tbody tr th:only-of-type {\n",
       "        vertical-align: middle;\n",
       "    }\n",
       "\n",
       "    .dataframe tbody tr th {\n",
       "        vertical-align: top;\n",
       "    }\n",
       "\n",
       "    .dataframe thead th {\n",
       "        text-align: right;\n",
       "    }\n",
       "</style>\n",
       "<table border=\"1\" class=\"dataframe\">\n",
       "  <thead>\n",
       "    <tr style=\"text-align: right;\">\n",
       "      <th></th>\n",
       "      <th>siparis_id</th>\n",
       "      <th>siparis_adet</th>\n",
       "      <th>urun_id</th>\n",
       "      <th>satici_id</th>\n",
       "      <th>nakliye_son_tarih</th>\n",
       "      <th>urun_fiyat</th>\n",
       "      <th>nakliye_ucreti</th>\n",
       "    </tr>\n",
       "  </thead>\n",
       "  <tbody>\n",
       "    <tr>\n",
       "      <th>0</th>\n",
       "      <td>00010242fe8c5a6d1ba2dd792cb16214</td>\n",
       "      <td>1</td>\n",
       "      <td>4244733e06e7ecb4970a6e2683c13e61</td>\n",
       "      <td>48436dade18ac8b2bce089ec2a041202</td>\n",
       "      <td>2017-09-19 09:45:35</td>\n",
       "      <td>58.9</td>\n",
       "      <td>13.29</td>\n",
       "    </tr>\n",
       "    <tr>\n",
       "      <th>1</th>\n",
       "      <td>00018f77f2f0320c557190d7a144bdd3</td>\n",
       "      <td>1</td>\n",
       "      <td>e5f2d52b802189ee658865ca93d83a8f</td>\n",
       "      <td>dd7ddc04e1b6c2c614352b383efe2d36</td>\n",
       "      <td>2017-05-03 11:05:13</td>\n",
       "      <td>239.9</td>\n",
       "      <td>19.93</td>\n",
       "    </tr>\n",
       "  </tbody>\n",
       "</table>\n",
       "</div>"
      ],
      "text/plain": [
       "                         siparis_id  siparis_adet  \\\n",
       "0  00010242fe8c5a6d1ba2dd792cb16214             1   \n",
       "1  00018f77f2f0320c557190d7a144bdd3             1   \n",
       "\n",
       "                            urun_id                         satici_id  \\\n",
       "0  4244733e06e7ecb4970a6e2683c13e61  48436dade18ac8b2bce089ec2a041202   \n",
       "1  e5f2d52b802189ee658865ca93d83a8f  dd7ddc04e1b6c2c614352b383efe2d36   \n",
       "\n",
       "     nakliye_son_tarih  urun_fiyat  nakliye_ucreti  \n",
       "0  2017-09-19 09:45:35        58.9           13.29  \n",
       "1  2017-05-03 11:05:13       239.9           19.93  "
      ]
     },
     "execution_count": 707,
     "metadata": {},
     "output_type": "execute_result"
    }
   ],
   "source": [
    "items_data.rename(columns = {'order_id':            'siparis_id',\n",
    "                            'order_item_id':        'siparis_adet',\n",
    "                            'product_id':           'urun_id',\n",
    "                            'seller_id':            'satici_id',\n",
    "                            'shipping_limit_date':  'nakliye_son_tarih',\n",
    "                            'price':                'urun_fiyat',\n",
    "                            'freight_value':        'nakliye_ucreti'\n",
    "                            }, inplace = True)\n",
    "\n",
    "items_data.head(2)"
   ]
  },
  {
   "cell_type": "code",
   "execution_count": 832,
   "metadata": {},
   "outputs": [
    {
     "name": "stdout",
     "output_type": "stream",
     "text": [
      "Ortalama nakliye ücreti:  20.0\n"
     ]
    }
   ],
   "source": [
    "#Ortalama nakliye ücreti:\n",
    "\n",
    "ort_nakliye_ucreti = np.round(items_data[\"nakliye_ucreti\"].mean())\n",
    "print(\"Ortalama nakliye ücreti: \", ort_nakliye_ucreti)"
   ]
  },
  {
   "cell_type": "code",
   "execution_count": 833,
   "metadata": {},
   "outputs": [
    {
     "name": "stdout",
     "output_type": "stream",
     "text": [
      "Ortalama ürün fiyatı:  121.0\n"
     ]
    }
   ],
   "source": [
    "#Ürünlerin ortalama fiyatı:\n",
    "\n",
    "ort_urun_fiyat = np.round(items_data[\"urun_fiyat\"].mean())\n",
    "print(\"Ortalama ürün fiyatı: \", ort_urun_fiyat)"
   ]
  },
  {
   "cell_type": "code",
   "execution_count": 710,
   "metadata": {},
   "outputs": [
    {
     "data": {
      "text/plain": [
       "siparis_id            object\n",
       "siparis_adet           int64\n",
       "urun_id               object\n",
       "satici_id             object\n",
       "nakliye_son_tarih     object\n",
       "urun_fiyat           float64\n",
       "nakliye_ucreti       float64\n",
       "dtype: object"
      ]
     },
     "execution_count": 710,
     "metadata": {},
     "output_type": "execute_result"
    }
   ],
   "source": [
    "items_data.dtypes"
   ]
  },
  {
   "cell_type": "code",
   "execution_count": 824,
   "metadata": {},
   "outputs": [
    {
     "data": {
      "image/png": "[encoded data removed]",
      "text/plain": [
       "<Figure size 432x288 with 1 Axes>"
      ]
     },
     "metadata": {
      "needs_background": "light"
     },
     "output_type": "display_data"
    },
    {
     "name": "stdout",
     "output_type": "stream",
     "text": [
      "siparis_id:\n",
      "8272b63d03f5f79c56e9e4120aec44ef    21\n",
      "1b15974a0141d54e36626dca3fdc731a    20\n",
      "ab14fdcfbe524636d65ee38360e22ce8    20\n",
      "9ef13efd6949e4573a18964dd1bbe7f5    15\n",
      "428a2f660dc84138d969ccd69a0ab6d5    15\n",
      "9bdc4d4c71aa1de4606060929dee888c    14\n",
      "73c8ab38f07dc94389065f7eba4f297a    14\n",
      "37ee401157a3a0b28c9c6d0ed8c3b24b    13\n",
      "2c2a19b5703863c908512d135aa6accc    12\n",
      "c05d6a79e55da72ca780ce90364abed9    12\n",
      "Name: siparis_id, dtype: int64\n"
     ]
    },
    {
     "data": {
      "image/png": "[encoded data removed]",
      "text/plain": [
       "<Figure size 432x288 with 1 Axes>"
      ]
     },
     "metadata": {
      "needs_background": "light"
     },
     "output_type": "display_data"
    },
    {
     "name": "stdout",
     "output_type": "stream",
     "text": [
      "urun_id:\n",
      "aca2eb7d00ea1a7b8ebd4e68314663af    527\n",
      "99a4788cb24856965c36a24e339b6058    488\n",
      "422879e10f46682990de24d770e7f83d    484\n",
      "389d119b48cf3043d311335e499d9c6b    392\n",
      "368c6c730842d78016ad823897a372db    388\n",
      "53759a2ecddad2bb87a079a1f1519f73    373\n",
      "d1c427060a0f73f6b889a5c7c61f2ac4    343\n",
      "53b36df67ebb7c41585e8d54d6772e08    323\n",
      "154e7e31ebfa092203795c972e5804a6    281\n",
      "3dd2a17168ec895c781a9191c1e95ad7    274\n",
      "Name: urun_id, dtype: int64\n"
     ]
    },
    {
     "data": {
      "image/png": "[encoded data removed]",
      "text/plain": [
       "<Figure size 432x288 with 1 Axes>"
      ]
     },
     "metadata": {
      "needs_background": "light"
     },
     "output_type": "display_data"
    },
    {
     "name": "stdout",
     "output_type": "stream",
     "text": [
      "satici_id:\n",
      "6560211a19b47992c3666cc44a7e94c0    2033\n",
      "4a3ca9315b744ce9f8e9374361493884    1987\n",
      "1f50f920176fa81dab994f9023523100    1931\n",
      "cc419e0650a3c5ba77189a1882b7556a    1775\n",
      "da8622b14eb17ae2831f4ac5b9dab84a    1551\n",
      "955fee9216a65b617aa5c0531780ce60    1499\n",
      "1025f0e2d44d7041d6cf58b6550e0bfa    1428\n",
      "7c67e1448b00f6e969d365cea6b010ab    1364\n",
      "ea8482cd71df3c1969d7b9473ff13abc    1203\n",
      "7a67c85e85bb2ce8582c35f2203ad736    1171\n",
      "Name: satici_id, dtype: int64\n"
     ]
    }
   ],
   "source": [
    "def plotBar(degisken, n = 10):   #En çok görülen 10 değer\n",
    "\n",
    "  veri = items_data[degisken]\n",
    "  veri_sayma = veri.value_counts()\n",
    "  veri_sayma = veri_sayma[:n] #İlk n tanesini almak için\n",
    "  plt.figure()\n",
    "  plt.bar(veri_sayma.index, veri_sayma, color = \"mistyrose\")\n",
    "  plt.xticks(veri_sayma.index, veri_sayma.index.values)\n",
    "  plt.xticks(rotation = 90)\n",
    "  plt.ylabel(\"Frekans\")\n",
    "  plt.title(f\"Veri Sıklığı - {degisken}\")\n",
    "  plt.show()\n",
    "  print(f\"{degisken}:\\n{veri_sayma}\")\n",
    "\n",
    "\n",
    "urun_kategorik_degiskenler = ['siparis_id', 'urun_id', 'satici_id']\n",
    "\n",
    "for i in urun_kategorik_degiskenler:\n",
    "  plotBar(i)"
   ]
  },
  {
   "cell_type": "code",
   "execution_count": 713,
   "metadata": {},
   "outputs": [
    {
     "data": {
      "image/png": "[encoded data removed]",
      "text/plain": [
       "<Figure size 432x288 with 1 Axes>"
      ]
     },
     "metadata": {
      "needs_background": "light"
     },
     "output_type": "display_data"
    },
    {
     "name": "stdout",
     "output_type": "stream",
     "text": [
      "siparis_adet:\n",
      "1    98666\n",
      "2     9803\n",
      "3     2287\n",
      "4      965\n",
      "5      460\n",
      "Name: siparis_adet, dtype: int64\n"
     ]
    },
    {
     "data": {
      "image/png": "[encoded data removed]",
      "text/plain": [
       "<Figure size 432x288 with 1 Axes>"
      ]
     },
     "metadata": {
      "needs_background": "light"
     },
     "output_type": "display_data"
    },
    {
     "name": "stdout",
     "output_type": "stream",
     "text": [
      "urun_fiyat:\n",
      "59.90     2481\n",
      "69.90     1987\n",
      "49.90     1953\n",
      "89.90     1548\n",
      "99.90     1432\n",
      "          ... \n",
      "196.90       4\n",
      "84.80        4\n",
      "669.65       4\n",
      "116.50       4\n",
      "5.00         4\n",
      "Name: urun_fiyat, Length: 2103, dtype: int64\n"
     ]
    },
    {
     "data": {
      "image/png": "[encoded data removed]",
      "text/plain": [
       "<Figure size 432x288 with 1 Axes>"
      ]
     },
     "metadata": {
      "needs_background": "light"
     },
     "output_type": "display_data"
    },
    {
     "name": "stdout",
     "output_type": "stream",
     "text": [
      "nakliye_ucreti:\n",
      "15.10    3707\n",
      "7.78     2262\n",
      "14.10    1875\n",
      "11.85    1846\n",
      "18.23    1575\n",
      "         ... \n",
      "55.76       2\n",
      "53.35       2\n",
      "3.71        2\n",
      "90.95       2\n",
      "5.00        2\n",
      "Name: nakliye_ucreti, Length: 4565, dtype: int64\n"
     ]
    }
   ],
   "source": [
    "def plotHistogram(degisken, n=5):\n",
    " \n",
    "  veri = items_data[degisken]\n",
    "  veri_sayma = veri.value_counts()\n",
    "  veri_sayma = veri_sayma[:n] #İlk n tanesini almak için\n",
    "  plt.figure()\n",
    "  plt.hist(items_data[degisken], bins = 85, color = \"salmon\") \n",
    "  plt.xlabel(degisken)\n",
    "  plt.ylabel(\"Frekans\")\n",
    "  plt.title(f\"Veri Sıklığı - {degisken}\")\n",
    "  plt.show()\n",
    "  print(f\"{degisken}:\\n{veri_sayma}\")\n",
    "\n",
    "sayısal_degisken = [\"siparis_adet\", \"urun_fiyat\", \"nakliye_ucreti\"]\n",
    "\n",
    "for i in sayısal_degisken:\n",
    "  plotHistogram(i)"
   ]
  },
  {
   "cell_type": "markdown",
   "metadata": {},
   "source": [
    "### **4. payments_data**"
   ]
  },
  {
   "cell_type": "code",
   "execution_count": 772,
   "metadata": {},
   "outputs": [
    {
     "name": "stdout",
     "output_type": "stream",
     "text": [
      "••••••••••••••••••  Veri Seti Hakkında Özet Bilgiler  ••••••••••••••••••\n",
      "<class 'pandas.core.frame.DataFrame'>\n",
      "RangeIndex: 103886 entries, 0 to 103885\n",
      "Data columns (total 5 columns):\n",
      " #   Column                Non-Null Count   Dtype  \n",
      "---  ------                --------------   -----  \n",
      " 0   order_id              103886 non-null  object \n",
      " 1   payment_sequential    103886 non-null  int64  \n",
      " 2   payment_type          103886 non-null  object \n",
      " 3   payment_installments  103886 non-null  int64  \n",
      " 4   payment_value         103886 non-null  float64\n",
      "dtypes: float64(1), int64(2), object(2)\n",
      "memory usage: 4.0+ MB\n",
      "\n",
      "\n",
      "••••••••••••••••  Veri setindeki gözlem ve değişken sayısı:  (103886, 5)\n",
      "\n",
      "\n",
      "•••••••••••••••••••••••••  Boş Değer Kontrolü  •••••••••••••••••••••••••\n",
      "order_id                0\n",
      "payment_sequential      0\n",
      "payment_type            0\n",
      "payment_installments    0\n",
      "payment_value           0\n",
      "dtype: int64\n"
     ]
    }
   ],
   "source": [
    "info_func(payments_data)"
   ]
  },
  {
   "cell_type": "code",
   "execution_count": 773,
   "metadata": {},
   "outputs": [
    {
     "data": {
      "text/html": [
       "<div>\n",
       "<style scoped>\n",
       "    .dataframe tbody tr th:only-of-type {\n",
       "        vertical-align: middle;\n",
       "    }\n",
       "\n",
       "    .dataframe tbody tr th {\n",
       "        vertical-align: top;\n",
       "    }\n",
       "\n",
       "    .dataframe thead th {\n",
       "        text-align: right;\n",
       "    }\n",
       "</style>\n",
       "<table border=\"1\" class=\"dataframe\">\n",
       "  <thead>\n",
       "    <tr style=\"text-align: right;\">\n",
       "      <th></th>\n",
       "      <th>order_id</th>\n",
       "      <th>payment_sequential</th>\n",
       "      <th>payment_type</th>\n",
       "      <th>payment_installments</th>\n",
       "      <th>payment_value</th>\n",
       "    </tr>\n",
       "  </thead>\n",
       "  <tbody>\n",
       "    <tr>\n",
       "      <th>0</th>\n",
       "      <td>b81ef226f3fe1789b1e8b2acac839d17</td>\n",
       "      <td>1</td>\n",
       "      <td>credit_card</td>\n",
       "      <td>8</td>\n",
       "      <td>99.33</td>\n",
       "    </tr>\n",
       "    <tr>\n",
       "      <th>1</th>\n",
       "      <td>a9810da82917af2d9aefd1278f1dcfa0</td>\n",
       "      <td>1</td>\n",
       "      <td>credit_card</td>\n",
       "      <td>1</td>\n",
       "      <td>24.39</td>\n",
       "    </tr>\n",
       "  </tbody>\n",
       "</table>\n",
       "</div>"
      ],
      "text/plain": [
       "                           order_id  payment_sequential payment_type  \\\n",
       "0  b81ef226f3fe1789b1e8b2acac839d17                   1  credit_card   \n",
       "1  a9810da82917af2d9aefd1278f1dcfa0                   1  credit_card   \n",
       "\n",
       "   payment_installments  payment_value  \n",
       "0                     8          99.33  \n",
       "1                     1          24.39  "
      ]
     },
     "execution_count": 773,
     "metadata": {},
     "output_type": "execute_result"
    }
   ],
   "source": [
    "payments_data.head(2)"
   ]
  },
  {
   "cell_type": "code",
   "execution_count": 774,
   "metadata": {},
   "outputs": [
    {
     "data": {
      "text/plain": [
       "order_id                 object\n",
       "payment_sequential        int64\n",
       "payment_type             object\n",
       "payment_installments      int64\n",
       "payment_value           float64\n",
       "dtype: object"
      ]
     },
     "execution_count": 774,
     "metadata": {},
     "output_type": "execute_result"
    }
   ],
   "source": [
    "payments_data.dtypes"
   ]
  },
  {
   "cell_type": "code",
   "execution_count": 775,
   "metadata": {},
   "outputs": [
    {
     "data": {
      "text/html": [
       "<div>\n",
       "<style scoped>\n",
       "    .dataframe tbody tr th:only-of-type {\n",
       "        vertical-align: middle;\n",
       "    }\n",
       "\n",
       "    .dataframe tbody tr th {\n",
       "        vertical-align: top;\n",
       "    }\n",
       "\n",
       "    .dataframe thead th {\n",
       "        text-align: right;\n",
       "    }\n",
       "</style>\n",
       "<table border=\"1\" class=\"dataframe\">\n",
       "  <thead>\n",
       "    <tr style=\"text-align: right;\">\n",
       "      <th></th>\n",
       "      <th>siparis_id</th>\n",
       "      <th>odeme_seq</th>\n",
       "      <th>odeme_sekli</th>\n",
       "      <th>taksit_sayisi</th>\n",
       "      <th>odeme_degeri</th>\n",
       "    </tr>\n",
       "  </thead>\n",
       "  <tbody>\n",
       "    <tr>\n",
       "      <th>0</th>\n",
       "      <td>b81ef226f3fe1789b1e8b2acac839d17</td>\n",
       "      <td>1</td>\n",
       "      <td>credit_card</td>\n",
       "      <td>8</td>\n",
       "      <td>99.33</td>\n",
       "    </tr>\n",
       "    <tr>\n",
       "      <th>1</th>\n",
       "      <td>a9810da82917af2d9aefd1278f1dcfa0</td>\n",
       "      <td>1</td>\n",
       "      <td>credit_card</td>\n",
       "      <td>1</td>\n",
       "      <td>24.39</td>\n",
       "    </tr>\n",
       "  </tbody>\n",
       "</table>\n",
       "</div>"
      ],
      "text/plain": [
       "                         siparis_id  odeme_seq  odeme_sekli  taksit_sayisi  \\\n",
       "0  b81ef226f3fe1789b1e8b2acac839d17          1  credit_card              8   \n",
       "1  a9810da82917af2d9aefd1278f1dcfa0          1  credit_card              1   \n",
       "\n",
       "   odeme_degeri  \n",
       "0         99.33  \n",
       "1         24.39  "
      ]
     },
     "execution_count": 775,
     "metadata": {},
     "output_type": "execute_result"
    }
   ],
   "source": [
    "payments_data.rename(columns = {'order_id':                 'siparis_id',\n",
    "                                'payment_sequential':       'odeme_seq',\n",
    "                                'payment_type':             'odeme_sekli',\n",
    "                                'payment_installments':     'taksit_sayisi',\n",
    "                                'payment_value':            'odeme_degeri'\n",
    "                                }, inplace = True)\n",
    "\n",
    "payments_data.head(2)"
   ]
  },
  {
   "cell_type": "markdown",
   "metadata": {},
   "source": [
    "* Siparişlerin ortalama değeri:"
   ]
  },
  {
   "cell_type": "code",
   "execution_count": 834,
   "metadata": {},
   "outputs": [
    {
     "name": "stdout",
     "output_type": "stream",
     "text": [
      "Siparişlerin ortalama değeri:  154.0\n"
     ]
    }
   ],
   "source": [
    "siparis_ortalama = np.round(payments_data.odeme_degeri.mean())\n",
    "\n",
    "print(\"Siparişlerin ortalama değeri: \", siparis_ortalama)"
   ]
  },
  {
   "cell_type": "code",
   "execution_count": 770,
   "metadata": {},
   "outputs": [
    {
     "data": {
      "image/png": "[encoded data removed]",
      "text/plain": [
       "<Figure size 432x288 with 1 Axes>"
      ]
     },
     "metadata": {
      "needs_background": "light"
     },
     "output_type": "display_data"
    },
    {
     "name": "stdout",
     "output_type": "stream",
     "text": [
      "siparis_id:\n",
      "fa65dad1b0e818e3ccc5cb0e39231352    29\n",
      "ccf804e764ed5650cd8759557269dc13    26\n",
      "285c2e15bebd4ac83635ccc563dc71f4    22\n",
      "895ab968e7bb0d5659d16cd74cd1650c    21\n",
      "fedcd9f7ccdc8cba3a18defedd1a5547    19\n",
      "ee9ca989fc93ba09a6eddc250ce01742    19\n",
      "4bfcba9e084f46c8e3cb49b0fa6e6159    15\n",
      "21577126c19bf11a0b91592e5844ba78    15\n",
      "3c58bffb70dcf45f12bdf66a3c215905    14\n",
      "4689b1816de42507a7d63a4617383c59    14\n",
      "Name: siparis_id, dtype: int64\n"
     ]
    },
    {
     "data": {
      "image/png": "[encoded data removed]",
      "text/plain": [
       "<Figure size 432x288 with 1 Axes>"
      ]
     },
     "metadata": {
      "needs_background": "light"
     },
     "output_type": "display_data"
    },
    {
     "name": "stdout",
     "output_type": "stream",
     "text": [
      "odeme_sekli:\n",
      "credit_card    76795\n",
      "boleto         19784\n",
      "voucher         5775\n",
      "debit_card      1529\n",
      "not_defined        3\n",
      "Name: odeme_sekli, dtype: int64\n"
     ]
    }
   ],
   "source": [
    "def plotBar(degisken, n = 10):   #En çok görülen 10 değer\n",
    "  \n",
    "  \"\"\"\n",
    "  Girdi: Değişken/sütun ismi\n",
    "  n = Gösterilecek eşsiz, en sık rastlanan değer sayısı\n",
    "  Çıktı: Çubuk grafiği\n",
    "  \"\"\"\n",
    "\n",
    "  veri = payments_data[degisken]\n",
    "  veri_sayma = veri.value_counts()\n",
    "  veri_sayma = veri_sayma[:n] #İlk n tanesini almak için\n",
    "  plt.figure()\n",
    "  plt.bar(veri_sayma.index, veri_sayma, color = \"thistle\")\n",
    "  plt.xticks(veri_sayma.index, veri_sayma.index.values)\n",
    "  plt.xticks(rotation = 90)\n",
    "  plt.ylabel(\"Frekans\")\n",
    "  plt.title(f\"Veri Sıklığı - {degisken}\")\n",
    "  plt.show()\n",
    "  print(f\"{degisken}:\\n{veri_sayma}\")\n",
    "\n",
    "\n",
    "odeme_kategorik_degiskenler = ['siparis_id', 'odeme_sekli']\n",
    "\n",
    "for i in odeme_kategorik_degiskenler:\n",
    "  plotBar(i)"
   ]
  },
  {
   "cell_type": "code",
   "execution_count": 787,
   "metadata": {},
   "outputs": [
    {
     "data": {
      "text/plain": [
       "odeme_sekli\n",
       "boleto         19784\n",
       "credit_card    76795\n",
       "debit_card      1529\n",
       "not_defined        3\n",
       "voucher         5775\n",
       "dtype: int64"
      ]
     },
     "execution_count": 787,
     "metadata": {},
     "output_type": "execute_result"
    }
   ],
   "source": [
    "payments_data.groupby(\"odeme_sekli\").size()"
   ]
  },
  {
   "cell_type": "code",
   "execution_count": 819,
   "metadata": {},
   "outputs": [
    {
     "data": {
      "text/plain": [
       "<AxesSubplot: ylabel='odeme_sekli'>"
      ]
     },
     "execution_count": 819,
     "metadata": {},
     "output_type": "execute_result"
    },
    {
     "data": {
      "image/png": "[encoded data removed]",
      "text/plain": [
       "<Figure size 936x936 with 1 Axes>"
      ]
     },
     "metadata": {},
     "output_type": "display_data"
    }
   ],
   "source": [
    "#Ödeme türlerinin birbirine oranı\n",
    "\n",
    "payments_data['odeme_sekli'].value_counts().plot.pie(autopct='%1.2f%%', figsize=(13, 13))"
   ]
  },
  {
   "cell_type": "code",
   "execution_count": 793,
   "metadata": {},
   "outputs": [
    {
     "data": {
      "text/plain": [
       "taksit_sayisi  odeme_degeri\n",
       "0              58.69           1\n",
       "               129.94          1\n",
       "1              0.07            1\n",
       "               0.09            1\n",
       "               0.16            1\n",
       "                              ..\n",
       "24             756.49          1\n",
       "               771.69          1\n",
       "               1099.00         1\n",
       "               1194.38         1\n",
       "               1440.10         1\n",
       "Name: odeme_degeri, Length: 54530, dtype: int64"
      ]
     },
     "execution_count": 793,
     "metadata": {},
     "output_type": "execute_result"
    }
   ],
   "source": [
    "payments_data.groupby(\"taksit_sayisi\")[\"odeme_degeri\"].value_counts(ascending = True)\n",
    "\n",
    "#Taksit sayısı 24 aya kadar devam ediyor."
   ]
  },
  {
   "cell_type": "code",
   "execution_count": 838,
   "metadata": {},
   "outputs": [
    {
     "data": {
      "text/html": [
       "<div>\n",
       "<style scoped>\n",
       "    .dataframe tbody tr th:only-of-type {\n",
       "        vertical-align: middle;\n",
       "    }\n",
       "\n",
       "    .dataframe tbody tr th {\n",
       "        vertical-align: top;\n",
       "    }\n",
       "\n",
       "    .dataframe thead th {\n",
       "        text-align: right;\n",
       "    }\n",
       "</style>\n",
       "<table border=\"1\" class=\"dataframe\">\n",
       "  <thead>\n",
       "    <tr style=\"text-align: right;\">\n",
       "      <th>taksit_sayisi</th>\n",
       "      <th>0</th>\n",
       "      <th>1</th>\n",
       "      <th>2</th>\n",
       "      <th>3</th>\n",
       "      <th>4</th>\n",
       "      <th>5</th>\n",
       "      <th>6</th>\n",
       "      <th>7</th>\n",
       "      <th>8</th>\n",
       "      <th>9</th>\n",
       "      <th>...</th>\n",
       "      <th>14</th>\n",
       "      <th>15</th>\n",
       "      <th>16</th>\n",
       "      <th>17</th>\n",
       "      <th>18</th>\n",
       "      <th>20</th>\n",
       "      <th>21</th>\n",
       "      <th>22</th>\n",
       "      <th>23</th>\n",
       "      <th>24</th>\n",
       "    </tr>\n",
       "  </thead>\n",
       "  <tbody>\n",
       "    <tr>\n",
       "      <th>count</th>\n",
       "      <td>2.000000</td>\n",
       "      <td>52546.000000</td>\n",
       "      <td>12413.00000</td>\n",
       "      <td>10461.000000</td>\n",
       "      <td>7098.000000</td>\n",
       "      <td>5239.000000</td>\n",
       "      <td>3920.000000</td>\n",
       "      <td>1626.000000</td>\n",
       "      <td>4268.000000</td>\n",
       "      <td>644.000000</td>\n",
       "      <td>...</td>\n",
       "      <td>15.000000</td>\n",
       "      <td>74.000000</td>\n",
       "      <td>5.000000</td>\n",
       "      <td>8.000000</td>\n",
       "      <td>27.000000</td>\n",
       "      <td>17.000000</td>\n",
       "      <td>3.000000</td>\n",
       "      <td>1.00</td>\n",
       "      <td>1.00</td>\n",
       "      <td>18.000000</td>\n",
       "    </tr>\n",
       "    <tr>\n",
       "      <th>mean</th>\n",
       "      <td>94.315000</td>\n",
       "      <td>112.420229</td>\n",
       "      <td>127.22815</td>\n",
       "      <td>142.539317</td>\n",
       "      <td>163.976840</td>\n",
       "      <td>183.465222</td>\n",
       "      <td>209.849952</td>\n",
       "      <td>187.673672</td>\n",
       "      <td>307.737427</td>\n",
       "      <td>203.440870</td>\n",
       "      <td>...</td>\n",
       "      <td>167.962667</td>\n",
       "      <td>445.553108</td>\n",
       "      <td>292.694000</td>\n",
       "      <td>174.602500</td>\n",
       "      <td>486.483333</td>\n",
       "      <td>615.801765</td>\n",
       "      <td>243.700000</td>\n",
       "      <td>228.71</td>\n",
       "      <td>236.48</td>\n",
       "      <td>610.048889</td>\n",
       "    </tr>\n",
       "    <tr>\n",
       "      <th>std</th>\n",
       "      <td>50.381358</td>\n",
       "      <td>177.556132</td>\n",
       "      <td>112.15216</td>\n",
       "      <td>132.786159</td>\n",
       "      <td>172.063538</td>\n",
       "      <td>208.763354</td>\n",
       "      <td>220.513228</td>\n",
       "      <td>201.988654</td>\n",
       "      <td>330.234401</td>\n",
       "      <td>199.236704</td>\n",
       "      <td>...</td>\n",
       "      <td>70.583457</td>\n",
       "      <td>449.540186</td>\n",
       "      <td>211.546161</td>\n",
       "      <td>2.650476</td>\n",
       "      <td>367.222596</td>\n",
       "      <td>483.356363</td>\n",
       "      <td>51.411933</td>\n",
       "      <td>NaN</td>\n",
       "      <td>NaN</td>\n",
       "      <td>342.152398</td>\n",
       "    </tr>\n",
       "    <tr>\n",
       "      <th>min</th>\n",
       "      <td>58.690000</td>\n",
       "      <td>0.000000</td>\n",
       "      <td>20.03000</td>\n",
       "      <td>30.000000</td>\n",
       "      <td>40.000000</td>\n",
       "      <td>49.990000</td>\n",
       "      <td>59.990000</td>\n",
       "      <td>69.970000</td>\n",
       "      <td>37.580000</td>\n",
       "      <td>90.110000</td>\n",
       "      <td>...</td>\n",
       "      <td>139.980000</td>\n",
       "      <td>151.930000</td>\n",
       "      <td>160.120000</td>\n",
       "      <td>170.000000</td>\n",
       "      <td>180.760000</td>\n",
       "      <td>200.080000</td>\n",
       "      <td>212.030000</td>\n",
       "      <td>228.71</td>\n",
       "      <td>236.48</td>\n",
       "      <td>241.420000</td>\n",
       "    </tr>\n",
       "    <tr>\n",
       "      <th>25%</th>\n",
       "      <td>76.502500</td>\n",
       "      <td>43.310000</td>\n",
       "      <td>64.00000</td>\n",
       "      <td>67.220000</td>\n",
       "      <td>71.462500</td>\n",
       "      <td>75.210000</td>\n",
       "      <td>80.190000</td>\n",
       "      <td>76.765000</td>\n",
       "      <td>130.150000</td>\n",
       "      <td>95.317500</td>\n",
       "      <td>...</td>\n",
       "      <td>144.665000</td>\n",
       "      <td>196.500000</td>\n",
       "      <td>164.170000</td>\n",
       "      <td>173.022500</td>\n",
       "      <td>228.770000</td>\n",
       "      <td>274.640000</td>\n",
       "      <td>214.040000</td>\n",
       "      <td>228.71</td>\n",
       "      <td>236.48</td>\n",
       "      <td>330.375000</td>\n",
       "    </tr>\n",
       "    <tr>\n",
       "      <th>50%</th>\n",
       "      <td>94.315000</td>\n",
       "      <td>73.340000</td>\n",
       "      <td>109.42000</td>\n",
       "      <td>110.420000</td>\n",
       "      <td>117.175000</td>\n",
       "      <td>125.970000</td>\n",
       "      <td>138.550000</td>\n",
       "      <td>140.075000</td>\n",
       "      <td>212.695000</td>\n",
       "      <td>99.920000</td>\n",
       "      <td>...</td>\n",
       "      <td>147.070000</td>\n",
       "      <td>255.850000</td>\n",
       "      <td>167.370000</td>\n",
       "      <td>175.100000</td>\n",
       "      <td>335.890000</td>\n",
       "      <td>458.310000</td>\n",
       "      <td>216.050000</td>\n",
       "      <td>228.71</td>\n",
       "      <td>236.48</td>\n",
       "      <td>593.880000</td>\n",
       "    </tr>\n",
       "    <tr>\n",
       "      <th>75%</th>\n",
       "      <td>112.127500</td>\n",
       "      <td>127.367500</td>\n",
       "      <td>155.73000</td>\n",
       "      <td>175.600000</td>\n",
       "      <td>207.297500</td>\n",
       "      <td>223.725000</td>\n",
       "      <td>242.485000</td>\n",
       "      <td>193.390000</td>\n",
       "      <td>358.455000</td>\n",
       "      <td>212.102500</td>\n",
       "      <td>...</td>\n",
       "      <td>149.620000</td>\n",
       "      <td>429.915000</td>\n",
       "      <td>320.760000</td>\n",
       "      <td>176.215000</td>\n",
       "      <td>526.140000</td>\n",
       "      <td>811.320000</td>\n",
       "      <td>259.535000</td>\n",
       "      <td>228.71</td>\n",
       "      <td>236.48</td>\n",
       "      <td>724.777500</td>\n",
       "    </tr>\n",
       "    <tr>\n",
       "      <th>max</th>\n",
       "      <td>129.940000</td>\n",
       "      <td>13664.080000</td>\n",
       "      <td>2442.82000</td>\n",
       "      <td>3256.140000</td>\n",
       "      <td>3126.500000</td>\n",
       "      <td>4809.440000</td>\n",
       "      <td>2828.420000</td>\n",
       "      <td>2094.440000</td>\n",
       "      <td>6929.310000</td>\n",
       "      <td>2116.010000</td>\n",
       "      <td>...</td>\n",
       "      <td>417.450000</td>\n",
       "      <td>2647.760000</td>\n",
       "      <td>651.050000</td>\n",
       "      <td>177.990000</td>\n",
       "      <td>1232.850000</td>\n",
       "      <td>2022.330000</td>\n",
       "      <td>303.020000</td>\n",
       "      <td>228.71</td>\n",
       "      <td>236.48</td>\n",
       "      <td>1440.100000</td>\n",
       "    </tr>\n",
       "  </tbody>\n",
       "</table>\n",
       "<p>8 rows × 24 columns</p>\n",
       "</div>"
      ],
      "text/plain": [
       "taksit_sayisi          0             1            2             3   \\\n",
       "count            2.000000  52546.000000  12413.00000  10461.000000   \n",
       "mean            94.315000    112.420229    127.22815    142.539317   \n",
       "std             50.381358    177.556132    112.15216    132.786159   \n",
       "min             58.690000      0.000000     20.03000     30.000000   \n",
       "25%             76.502500     43.310000     64.00000     67.220000   \n",
       "50%             94.315000     73.340000    109.42000    110.420000   \n",
       "75%            112.127500    127.367500    155.73000    175.600000   \n",
       "max            129.940000  13664.080000   2442.82000   3256.140000   \n",
       "\n",
       "taksit_sayisi           4            5            6            7   \\\n",
       "count          7098.000000  5239.000000  3920.000000  1626.000000   \n",
       "mean            163.976840   183.465222   209.849952   187.673672   \n",
       "std             172.063538   208.763354   220.513228   201.988654   \n",
       "min              40.000000    49.990000    59.990000    69.970000   \n",
       "25%              71.462500    75.210000    80.190000    76.765000   \n",
       "50%             117.175000   125.970000   138.550000   140.075000   \n",
       "75%             207.297500   223.725000   242.485000   193.390000   \n",
       "max            3126.500000  4809.440000  2828.420000  2094.440000   \n",
       "\n",
       "taksit_sayisi           8            9   ...          14           15  \\\n",
       "count          4268.000000   644.000000  ...   15.000000    74.000000   \n",
       "mean            307.737427   203.440870  ...  167.962667   445.553108   \n",
       "std             330.234401   199.236704  ...   70.583457   449.540186   \n",
       "min              37.580000    90.110000  ...  139.980000   151.930000   \n",
       "25%             130.150000    95.317500  ...  144.665000   196.500000   \n",
       "50%             212.695000    99.920000  ...  147.070000   255.850000   \n",
       "75%             358.455000   212.102500  ...  149.620000   429.915000   \n",
       "max            6929.310000  2116.010000  ...  417.450000  2647.760000   \n",
       "\n",
       "taksit_sayisi          16          17           18           20          21  \\\n",
       "count            5.000000    8.000000    27.000000    17.000000    3.000000   \n",
       "mean           292.694000  174.602500   486.483333   615.801765  243.700000   \n",
       "std            211.546161    2.650476   367.222596   483.356363   51.411933   \n",
       "min            160.120000  170.000000   180.760000   200.080000  212.030000   \n",
       "25%            164.170000  173.022500   228.770000   274.640000  214.040000   \n",
       "50%            167.370000  175.100000   335.890000   458.310000  216.050000   \n",
       "75%            320.760000  176.215000   526.140000   811.320000  259.535000   \n",
       "max            651.050000  177.990000  1232.850000  2022.330000  303.020000   \n",
       "\n",
       "taksit_sayisi      22      23           24  \n",
       "count            1.00    1.00    18.000000  \n",
       "mean           228.71  236.48   610.048889  \n",
       "std               NaN     NaN   342.152398  \n",
       "min            228.71  236.48   241.420000  \n",
       "25%            228.71  236.48   330.375000  \n",
       "50%            228.71  236.48   593.880000  \n",
       "75%            228.71  236.48   724.777500  \n",
       "max            228.71  236.48  1440.100000  \n",
       "\n",
       "[8 rows x 24 columns]"
      ]
     },
     "execution_count": 838,
     "metadata": {},
     "output_type": "execute_result"
    }
   ],
   "source": [
    "payments_data.groupby(\"taksit_sayisi\")[\"odeme_degeri\"].describe().T"
   ]
  },
  {
   "cell_type": "markdown",
   "metadata": {},
   "source": [
    "### **5. reviews_data**"
   ]
  },
  {
   "cell_type": "code",
   "execution_count": 719,
   "metadata": {},
   "outputs": [
    {
     "name": "stdout",
     "output_type": "stream",
     "text": [
      "••••••••••••••••••  Veri Seti Hakkında Özet Bilgiler  ••••••••••••••••••\n",
      "<class 'pandas.core.frame.DataFrame'>\n",
      "RangeIndex: 99224 entries, 0 to 99223\n",
      "Data columns (total 7 columns):\n",
      " #   Column                   Non-Null Count  Dtype \n",
      "---  ------                   --------------  ----- \n",
      " 0   review_id                99224 non-null  object\n",
      " 1   order_id                 99224 non-null  object\n",
      " 2   review_score             99224 non-null  int64 \n",
      " 3   review_comment_title     11568 non-null  object\n",
      " 4   review_comment_message   40977 non-null  object\n",
      " 5   review_creation_date     99224 non-null  object\n",
      " 6   review_answer_timestamp  99224 non-null  object\n",
      "dtypes: int64(1), object(6)\n",
      "memory usage: 5.3+ MB\n",
      "\n",
      "\n",
      "••••••••••••••••  Veri setindeki gözlem ve değişken sayısı:  (99224, 7)\n",
      "\n",
      "\n",
      "•••••••••••••••••••••••••  Boş Değer Kontrolü  •••••••••••••••••••••••••\n",
      "review_id                      0\n",
      "order_id                       0\n",
      "review_score                   0\n",
      "review_comment_title       87656\n",
      "review_comment_message     58247\n",
      "review_creation_date           0\n",
      "review_answer_timestamp        0\n",
      "dtype: int64\n"
     ]
    }
   ],
   "source": [
    "info_func(reviews_data)"
   ]
  },
  {
   "cell_type": "code",
   "execution_count": 720,
   "metadata": {},
   "outputs": [
    {
     "data": {
      "text/plain": [
       "review_id                      0\n",
       "order_id                       0\n",
       "review_score                   0\n",
       "review_comment_title       87656\n",
       "review_comment_message     58247\n",
       "review_creation_date           0\n",
       "review_answer_timestamp        0\n",
       "dtype: int64"
      ]
     },
     "execution_count": 720,
     "metadata": {},
     "output_type": "execute_result"
    }
   ],
   "source": [
    "reviews_data.isnull().sum()"
   ]
  },
  {
   "cell_type": "code",
   "execution_count": 721,
   "metadata": {},
   "outputs": [
    {
     "data": {
      "text/plain": [
       "review_id                  object\n",
       "order_id                   object\n",
       "review_score                int64\n",
       "review_comment_title       object\n",
       "review_comment_message     object\n",
       "review_creation_date       object\n",
       "review_answer_timestamp    object\n",
       "dtype: object"
      ]
     },
     "execution_count": 721,
     "metadata": {},
     "output_type": "execute_result"
    }
   ],
   "source": [
    "reviews_data.dtypes"
   ]
  },
  {
   "cell_type": "code",
   "execution_count": 722,
   "metadata": {},
   "outputs": [
    {
     "data": {
      "text/html": [
       "<div>\n",
       "<style scoped>\n",
       "    .dataframe tbody tr th:only-of-type {\n",
       "        vertical-align: middle;\n",
       "    }\n",
       "\n",
       "    .dataframe tbody tr th {\n",
       "        vertical-align: top;\n",
       "    }\n",
       "\n",
       "    .dataframe thead th {\n",
       "        text-align: right;\n",
       "    }\n",
       "</style>\n",
       "<table border=\"1\" class=\"dataframe\">\n",
       "  <thead>\n",
       "    <tr style=\"text-align: right;\">\n",
       "      <th></th>\n",
       "      <th>review_id</th>\n",
       "      <th>order_id</th>\n",
       "      <th>review_score</th>\n",
       "      <th>review_comment_title</th>\n",
       "      <th>review_comment_message</th>\n",
       "      <th>review_creation_date</th>\n",
       "      <th>review_answer_timestamp</th>\n",
       "    </tr>\n",
       "  </thead>\n",
       "  <tbody>\n",
       "    <tr>\n",
       "      <th>0</th>\n",
       "      <td>7bc2406110b926393aa56f80a40eba40</td>\n",
       "      <td>73fc7af87114b39712e6da79b0a377eb</td>\n",
       "      <td>4</td>\n",
       "      <td>NaN</td>\n",
       "      <td>NaN</td>\n",
       "      <td>2018-01-18 00:00:00</td>\n",
       "      <td>2018-01-18 21:46:59</td>\n",
       "    </tr>\n",
       "    <tr>\n",
       "      <th>1</th>\n",
       "      <td>80e641a11e56f04c1ad469d5645fdfde</td>\n",
       "      <td>a548910a1c6147796b98fdf73dbeba33</td>\n",
       "      <td>5</td>\n",
       "      <td>NaN</td>\n",
       "      <td>NaN</td>\n",
       "      <td>2018-03-10 00:00:00</td>\n",
       "      <td>2018-03-11 03:05:13</td>\n",
       "    </tr>\n",
       "    <tr>\n",
       "      <th>2</th>\n",
       "      <td>228ce5500dc1d8e020d8d1322874b6f0</td>\n",
       "      <td>f9e4b658b201a9f2ecdecbb34bed034b</td>\n",
       "      <td>5</td>\n",
       "      <td>NaN</td>\n",
       "      <td>NaN</td>\n",
       "      <td>2018-02-17 00:00:00</td>\n",
       "      <td>2018-02-18 14:36:24</td>\n",
       "    </tr>\n",
       "    <tr>\n",
       "      <th>3</th>\n",
       "      <td>e64fb393e7b32834bb789ff8bb30750e</td>\n",
       "      <td>658677c97b385a9be170737859d3511b</td>\n",
       "      <td>5</td>\n",
       "      <td>NaN</td>\n",
       "      <td>Recebi bem antes do prazo estipulado.</td>\n",
       "      <td>2017-04-21 00:00:00</td>\n",
       "      <td>2017-04-21 22:02:06</td>\n",
       "    </tr>\n",
       "    <tr>\n",
       "      <th>4</th>\n",
       "      <td>f7c4243c7fe1938f181bec41a392bdeb</td>\n",
       "      <td>8e6bfb81e283fa7e4f11123a3fb894f1</td>\n",
       "      <td>5</td>\n",
       "      <td>NaN</td>\n",
       "      <td>Parabéns lojas lannister adorei comprar pela I...</td>\n",
       "      <td>2018-03-01 00:00:00</td>\n",
       "      <td>2018-03-02 10:26:53</td>\n",
       "    </tr>\n",
       "  </tbody>\n",
       "</table>\n",
       "</div>"
      ],
      "text/plain": [
       "                          review_id                          order_id  \\\n",
       "0  7bc2406110b926393aa56f80a40eba40  73fc7af87114b39712e6da79b0a377eb   \n",
       "1  80e641a11e56f04c1ad469d5645fdfde  a548910a1c6147796b98fdf73dbeba33   \n",
       "2  228ce5500dc1d8e020d8d1322874b6f0  f9e4b658b201a9f2ecdecbb34bed034b   \n",
       "3  e64fb393e7b32834bb789ff8bb30750e  658677c97b385a9be170737859d3511b   \n",
       "4  f7c4243c7fe1938f181bec41a392bdeb  8e6bfb81e283fa7e4f11123a3fb894f1   \n",
       "\n",
       "   review_score review_comment_title  \\\n",
       "0             4                  NaN   \n",
       "1             5                  NaN   \n",
       "2             5                  NaN   \n",
       "3             5                  NaN   \n",
       "4             5                  NaN   \n",
       "\n",
       "                              review_comment_message review_creation_date  \\\n",
       "0                                                NaN  2018-01-18 00:00:00   \n",
       "1                                                NaN  2018-03-10 00:00:00   \n",
       "2                                                NaN  2018-02-17 00:00:00   \n",
       "3              Recebi bem antes do prazo estipulado.  2017-04-21 00:00:00   \n",
       "4  Parabéns lojas lannister adorei comprar pela I...  2018-03-01 00:00:00   \n",
       "\n",
       "  review_answer_timestamp  \n",
       "0     2018-01-18 21:46:59  \n",
       "1     2018-03-11 03:05:13  \n",
       "2     2018-02-18 14:36:24  \n",
       "3     2017-04-21 22:02:06  \n",
       "4     2018-03-02 10:26:53  "
      ]
     },
     "execution_count": 722,
     "metadata": {},
     "output_type": "execute_result"
    }
   ],
   "source": [
    "reviews_data.head()"
   ]
  },
  {
   "cell_type": "code",
   "execution_count": 723,
   "metadata": {},
   "outputs": [],
   "source": [
    "yorumlar = reviews_data.copy()"
   ]
  },
  {
   "cell_type": "code",
   "execution_count": 724,
   "metadata": {},
   "outputs": [
    {
     "data": {
      "text/html": [
       "<div>\n",
       "<style scoped>\n",
       "    .dataframe tbody tr th:only-of-type {\n",
       "        vertical-align: middle;\n",
       "    }\n",
       "\n",
       "    .dataframe tbody tr th {\n",
       "        vertical-align: top;\n",
       "    }\n",
       "\n",
       "    .dataframe thead th {\n",
       "        text-align: right;\n",
       "    }\n",
       "</style>\n",
       "<table border=\"1\" class=\"dataframe\">\n",
       "  <thead>\n",
       "    <tr style=\"text-align: right;\">\n",
       "      <th></th>\n",
       "      <th>review_id</th>\n",
       "      <th>order_id</th>\n",
       "      <th>review_score</th>\n",
       "      <th>review_creation_date</th>\n",
       "      <th>review_answer_timestamp</th>\n",
       "    </tr>\n",
       "  </thead>\n",
       "  <tbody>\n",
       "    <tr>\n",
       "      <th>0</th>\n",
       "      <td>7bc2406110b926393aa56f80a40eba40</td>\n",
       "      <td>73fc7af87114b39712e6da79b0a377eb</td>\n",
       "      <td>4</td>\n",
       "      <td>2018-01-18 00:00:00</td>\n",
       "      <td>2018-01-18 21:46:59</td>\n",
       "    </tr>\n",
       "    <tr>\n",
       "      <th>1</th>\n",
       "      <td>80e641a11e56f04c1ad469d5645fdfde</td>\n",
       "      <td>a548910a1c6147796b98fdf73dbeba33</td>\n",
       "      <td>5</td>\n",
       "      <td>2018-03-10 00:00:00</td>\n",
       "      <td>2018-03-11 03:05:13</td>\n",
       "    </tr>\n",
       "    <tr>\n",
       "      <th>2</th>\n",
       "      <td>228ce5500dc1d8e020d8d1322874b6f0</td>\n",
       "      <td>f9e4b658b201a9f2ecdecbb34bed034b</td>\n",
       "      <td>5</td>\n",
       "      <td>2018-02-17 00:00:00</td>\n",
       "      <td>2018-02-18 14:36:24</td>\n",
       "    </tr>\n",
       "    <tr>\n",
       "      <th>3</th>\n",
       "      <td>e64fb393e7b32834bb789ff8bb30750e</td>\n",
       "      <td>658677c97b385a9be170737859d3511b</td>\n",
       "      <td>5</td>\n",
       "      <td>2017-04-21 00:00:00</td>\n",
       "      <td>2017-04-21 22:02:06</td>\n",
       "    </tr>\n",
       "    <tr>\n",
       "      <th>4</th>\n",
       "      <td>f7c4243c7fe1938f181bec41a392bdeb</td>\n",
       "      <td>8e6bfb81e283fa7e4f11123a3fb894f1</td>\n",
       "      <td>5</td>\n",
       "      <td>2018-03-01 00:00:00</td>\n",
       "      <td>2018-03-02 10:26:53</td>\n",
       "    </tr>\n",
       "  </tbody>\n",
       "</table>\n",
       "</div>"
      ],
      "text/plain": [
       "                          review_id                          order_id  \\\n",
       "0  7bc2406110b926393aa56f80a40eba40  73fc7af87114b39712e6da79b0a377eb   \n",
       "1  80e641a11e56f04c1ad469d5645fdfde  a548910a1c6147796b98fdf73dbeba33   \n",
       "2  228ce5500dc1d8e020d8d1322874b6f0  f9e4b658b201a9f2ecdecbb34bed034b   \n",
       "3  e64fb393e7b32834bb789ff8bb30750e  658677c97b385a9be170737859d3511b   \n",
       "4  f7c4243c7fe1938f181bec41a392bdeb  8e6bfb81e283fa7e4f11123a3fb894f1   \n",
       "\n",
       "   review_score review_creation_date review_answer_timestamp  \n",
       "0             4  2018-01-18 00:00:00     2018-01-18 21:46:59  \n",
       "1             5  2018-03-10 00:00:00     2018-03-11 03:05:13  \n",
       "2             5  2018-02-17 00:00:00     2018-02-18 14:36:24  \n",
       "3             5  2017-04-21 00:00:00     2017-04-21 22:02:06  \n",
       "4             5  2018-03-01 00:00:00     2018-03-02 10:26:53  "
      ]
     },
     "execution_count": 724,
     "metadata": {},
     "output_type": "execute_result"
    }
   ],
   "source": [
    "yorumlar.drop([\"review_comment_title\", \"review_comment_message\"], axis = 1, inplace = True)\n",
    "yorumlar.head()"
   ]
  },
  {
   "cell_type": "code",
   "execution_count": 725,
   "metadata": {},
   "outputs": [
    {
     "data": {
      "text/html": [
       "<div>\n",
       "<style scoped>\n",
       "    .dataframe tbody tr th:only-of-type {\n",
       "        vertical-align: middle;\n",
       "    }\n",
       "\n",
       "    .dataframe tbody tr th {\n",
       "        vertical-align: top;\n",
       "    }\n",
       "\n",
       "    .dataframe thead th {\n",
       "        text-align: right;\n",
       "    }\n",
       "</style>\n",
       "<table border=\"1\" class=\"dataframe\">\n",
       "  <thead>\n",
       "    <tr style=\"text-align: right;\">\n",
       "      <th></th>\n",
       "      <th>yorum_id</th>\n",
       "      <th>siparis_id</th>\n",
       "      <th>yorum_puan</th>\n",
       "      <th>yorum_olusturma_tarihi</th>\n",
       "      <th>yoruma_donus_tarihi</th>\n",
       "    </tr>\n",
       "  </thead>\n",
       "  <tbody>\n",
       "    <tr>\n",
       "      <th>0</th>\n",
       "      <td>7bc2406110b926393aa56f80a40eba40</td>\n",
       "      <td>73fc7af87114b39712e6da79b0a377eb</td>\n",
       "      <td>4</td>\n",
       "      <td>2018-01-18 00:00:00</td>\n",
       "      <td>2018-01-18 21:46:59</td>\n",
       "    </tr>\n",
       "    <tr>\n",
       "      <th>1</th>\n",
       "      <td>80e641a11e56f04c1ad469d5645fdfde</td>\n",
       "      <td>a548910a1c6147796b98fdf73dbeba33</td>\n",
       "      <td>5</td>\n",
       "      <td>2018-03-10 00:00:00</td>\n",
       "      <td>2018-03-11 03:05:13</td>\n",
       "    </tr>\n",
       "    <tr>\n",
       "      <th>2</th>\n",
       "      <td>228ce5500dc1d8e020d8d1322874b6f0</td>\n",
       "      <td>f9e4b658b201a9f2ecdecbb34bed034b</td>\n",
       "      <td>5</td>\n",
       "      <td>2018-02-17 00:00:00</td>\n",
       "      <td>2018-02-18 14:36:24</td>\n",
       "    </tr>\n",
       "    <tr>\n",
       "      <th>3</th>\n",
       "      <td>e64fb393e7b32834bb789ff8bb30750e</td>\n",
       "      <td>658677c97b385a9be170737859d3511b</td>\n",
       "      <td>5</td>\n",
       "      <td>2017-04-21 00:00:00</td>\n",
       "      <td>2017-04-21 22:02:06</td>\n",
       "    </tr>\n",
       "    <tr>\n",
       "      <th>4</th>\n",
       "      <td>f7c4243c7fe1938f181bec41a392bdeb</td>\n",
       "      <td>8e6bfb81e283fa7e4f11123a3fb894f1</td>\n",
       "      <td>5</td>\n",
       "      <td>2018-03-01 00:00:00</td>\n",
       "      <td>2018-03-02 10:26:53</td>\n",
       "    </tr>\n",
       "  </tbody>\n",
       "</table>\n",
       "</div>"
      ],
      "text/plain": [
       "                           yorum_id                        siparis_id  \\\n",
       "0  7bc2406110b926393aa56f80a40eba40  73fc7af87114b39712e6da79b0a377eb   \n",
       "1  80e641a11e56f04c1ad469d5645fdfde  a548910a1c6147796b98fdf73dbeba33   \n",
       "2  228ce5500dc1d8e020d8d1322874b6f0  f9e4b658b201a9f2ecdecbb34bed034b   \n",
       "3  e64fb393e7b32834bb789ff8bb30750e  658677c97b385a9be170737859d3511b   \n",
       "4  f7c4243c7fe1938f181bec41a392bdeb  8e6bfb81e283fa7e4f11123a3fb894f1   \n",
       "\n",
       "   yorum_puan yorum_olusturma_tarihi  yoruma_donus_tarihi  \n",
       "0           4    2018-01-18 00:00:00  2018-01-18 21:46:59  \n",
       "1           5    2018-03-10 00:00:00  2018-03-11 03:05:13  \n",
       "2           5    2018-02-17 00:00:00  2018-02-18 14:36:24  \n",
       "3           5    2017-04-21 00:00:00  2017-04-21 22:02:06  \n",
       "4           5    2018-03-01 00:00:00  2018-03-02 10:26:53  "
      ]
     },
     "execution_count": 725,
     "metadata": {},
     "output_type": "execute_result"
    }
   ],
   "source": [
    "yorumlar.rename(columns = {'review_id':                 'yorum_id',\n",
    "                           'order_id':                  'siparis_id',\n",
    "                           'review_score':              'yorum_puan',\n",
    "                           'review_creation_date':      'yorum_olusturma_tarihi',\n",
    "                           'review_answer_timestamp':   'yoruma_donus_tarihi'\n",
    "                           }, inplace = True)\n",
    "\n",
    "yorumlar.head()"
   ]
  },
  {
   "cell_type": "code",
   "execution_count": 726,
   "metadata": {},
   "outputs": [
    {
     "data": {
      "text/plain": [
       "yorum_id                  object\n",
       "siparis_id                object\n",
       "yorum_puan                 int64\n",
       "yorum_olusturma_tarihi    object\n",
       "yoruma_donus_tarihi       object\n",
       "dtype: object"
      ]
     },
     "execution_count": 726,
     "metadata": {},
     "output_type": "execute_result"
    }
   ],
   "source": [
    "yorumlar.dtypes"
   ]
  },
  {
   "cell_type": "code",
   "execution_count": 727,
   "metadata": {},
   "outputs": [
    {
     "data": {
      "image/png": "[encoded data removed]",
      "text/plain": [
       "<Figure size 432x288 with 1 Axes>"
      ]
     },
     "metadata": {
      "needs_background": "light"
     },
     "output_type": "display_data"
    },
    {
     "name": "stdout",
     "output_type": "stream",
     "text": [
      "yorum_id:\n",
      "7b606b0d57b078384f0b58eac1d41d78    3\n",
      "dbdf1ea31790c8ecfcc6750525661a9b    3\n",
      "32415bbf6e341d5d517080a796f79b5c    3\n",
      "0c76e7a547a531e7bf9f0b99cba071c1    3\n",
      "4219a80ab469e3fc9901437b73da3f75    3\n",
      "abbfacb2964f74f6487c9c10ac46daa6    3\n",
      "e44840754f12fad2b8646712121b349a    3\n",
      "70509c441d994fa03d6c1457930c9024    3\n",
      "2172867fd5b1a55f98fe4608e1547b4b    3\n",
      "832acec9bbf4efe65c3fb6423d8b4ed7    3\n",
      "Name: yorum_id, dtype: int64\n"
     ]
    },
    {
     "data": {
      "image/png": "[encoded data removed]",
      "text/plain": [
       "<Figure size 432x288 with 1 Axes>"
      ]
     },
     "metadata": {
      "needs_background": "light"
     },
     "output_type": "display_data"
    },
    {
     "name": "stdout",
     "output_type": "stream",
     "text": [
      "siparis_id:\n",
      "c88b1d1b157a9999ce368f218a407141    3\n",
      "8e17072ec97ce29f0e1f111e598b0c85    3\n",
      "df56136b8031ecd28e200bb18e6ddb2e    3\n",
      "03c939fd7fd3b38f8485a0f95798f1f6    3\n",
      "5cb890a68b91b6158d69257e4e2bc359    2\n",
      "2143393cca994a4b8235bc1d67ded772    2\n",
      "25320e12b3d6e8f54f17389037588bba    2\n",
      "0176a6846bcb3b0d3aa3116a9a768597    2\n",
      "d9e44c3fd2ce16086619f299e92e12d8    2\n",
      "21cb4961399b846b168d0358100f473b    2\n",
      "Name: siparis_id, dtype: int64\n"
     ]
    },
    {
     "data": {
      "image/png": "[encoded data removed]",
      "text/plain": [
       "<Figure size 432x288 with 1 Axes>"
      ]
     },
     "metadata": {
      "needs_background": "light"
     },
     "output_type": "display_data"
    },
    {
     "name": "stdout",
     "output_type": "stream",
     "text": [
      "yorum_olusturma_tarihi:\n",
      "2017-12-19 00:00:00    463\n",
      "2018-08-28 00:00:00    452\n",
      "2017-12-20 00:00:00    440\n",
      "2018-05-19 00:00:00    434\n",
      "2018-05-15 00:00:00    425\n",
      "2018-08-14 00:00:00    423\n",
      "2018-03-29 00:00:00    421\n",
      "2018-05-22 00:00:00    414\n",
      "2018-05-04 00:00:00    412\n",
      "2018-04-12 00:00:00    408\n",
      "Name: yorum_olusturma_tarihi, dtype: int64\n"
     ]
    },
    {
     "data": {
      "image/png": "[encoded data removed]",
      "text/plain": [
       "<Figure size 432x288 with 1 Axes>"
      ]
     },
     "metadata": {
      "needs_background": "light"
     },
     "output_type": "display_data"
    },
    {
     "name": "stdout",
     "output_type": "stream",
     "text": [
      "yoruma_donus_tarihi:\n",
      "2017-06-15 23:21:05    4\n",
      "2018-02-26 15:53:18    3\n",
      "2018-04-07 21:13:05    3\n",
      "2017-02-21 23:30:22    3\n",
      "2017-08-12 14:35:35    3\n",
      "2018-06-17 23:48:04    3\n",
      "2018-02-23 10:58:06    3\n",
      "2017-06-25 14:04:22    3\n",
      "2018-08-06 00:09:52    3\n",
      "2017-08-30 11:18:29    3\n",
      "Name: yoruma_donus_tarihi, dtype: int64\n"
     ]
    }
   ],
   "source": [
    "def plotBar(degisken, n = 10):   #En çok görülen 10 değer\n",
    "  \n",
    "  \"\"\"\n",
    "  Girdi: Değişken/sütun ismi\n",
    "  n = Gösterilecek eşsiz, en sık rastlanan değer sayısı\n",
    "  Çıktı: Çubuk grafiği\n",
    "  \"\"\"\n",
    "\n",
    "  veri = yorumlar[degisken]\n",
    "  veri_sayma = veri.value_counts()\n",
    "  veri_sayma = veri_sayma[:n] #İlk n tanesini almak için\n",
    "  plt.figure()\n",
    "  plt.bar(veri_sayma.index, veri_sayma, color = \"thistle\")\n",
    "  plt.xticks(veri_sayma.index, veri_sayma.index.values)\n",
    "  plt.xticks(rotation = 90)\n",
    "  plt.ylabel(\"Frekans\")\n",
    "  plt.title(f\"Veri Sıklığı - {degisken}\")\n",
    "  plt.show()\n",
    "  print(f\"{degisken}:\\n{veri_sayma}\")\n",
    "\n",
    "\n",
    "yorum_kategorik_degiskenler = ['yorum_id', 'siparis_id', 'yorum_olusturma_tarihi', 'yoruma_donus_tarihi']\n",
    "\n",
    "for i in yorum_kategorik_degiskenler:\n",
    "  plotBar(i)"
   ]
  },
  {
   "cell_type": "code",
   "execution_count": 728,
   "metadata": {},
   "outputs": [
    {
     "data": {
      "image/png": "[encoded data removed]",
      "text/plain": [
       "<Figure size 432x288 with 1 Axes>"
      ]
     },
     "metadata": {
      "needs_background": "light"
     },
     "output_type": "display_data"
    },
    {
     "name": "stdout",
     "output_type": "stream",
     "text": [
      "0        4\n",
      "1        5\n",
      "2        5\n",
      "3        5\n",
      "4        5\n",
      "        ..\n",
      "99219    5\n",
      "99220    5\n",
      "99221    5\n",
      "99222    4\n",
      "99223    1\n",
      "Name: yorum_puan, Length: 99224, dtype: int64:\n",
      "5    57328\n",
      "4    19142\n",
      "1    11424\n",
      "3     8179\n",
      "2     3151\n",
      "Name: yorum_puan, dtype: int64\n"
     ]
    }
   ],
   "source": [
    "def plotHistogram(degisken, n = 10):\n",
    "  \"\"\"\n",
    "    Girdi: Değişken/sütun ismi\n",
    "    Çıktı: İlgili değişkenin histogramı\n",
    "  \"\"\"\n",
    "\n",
    "  veri_sayma = yorumlar.yorum_puan.value_counts()\n",
    "  veri_sayma = veri_sayma[:n] #İlk n tanesini almak içi \n",
    "  plt.figure()\n",
    "  plt.hist(yorumlar.yorum_puan, bins = 85, color = \"blueviolet\") #bins -> aralık, biz 85 olsun dedik\n",
    "  plt.xlabel(\"puan\")\n",
    "  plt.ylabel(\"Frekans\")\n",
    "  plt.title(\"Veri Sıklığı - puan\")\n",
    "  plt.show()\n",
    "  print(f\"{yorumlar.yorum_puan}:\\n{veri_sayma}\")\n",
    "\n",
    "plotHistogram(yorumlar.yorum_puan)"
   ]
  },
  {
   "cell_type": "markdown",
   "metadata": {},
   "source": [
    "### **6. orders_data**"
   ]
  },
  {
   "cell_type": "code",
   "execution_count": 729,
   "metadata": {},
   "outputs": [
    {
     "name": "stdout",
     "output_type": "stream",
     "text": [
      "••••••••••••••••••  Veri Seti Hakkında Özet Bilgiler  ••••••••••••••••••\n",
      "<class 'pandas.core.frame.DataFrame'>\n",
      "RangeIndex: 99441 entries, 0 to 99440\n",
      "Data columns (total 8 columns):\n",
      " #   Column                         Non-Null Count  Dtype \n",
      "---  ------                         --------------  ----- \n",
      " 0   order_id                       99441 non-null  object\n",
      " 1   customer_id                    99441 non-null  object\n",
      " 2   order_status                   99441 non-null  object\n",
      " 3   order_purchase_timestamp       99441 non-null  object\n",
      " 4   order_approved_at              99281 non-null  object\n",
      " 5   order_delivered_carrier_date   97658 non-null  object\n",
      " 6   order_delivered_customer_date  96476 non-null  object\n",
      " 7   order_estimated_delivery_date  99441 non-null  object\n",
      "dtypes: object(8)\n",
      "memory usage: 6.1+ MB\n",
      "\n",
      "\n",
      "••••••••••••••••  Veri setindeki gözlem ve değişken sayısı:  (99441, 8)\n",
      "\n",
      "\n",
      "•••••••••••••••••••••••••  Boş Değer Kontrolü  •••••••••••••••••••••••••\n",
      "order_id                            0\n",
      "customer_id                         0\n",
      "order_status                        0\n",
      "order_purchase_timestamp            0\n",
      "order_approved_at                 160\n",
      "order_delivered_carrier_date     1783\n",
      "order_delivered_customer_date    2965\n",
      "order_estimated_delivery_date       0\n",
      "dtype: int64\n"
     ]
    }
   ],
   "source": [
    "info_func(orders_data)"
   ]
  },
  {
   "cell_type": "code",
   "execution_count": 730,
   "metadata": {},
   "outputs": [
    {
     "data": {
      "text/html": [
       "<div>\n",
       "<style scoped>\n",
       "    .dataframe tbody tr th:only-of-type {\n",
       "        vertical-align: middle;\n",
       "    }\n",
       "\n",
       "    .dataframe tbody tr th {\n",
       "        vertical-align: top;\n",
       "    }\n",
       "\n",
       "    .dataframe thead th {\n",
       "        text-align: right;\n",
       "    }\n",
       "</style>\n",
       "<table border=\"1\" class=\"dataframe\">\n",
       "  <thead>\n",
       "    <tr style=\"text-align: right;\">\n",
       "      <th></th>\n",
       "      <th>order_id</th>\n",
       "      <th>customer_id</th>\n",
       "      <th>order_status</th>\n",
       "      <th>order_purchase_timestamp</th>\n",
       "      <th>order_approved_at</th>\n",
       "      <th>order_delivered_carrier_date</th>\n",
       "      <th>order_delivered_customer_date</th>\n",
       "      <th>order_estimated_delivery_date</th>\n",
       "    </tr>\n",
       "  </thead>\n",
       "  <tbody>\n",
       "    <tr>\n",
       "      <th>0</th>\n",
       "      <td>e481f51cbdc54678b7cc49136f2d6af7</td>\n",
       "      <td>9ef432eb6251297304e76186b10a928d</td>\n",
       "      <td>delivered</td>\n",
       "      <td>2017-10-02 10:56:33</td>\n",
       "      <td>2017-10-02 11:07:15</td>\n",
       "      <td>2017-10-04 19:55:00</td>\n",
       "      <td>2017-10-10 21:25:13</td>\n",
       "      <td>2017-10-18 00:00:00</td>\n",
       "    </tr>\n",
       "    <tr>\n",
       "      <th>1</th>\n",
       "      <td>53cdb2fc8bc7dce0b6741e2150273451</td>\n",
       "      <td>b0830fb4747a6c6d20dea0b8c802d7ef</td>\n",
       "      <td>delivered</td>\n",
       "      <td>2018-07-24 20:41:37</td>\n",
       "      <td>2018-07-26 03:24:27</td>\n",
       "      <td>2018-07-26 14:31:00</td>\n",
       "      <td>2018-08-07 15:27:45</td>\n",
       "      <td>2018-08-13 00:00:00</td>\n",
       "    </tr>\n",
       "    <tr>\n",
       "      <th>2</th>\n",
       "      <td>47770eb9100c2d0c44946d9cf07ec65d</td>\n",
       "      <td>41ce2a54c0b03bf3443c3d931a367089</td>\n",
       "      <td>delivered</td>\n",
       "      <td>2018-08-08 08:38:49</td>\n",
       "      <td>2018-08-08 08:55:23</td>\n",
       "      <td>2018-08-08 13:50:00</td>\n",
       "      <td>2018-08-17 18:06:29</td>\n",
       "      <td>2018-09-04 00:00:00</td>\n",
       "    </tr>\n",
       "  </tbody>\n",
       "</table>\n",
       "</div>"
      ],
      "text/plain": [
       "                           order_id                       customer_id  \\\n",
       "0  e481f51cbdc54678b7cc49136f2d6af7  9ef432eb6251297304e76186b10a928d   \n",
       "1  53cdb2fc8bc7dce0b6741e2150273451  b0830fb4747a6c6d20dea0b8c802d7ef   \n",
       "2  47770eb9100c2d0c44946d9cf07ec65d  41ce2a54c0b03bf3443c3d931a367089   \n",
       "\n",
       "  order_status order_purchase_timestamp    order_approved_at  \\\n",
       "0    delivered      2017-10-02 10:56:33  2017-10-02 11:07:15   \n",
       "1    delivered      2018-07-24 20:41:37  2018-07-26 03:24:27   \n",
       "2    delivered      2018-08-08 08:38:49  2018-08-08 08:55:23   \n",
       "\n",
       "  order_delivered_carrier_date order_delivered_customer_date  \\\n",
       "0          2017-10-04 19:55:00           2017-10-10 21:25:13   \n",
       "1          2018-07-26 14:31:00           2018-08-07 15:27:45   \n",
       "2          2018-08-08 13:50:00           2018-08-17 18:06:29   \n",
       "\n",
       "  order_estimated_delivery_date  \n",
       "0           2017-10-18 00:00:00  \n",
       "1           2018-08-13 00:00:00  \n",
       "2           2018-09-04 00:00:00  "
      ]
     },
     "execution_count": 730,
     "metadata": {},
     "output_type": "execute_result"
    }
   ],
   "source": [
    "orders_data.head(3)"
   ]
  },
  {
   "cell_type": "code",
   "execution_count": 731,
   "metadata": {},
   "outputs": [
    {
     "data": {
      "text/plain": [
       "order_id                            0\n",
       "customer_id                         0\n",
       "order_status                        0\n",
       "order_purchase_timestamp            0\n",
       "order_approved_at                 160\n",
       "order_delivered_carrier_date     1783\n",
       "order_delivered_customer_date    2965\n",
       "order_estimated_delivery_date       0\n",
       "dtype: int64"
      ]
     },
     "execution_count": 731,
     "metadata": {},
     "output_type": "execute_result"
    }
   ],
   "source": [
    "orders_data.isnull().sum()"
   ]
  },
  {
   "cell_type": "code",
   "execution_count": 732,
   "metadata": {},
   "outputs": [
    {
     "data": {
      "text/plain": [
       "order_id                         object\n",
       "customer_id                      object\n",
       "order_status                     object\n",
       "order_purchase_timestamp         object\n",
       "order_approved_at                object\n",
       "order_delivered_carrier_date     object\n",
       "order_delivered_customer_date    object\n",
       "order_estimated_delivery_date    object\n",
       "dtype: object"
      ]
     },
     "execution_count": 732,
     "metadata": {},
     "output_type": "execute_result"
    }
   ],
   "source": [
    "orders_data.dtypes"
   ]
  },
  {
   "cell_type": "code",
   "execution_count": 733,
   "metadata": {},
   "outputs": [
    {
     "data": {
      "text/html": [
       "<div>\n",
       "<style scoped>\n",
       "    .dataframe tbody tr th:only-of-type {\n",
       "        vertical-align: middle;\n",
       "    }\n",
       "\n",
       "    .dataframe tbody tr th {\n",
       "        vertical-align: top;\n",
       "    }\n",
       "\n",
       "    .dataframe thead th {\n",
       "        text-align: right;\n",
       "    }\n",
       "</style>\n",
       "<table border=\"1\" class=\"dataframe\">\n",
       "  <thead>\n",
       "    <tr style=\"text-align: right;\">\n",
       "      <th></th>\n",
       "      <th>siparis_id</th>\n",
       "      <th>musteri_id</th>\n",
       "      <th>siparis_durumu</th>\n",
       "      <th>siparis_verme_tarihi</th>\n",
       "      <th>siparis_onaylanma_tarihi</th>\n",
       "      <th>siparis_yola_cikis_tarihi</th>\n",
       "      <th>siparis_teslim_tarihi</th>\n",
       "      <th>tahmini_teslim_tarihi</th>\n",
       "    </tr>\n",
       "  </thead>\n",
       "  <tbody>\n",
       "    <tr>\n",
       "      <th>0</th>\n",
       "      <td>e481f51cbdc54678b7cc49136f2d6af7</td>\n",
       "      <td>9ef432eb6251297304e76186b10a928d</td>\n",
       "      <td>delivered</td>\n",
       "      <td>2017-10-02 10:56:33</td>\n",
       "      <td>2017-10-02 11:07:15</td>\n",
       "      <td>2017-10-04 19:55:00</td>\n",
       "      <td>2017-10-10 21:25:13</td>\n",
       "      <td>2017-10-18 00:00:00</td>\n",
       "    </tr>\n",
       "    <tr>\n",
       "      <th>1</th>\n",
       "      <td>53cdb2fc8bc7dce0b6741e2150273451</td>\n",
       "      <td>b0830fb4747a6c6d20dea0b8c802d7ef</td>\n",
       "      <td>delivered</td>\n",
       "      <td>2018-07-24 20:41:37</td>\n",
       "      <td>2018-07-26 03:24:27</td>\n",
       "      <td>2018-07-26 14:31:00</td>\n",
       "      <td>2018-08-07 15:27:45</td>\n",
       "      <td>2018-08-13 00:00:00</td>\n",
       "    </tr>\n",
       "  </tbody>\n",
       "</table>\n",
       "</div>"
      ],
      "text/plain": [
       "                         siparis_id                        musteri_id  \\\n",
       "0  e481f51cbdc54678b7cc49136f2d6af7  9ef432eb6251297304e76186b10a928d   \n",
       "1  53cdb2fc8bc7dce0b6741e2150273451  b0830fb4747a6c6d20dea0b8c802d7ef   \n",
       "\n",
       "  siparis_durumu siparis_verme_tarihi siparis_onaylanma_tarihi  \\\n",
       "0      delivered  2017-10-02 10:56:33      2017-10-02 11:07:15   \n",
       "1      delivered  2018-07-24 20:41:37      2018-07-26 03:24:27   \n",
       "\n",
       "  siparis_yola_cikis_tarihi siparis_teslim_tarihi tahmini_teslim_tarihi  \n",
       "0       2017-10-04 19:55:00   2017-10-10 21:25:13   2017-10-18 00:00:00  \n",
       "1       2018-07-26 14:31:00   2018-08-07 15:27:45   2018-08-13 00:00:00  "
      ]
     },
     "execution_count": 733,
     "metadata": {},
     "output_type": "execute_result"
    }
   ],
   "source": [
    "orders_data.rename(columns = {'order_id':                       'siparis_id',\n",
    "                             'customer_id':                     'musteri_id',\n",
    "                             'order_status':                    'siparis_durumu',\n",
    "                             'order_purchase_timestamp':        'siparis_verme_tarihi',\n",
    "                             'order_approved_at':               'siparis_onaylanma_tarihi',\n",
    "                             'order_delivered_carrier_date':    'siparis_yola_cikis_tarihi',\n",
    "                             'order_delivered_customer_date':   'siparis_teslim_tarihi',\n",
    "                             'order_estimated_delivery_date':   'tahmini_teslim_tarihi'\n",
    "                             }, inplace = True)\n",
    "\n",
    "orders_data.head(2)"
   ]
  },
  {
   "cell_type": "code",
   "execution_count": 734,
   "metadata": {},
   "outputs": [
    {
     "data": {
      "text/html": [
       "<div>\n",
       "<style scoped>\n",
       "    .dataframe tbody tr th:only-of-type {\n",
       "        vertical-align: middle;\n",
       "    }\n",
       "\n",
       "    .dataframe tbody tr th {\n",
       "        vertical-align: top;\n",
       "    }\n",
       "\n",
       "    .dataframe thead th {\n",
       "        text-align: right;\n",
       "    }\n",
       "</style>\n",
       "<table border=\"1\" class=\"dataframe\">\n",
       "  <thead>\n",
       "    <tr style=\"text-align: right;\">\n",
       "      <th></th>\n",
       "      <th>siparis_id</th>\n",
       "      <th>musteri_id</th>\n",
       "      <th>siparis_durumu</th>\n",
       "      <th>siparis_verme_tarihi</th>\n",
       "      <th>siparis_onaylanma_tarihi</th>\n",
       "      <th>siparis_yola_cikis_tarihi</th>\n",
       "      <th>siparis_teslim_tarihi</th>\n",
       "      <th>tahmini_teslim_tarihi</th>\n",
       "    </tr>\n",
       "  </thead>\n",
       "  <tbody>\n",
       "    <tr>\n",
       "      <th>0</th>\n",
       "      <td>e481f51cbdc54678b7cc49136f2d6af7</td>\n",
       "      <td>9ef432eb6251297304e76186b10a928d</td>\n",
       "      <td>delivered</td>\n",
       "      <td>2017-10-02 10:56:33</td>\n",
       "      <td>2017-10-02 11:07:15</td>\n",
       "      <td>2017-10-04 19:55:00</td>\n",
       "      <td>2017-10-10 21:25:13</td>\n",
       "      <td>2017-10-18 00:00:00</td>\n",
       "    </tr>\n",
       "    <tr>\n",
       "      <th>1</th>\n",
       "      <td>53cdb2fc8bc7dce0b6741e2150273451</td>\n",
       "      <td>b0830fb4747a6c6d20dea0b8c802d7ef</td>\n",
       "      <td>delivered</td>\n",
       "      <td>2018-07-24 20:41:37</td>\n",
       "      <td>2018-07-26 03:24:27</td>\n",
       "      <td>2018-07-26 14:31:00</td>\n",
       "      <td>2018-08-07 15:27:45</td>\n",
       "      <td>2018-08-13 00:00:00</td>\n",
       "    </tr>\n",
       "    <tr>\n",
       "      <th>2</th>\n",
       "      <td>47770eb9100c2d0c44946d9cf07ec65d</td>\n",
       "      <td>41ce2a54c0b03bf3443c3d931a367089</td>\n",
       "      <td>delivered</td>\n",
       "      <td>2018-08-08 08:38:49</td>\n",
       "      <td>2018-08-08 08:55:23</td>\n",
       "      <td>2018-08-08 13:50:00</td>\n",
       "      <td>2018-08-17 18:06:29</td>\n",
       "      <td>2018-09-04 00:00:00</td>\n",
       "    </tr>\n",
       "    <tr>\n",
       "      <th>3</th>\n",
       "      <td>949d5b44dbf5de918fe9c16f97b45f8a</td>\n",
       "      <td>f88197465ea7920adcdbec7375364d82</td>\n",
       "      <td>delivered</td>\n",
       "      <td>2017-11-18 19:28:06</td>\n",
       "      <td>2017-11-18 19:45:59</td>\n",
       "      <td>2017-11-22 13:39:59</td>\n",
       "      <td>2017-12-02 00:28:42</td>\n",
       "      <td>2017-12-15 00:00:00</td>\n",
       "    </tr>\n",
       "    <tr>\n",
       "      <th>4</th>\n",
       "      <td>ad21c59c0840e6cb83a9ceb5573f8159</td>\n",
       "      <td>8ab97904e6daea8866dbdbc4fb7aad2c</td>\n",
       "      <td>delivered</td>\n",
       "      <td>2018-02-13 21:18:39</td>\n",
       "      <td>2018-02-13 22:20:29</td>\n",
       "      <td>2018-02-14 19:46:34</td>\n",
       "      <td>2018-02-16 18:17:02</td>\n",
       "      <td>2018-02-26 00:00:00</td>\n",
       "    </tr>\n",
       "    <tr>\n",
       "      <th>...</th>\n",
       "      <td>...</td>\n",
       "      <td>...</td>\n",
       "      <td>...</td>\n",
       "      <td>...</td>\n",
       "      <td>...</td>\n",
       "      <td>...</td>\n",
       "      <td>...</td>\n",
       "      <td>...</td>\n",
       "    </tr>\n",
       "    <tr>\n",
       "      <th>99436</th>\n",
       "      <td>9c5dedf39a927c1b2549525ed64a053c</td>\n",
       "      <td>39bd1228ee8140590ac3aca26f2dfe00</td>\n",
       "      <td>delivered</td>\n",
       "      <td>2017-03-09 09:54:05</td>\n",
       "      <td>2017-03-09 09:54:05</td>\n",
       "      <td>2017-03-10 11:18:03</td>\n",
       "      <td>2017-03-17 15:08:01</td>\n",
       "      <td>2017-03-28 00:00:00</td>\n",
       "    </tr>\n",
       "    <tr>\n",
       "      <th>99437</th>\n",
       "      <td>63943bddc261676b46f01ca7ac2f7bd8</td>\n",
       "      <td>1fca14ff2861355f6e5f14306ff977a7</td>\n",
       "      <td>delivered</td>\n",
       "      <td>2018-02-06 12:58:58</td>\n",
       "      <td>2018-02-06 13:10:37</td>\n",
       "      <td>2018-02-07 23:22:42</td>\n",
       "      <td>2018-02-28 17:37:56</td>\n",
       "      <td>2018-03-02 00:00:00</td>\n",
       "    </tr>\n",
       "    <tr>\n",
       "      <th>99438</th>\n",
       "      <td>83c1379a015df1e13d02aae0204711ab</td>\n",
       "      <td>1aa71eb042121263aafbe80c1b562c9c</td>\n",
       "      <td>delivered</td>\n",
       "      <td>2017-08-27 14:46:43</td>\n",
       "      <td>2017-08-27 15:04:16</td>\n",
       "      <td>2017-08-28 20:52:26</td>\n",
       "      <td>2017-09-21 11:24:17</td>\n",
       "      <td>2017-09-27 00:00:00</td>\n",
       "    </tr>\n",
       "    <tr>\n",
       "      <th>99439</th>\n",
       "      <td>11c177c8e97725db2631073c19f07b62</td>\n",
       "      <td>b331b74b18dc79bcdf6532d51e1637c1</td>\n",
       "      <td>delivered</td>\n",
       "      <td>2018-01-08 21:28:27</td>\n",
       "      <td>2018-01-08 21:36:21</td>\n",
       "      <td>2018-01-12 15:35:03</td>\n",
       "      <td>2018-01-25 23:32:54</td>\n",
       "      <td>2018-02-15 00:00:00</td>\n",
       "    </tr>\n",
       "    <tr>\n",
       "      <th>99440</th>\n",
       "      <td>66dea50a8b16d9b4dee7af250b4be1a5</td>\n",
       "      <td>edb027a75a1449115f6b43211ae02a24</td>\n",
       "      <td>delivered</td>\n",
       "      <td>2018-03-08 20:57:30</td>\n",
       "      <td>2018-03-09 11:20:28</td>\n",
       "      <td>2018-03-09 22:11:59</td>\n",
       "      <td>2018-03-16 13:08:30</td>\n",
       "      <td>2018-04-03 00:00:00</td>\n",
       "    </tr>\n",
       "  </tbody>\n",
       "</table>\n",
       "<p>96461 rows × 8 columns</p>\n",
       "</div>"
      ],
      "text/plain": [
       "                             siparis_id                        musteri_id  \\\n",
       "0      e481f51cbdc54678b7cc49136f2d6af7  9ef432eb6251297304e76186b10a928d   \n",
       "1      53cdb2fc8bc7dce0b6741e2150273451  b0830fb4747a6c6d20dea0b8c802d7ef   \n",
       "2      47770eb9100c2d0c44946d9cf07ec65d  41ce2a54c0b03bf3443c3d931a367089   \n",
       "3      949d5b44dbf5de918fe9c16f97b45f8a  f88197465ea7920adcdbec7375364d82   \n",
       "4      ad21c59c0840e6cb83a9ceb5573f8159  8ab97904e6daea8866dbdbc4fb7aad2c   \n",
       "...                                 ...                               ...   \n",
       "99436  9c5dedf39a927c1b2549525ed64a053c  39bd1228ee8140590ac3aca26f2dfe00   \n",
       "99437  63943bddc261676b46f01ca7ac2f7bd8  1fca14ff2861355f6e5f14306ff977a7   \n",
       "99438  83c1379a015df1e13d02aae0204711ab  1aa71eb042121263aafbe80c1b562c9c   \n",
       "99439  11c177c8e97725db2631073c19f07b62  b331b74b18dc79bcdf6532d51e1637c1   \n",
       "99440  66dea50a8b16d9b4dee7af250b4be1a5  edb027a75a1449115f6b43211ae02a24   \n",
       "\n",
       "      siparis_durumu siparis_verme_tarihi siparis_onaylanma_tarihi  \\\n",
       "0          delivered  2017-10-02 10:56:33      2017-10-02 11:07:15   \n",
       "1          delivered  2018-07-24 20:41:37      2018-07-26 03:24:27   \n",
       "2          delivered  2018-08-08 08:38:49      2018-08-08 08:55:23   \n",
       "3          delivered  2017-11-18 19:28:06      2017-11-18 19:45:59   \n",
       "4          delivered  2018-02-13 21:18:39      2018-02-13 22:20:29   \n",
       "...              ...                  ...                      ...   \n",
       "99436      delivered  2017-03-09 09:54:05      2017-03-09 09:54:05   \n",
       "99437      delivered  2018-02-06 12:58:58      2018-02-06 13:10:37   \n",
       "99438      delivered  2017-08-27 14:46:43      2017-08-27 15:04:16   \n",
       "99439      delivered  2018-01-08 21:28:27      2018-01-08 21:36:21   \n",
       "99440      delivered  2018-03-08 20:57:30      2018-03-09 11:20:28   \n",
       "\n",
       "      siparis_yola_cikis_tarihi siparis_teslim_tarihi tahmini_teslim_tarihi  \n",
       "0           2017-10-04 19:55:00   2017-10-10 21:25:13   2017-10-18 00:00:00  \n",
       "1           2018-07-26 14:31:00   2018-08-07 15:27:45   2018-08-13 00:00:00  \n",
       "2           2018-08-08 13:50:00   2018-08-17 18:06:29   2018-09-04 00:00:00  \n",
       "3           2017-11-22 13:39:59   2017-12-02 00:28:42   2017-12-15 00:00:00  \n",
       "4           2018-02-14 19:46:34   2018-02-16 18:17:02   2018-02-26 00:00:00  \n",
       "...                         ...                   ...                   ...  \n",
       "99436       2017-03-10 11:18:03   2017-03-17 15:08:01   2017-03-28 00:00:00  \n",
       "99437       2018-02-07 23:22:42   2018-02-28 17:37:56   2018-03-02 00:00:00  \n",
       "99438       2017-08-28 20:52:26   2017-09-21 11:24:17   2017-09-27 00:00:00  \n",
       "99439       2018-01-12 15:35:03   2018-01-25 23:32:54   2018-02-15 00:00:00  \n",
       "99440       2018-03-09 22:11:59   2018-03-16 13:08:30   2018-04-03 00:00:00  \n",
       "\n",
       "[96461 rows x 8 columns]"
      ]
     },
     "execution_count": 734,
     "metadata": {},
     "output_type": "execute_result"
    }
   ],
   "source": [
    "siparisler = orders_data.copy()\n",
    "siparisler.dropna(subset=['siparis_onaylanma_tarihi', 'siparis_yola_cikis_tarihi', 'siparis_teslim_tarihi'], axis=0, inplace=True)\n",
    "siparisler"
   ]
  },
  {
   "cell_type": "code",
   "execution_count": 735,
   "metadata": {},
   "outputs": [
    {
     "name": "stdout",
     "output_type": "stream",
     "text": [
      "siparis_id                   0\n",
      "musteri_id                   0\n",
      "siparis_durumu               0\n",
      "siparis_verme_tarihi         0\n",
      "siparis_onaylanma_tarihi     0\n",
      "siparis_yola_cikis_tarihi    0\n",
      "siparis_teslim_tarihi        0\n",
      "tahmini_teslim_tarihi        0\n",
      "dtype: int64\n",
      "Veri setinin eski şekli:  (99441, 8)\n",
      "Veri setinin yeni şekli:  (96461, 8)\n"
     ]
    }
   ],
   "source": [
    "print(siparisler.isnull().sum())\n",
    "\n",
    "print(\"Veri setinin eski şekli: \", orders_data.shape)\n",
    "print(\"Veri setinin yeni şekli: \", siparisler.shape)"
   ]
  },
  {
   "cell_type": "code",
   "execution_count": 736,
   "metadata": {},
   "outputs": [
    {
     "data": {
      "text/plain": [
       "delivered    96455\n",
       "canceled         6\n",
       "Name: siparis_durumu, dtype: int64"
      ]
     },
     "execution_count": 736,
     "metadata": {},
     "output_type": "execute_result"
    }
   ],
   "source": [
    "siparisler.siparis_durumu.value_counts()"
   ]
  },
  {
   "cell_type": "code",
   "execution_count": 737,
   "metadata": {},
   "outputs": [
    {
     "data": {
      "text/plain": [
       "<pandas.core.groupby.generic.SeriesGroupBy object at 0x000002591CF3ACE0>"
      ]
     },
     "execution_count": 737,
     "metadata": {},
     "output_type": "execute_result"
    }
   ],
   "source": [
    "siparisler.groupby(\"siparis_durumu\")[\"siparis_teslim_tarihi\"]"
   ]
  },
  {
   "cell_type": "code",
   "execution_count": 738,
   "metadata": {},
   "outputs": [],
   "source": [
    "from datetime import datetime as dt\n",
    "\n",
    "siparisler['siparis_onay_dk'] = (((pd.to_datetime(siparisler.siparis_onaylanma_tarihi) - pd.to_datetime(siparisler.siparis_verme_tarihi)).dt.seconds) / 60)\n",
    "siparisler['siparis_cikis_gun'] = (pd.to_datetime(siparisler.siparis_yola_cikis_tarihi) - pd.to_datetime(siparisler.siparis_onaylanma_tarihi)).dt.days\n",
    "siparisler['siparis_teslim_gun'] = (pd.to_datetime(siparisler.siparis_teslim_tarihi) - pd.to_datetime(siparisler.siparis_yola_cikis_tarihi)).dt.days\n",
    "siparisler['erken_teslim_gun'] = (pd.to_datetime(siparisler.tahmini_teslim_tarihi) - pd.to_datetime(siparisler.siparis_teslim_tarihi)).dt.days"
   ]
  },
  {
   "cell_type": "code",
   "execution_count": 739,
   "metadata": {},
   "outputs": [
    {
     "name": "stdout",
     "output_type": "stream",
     "text": [
      "Siparişlerin onaylanması için geçen ortalama süre: 236.0 dakika\n",
      "Siparişlerin yola çıkması için geçen ortalama süre: 2.0 gün\n",
      "Siparişlerin teslim edilmesi için geçen ortalama süre: 9.0 gün\n",
      "Tahmini teslim tarihi ile gerçekleşen teslim arasındaki süre: 11.0 gün\n"
     ]
    }
   ],
   "source": [
    "print(f\"Siparişlerin onaylanması için geçen ortalama süre: {np.round(siparisler.siparis_onay_dk.mean())} dakika\")\n",
    "print(f\"Siparişlerin yola çıkması için geçen ortalama süre: {np.round(siparisler.siparis_cikis_gun.mean())} gün\")\n",
    "print(f\"Siparişlerin teslim edilmesi için geçen ortalama süre: {np.round(siparisler.siparis_teslim_gun.mean())} gün\")\n",
    "print(f\"Tahmini teslim tarihi ile gerçekleşen teslim arasındaki süre: {np.round(siparisler.erken_teslim_gun.mean())} gün\")"
   ]
  },
  {
   "cell_type": "markdown",
   "metadata": {},
   "source": [
    "### **7. translations_data**"
   ]
  },
  {
   "cell_type": "code",
   "execution_count": 740,
   "metadata": {},
   "outputs": [],
   "source": [
    "translations_data = pd.read_csv(\"data/product_category_name_translation.csv\")"
   ]
  },
  {
   "cell_type": "code",
   "execution_count": 741,
   "metadata": {},
   "outputs": [
    {
     "name": "stdout",
     "output_type": "stream",
     "text": [
      "••••••••••••••••••  Veri Seti Hakkında Özet Bilgiler  ••••••••••••••••••\n",
      "<class 'pandas.core.frame.DataFrame'>\n",
      "RangeIndex: 71 entries, 0 to 70\n",
      "Data columns (total 2 columns):\n",
      " #   Column                         Non-Null Count  Dtype \n",
      "---  ------                         --------------  ----- \n",
      " 0   product_category_name          71 non-null     object\n",
      " 1   product_category_name_english  71 non-null     object\n",
      "dtypes: object(2)\n",
      "memory usage: 1.2+ KB\n",
      "\n",
      "\n",
      "••••••••••••••••  Veri setindeki gözlem ve değişken sayısı:  (71, 2)\n",
      "\n",
      "\n",
      "•••••••••••••••••••••••••  Boş Değer Kontrolü  •••••••••••••••••••••••••\n",
      "product_category_name            0\n",
      "product_category_name_english    0\n",
      "dtype: int64\n"
     ]
    }
   ],
   "source": [
    "info_func(translations_data)"
   ]
  },
  {
   "cell_type": "code",
   "execution_count": 742,
   "metadata": {},
   "outputs": [
    {
     "data": {
      "text/html": [
       "<div>\n",
       "<style scoped>\n",
       "    .dataframe tbody tr th:only-of-type {\n",
       "        vertical-align: middle;\n",
       "    }\n",
       "\n",
       "    .dataframe tbody tr th {\n",
       "        vertical-align: top;\n",
       "    }\n",
       "\n",
       "    .dataframe thead th {\n",
       "        text-align: right;\n",
       "    }\n",
       "</style>\n",
       "<table border=\"1\" class=\"dataframe\">\n",
       "  <thead>\n",
       "    <tr style=\"text-align: right;\">\n",
       "      <th></th>\n",
       "      <th>urun_kategori_pt</th>\n",
       "      <th>urun_kategori_en</th>\n",
       "      <th>portekizce_ingilizce</th>\n",
       "    </tr>\n",
       "  </thead>\n",
       "  <tbody>\n",
       "    <tr>\n",
       "      <th>0</th>\n",
       "      <td>beleza_saude</td>\n",
       "      <td>health_beauty</td>\n",
       "      <td>beleza_saude : health_beauty</td>\n",
       "    </tr>\n",
       "    <tr>\n",
       "      <th>1</th>\n",
       "      <td>informatica_acessorios</td>\n",
       "      <td>computers_accessories</td>\n",
       "      <td>informatica_acessorios : computers_accessories</td>\n",
       "    </tr>\n",
       "    <tr>\n",
       "      <th>2</th>\n",
       "      <td>automotivo</td>\n",
       "      <td>auto</td>\n",
       "      <td>automotivo : auto</td>\n",
       "    </tr>\n",
       "    <tr>\n",
       "      <th>3</th>\n",
       "      <td>cama_mesa_banho</td>\n",
       "      <td>bed_bath_table</td>\n",
       "      <td>cama_mesa_banho : bed_bath_table</td>\n",
       "    </tr>\n",
       "    <tr>\n",
       "      <th>4</th>\n",
       "      <td>moveis_decoracao</td>\n",
       "      <td>furniture_decor</td>\n",
       "      <td>moveis_decoracao : furniture_decor</td>\n",
       "    </tr>\n",
       "  </tbody>\n",
       "</table>\n",
       "</div>"
      ],
      "text/plain": [
       "         urun_kategori_pt       urun_kategori_en  \\\n",
       "0            beleza_saude          health_beauty   \n",
       "1  informatica_acessorios  computers_accessories   \n",
       "2              automotivo                   auto   \n",
       "3         cama_mesa_banho         bed_bath_table   \n",
       "4        moveis_decoracao        furniture_decor   \n",
       "\n",
       "                             portekizce_ingilizce  \n",
       "0                    beleza_saude : health_beauty  \n",
       "1  informatica_acessorios : computers_accessories  \n",
       "2                               automotivo : auto  \n",
       "3                cama_mesa_banho : bed_bath_table  \n",
       "4              moveis_decoracao : furniture_decor  "
      ]
     },
     "execution_count": 742,
     "metadata": {},
     "output_type": "execute_result"
    }
   ],
   "source": [
    "translations_data.rename(columns = {'product_category_name':           'urun_kategori_pt',\n",
    "                                    'product_category_name_english':   'urun_kategori_en'\n",
    "                                    }, inplace = True)\n",
    "\n",
    "translations_data[\"portekizce_ingilizce\"] = translations_data[\"urun_kategori_pt\"] + \" : \" + translations_data[\"urun_kategori_en\"]\n",
    "translations_data.head()"
   ]
  },
  {
   "cell_type": "code",
   "execution_count": 743,
   "metadata": {},
   "outputs": [
    {
     "data": {
      "text/plain": [
       "'\\n#replace the product categorie names to english\\n#products = pd.read_csv(\"olist_products_dataset.csv\")\\nurunler = products_data.copy()\\n\\n#prod_cat_name_tr = pd.read_csv(\"product_category_name_translation.csv\")\\nceviri = translations_data.copy()\\n\\nurunler = urunler.merge(ceviri, on = \"product_category_name\", how = \\'left\\')\\nurunler.drop(\"product_category_name\", axis = 1, inplace=True)\\nurunler\\n'"
      ]
     },
     "execution_count": 743,
     "metadata": {},
     "output_type": "execute_result"
    }
   ],
   "source": [
    "\"\"\"\n",
    "#replace the product categorie names to english\n",
    "#products = pd.read_csv(\"olist_products_dataset.csv\")\n",
    "urunler = products_data.copy()\n",
    "\n",
    "#prod_cat_name_tr = pd.read_csv(\"product_category_name_translation.csv\")\n",
    "ceviri = translations_data.copy()\n",
    "\n",
    "urunler = urunler.merge(ceviri, on = \"product_category_name\", how = 'left')\n",
    "urunler.drop(\"product_category_name\", axis = 1, inplace=True)\n",
    "urunler\n",
    "\"\"\""
   ]
  },
  {
   "cell_type": "code",
   "execution_count": 744,
   "metadata": {},
   "outputs": [
    {
     "data": {
      "text/plain": [
       "'\\nurunler.isnull().sum()\\nurunler.shape\\n'"
      ]
     },
     "execution_count": 744,
     "metadata": {},
     "output_type": "execute_result"
    }
   ],
   "source": [
    "\"\"\"\n",
    "urunler.isnull().sum()\n",
    "urunler.shape\n",
    "\"\"\""
   ]
  },
  {
   "cell_type": "markdown",
   "metadata": {},
   "source": [
    "### **8. products_data**"
   ]
  },
  {
   "cell_type": "code",
   "execution_count": 745,
   "metadata": {},
   "outputs": [
    {
     "name": "stdout",
     "output_type": "stream",
     "text": [
      "••••••••••••••••••  Veri Seti Hakkında Özet Bilgiler  ••••••••••••••••••\n",
      "<class 'pandas.core.frame.DataFrame'>\n",
      "RangeIndex: 32951 entries, 0 to 32950\n",
      "Data columns (total 9 columns):\n",
      " #   Column                      Non-Null Count  Dtype  \n",
      "---  ------                      --------------  -----  \n",
      " 0   product_id                  32951 non-null  object \n",
      " 1   product_category_name       32341 non-null  object \n",
      " 2   product_name_lenght         32341 non-null  float64\n",
      " 3   product_description_lenght  32341 non-null  float64\n",
      " 4   product_photos_qty          32341 non-null  float64\n",
      " 5   product_weight_g            32949 non-null  float64\n",
      " 6   product_length_cm           32949 non-null  float64\n",
      " 7   product_height_cm           32949 non-null  float64\n",
      " 8   product_width_cm            32949 non-null  float64\n",
      "dtypes: float64(7), object(2)\n",
      "memory usage: 2.3+ MB\n",
      "\n",
      "\n",
      "••••••••••••••••  Veri setindeki gözlem ve değişken sayısı:  (32951, 9)\n",
      "\n",
      "\n",
      "•••••••••••••••••••••••••  Boş Değer Kontrolü  •••••••••••••••••••••••••\n",
      "product_id                      0\n",
      "product_category_name         610\n",
      "product_name_lenght           610\n",
      "product_description_lenght    610\n",
      "product_photos_qty            610\n",
      "product_weight_g                2\n",
      "product_length_cm               2\n",
      "product_height_cm               2\n",
      "product_width_cm                2\n",
      "dtype: int64\n"
     ]
    }
   ],
   "source": [
    "info_func(products_data)"
   ]
  },
  {
   "cell_type": "code",
   "execution_count": 746,
   "metadata": {},
   "outputs": [
    {
     "data": {
      "text/plain": [
       "product_id                      0\n",
       "product_category_name         610\n",
       "product_name_lenght           610\n",
       "product_description_lenght    610\n",
       "product_photos_qty            610\n",
       "product_weight_g                2\n",
       "product_length_cm               2\n",
       "product_height_cm               2\n",
       "product_width_cm                2\n",
       "dtype: int64"
      ]
     },
     "execution_count": 746,
     "metadata": {},
     "output_type": "execute_result"
    }
   ],
   "source": [
    "products_data.isnull().sum()"
   ]
  },
  {
   "cell_type": "code",
   "execution_count": 747,
   "metadata": {},
   "outputs": [
    {
     "data": {
      "text/html": [
       "<div>\n",
       "<style scoped>\n",
       "    .dataframe tbody tr th:only-of-type {\n",
       "        vertical-align: middle;\n",
       "    }\n",
       "\n",
       "    .dataframe tbody tr th {\n",
       "        vertical-align: top;\n",
       "    }\n",
       "\n",
       "    .dataframe thead th {\n",
       "        text-align: right;\n",
       "    }\n",
       "</style>\n",
       "<table border=\"1\" class=\"dataframe\">\n",
       "  <thead>\n",
       "    <tr style=\"text-align: right;\">\n",
       "      <th></th>\n",
       "      <th>product_id</th>\n",
       "      <th>product_category_name</th>\n",
       "      <th>product_name_lenght</th>\n",
       "      <th>product_description_lenght</th>\n",
       "      <th>product_photos_qty</th>\n",
       "      <th>product_weight_g</th>\n",
       "      <th>product_length_cm</th>\n",
       "      <th>product_height_cm</th>\n",
       "      <th>product_width_cm</th>\n",
       "    </tr>\n",
       "  </thead>\n",
       "  <tbody>\n",
       "    <tr>\n",
       "      <th>0</th>\n",
       "      <td>1e9e8ef04dbcff4541ed26657ea517e5</td>\n",
       "      <td>perfumaria</td>\n",
       "      <td>40.0</td>\n",
       "      <td>287.0</td>\n",
       "      <td>1.0</td>\n",
       "      <td>225.0</td>\n",
       "      <td>16.0</td>\n",
       "      <td>10.0</td>\n",
       "      <td>14.0</td>\n",
       "    </tr>\n",
       "    <tr>\n",
       "      <th>1</th>\n",
       "      <td>3aa071139cb16b67ca9e5dea641aaa2f</td>\n",
       "      <td>artes</td>\n",
       "      <td>44.0</td>\n",
       "      <td>276.0</td>\n",
       "      <td>1.0</td>\n",
       "      <td>1000.0</td>\n",
       "      <td>30.0</td>\n",
       "      <td>18.0</td>\n",
       "      <td>20.0</td>\n",
       "    </tr>\n",
       "    <tr>\n",
       "      <th>2</th>\n",
       "      <td>96bd76ec8810374ed1b65e291975717f</td>\n",
       "      <td>esporte_lazer</td>\n",
       "      <td>46.0</td>\n",
       "      <td>250.0</td>\n",
       "      <td>1.0</td>\n",
       "      <td>154.0</td>\n",
       "      <td>18.0</td>\n",
       "      <td>9.0</td>\n",
       "      <td>15.0</td>\n",
       "    </tr>\n",
       "    <tr>\n",
       "      <th>3</th>\n",
       "      <td>cef67bcfe19066a932b7673e239eb23d</td>\n",
       "      <td>bebes</td>\n",
       "      <td>27.0</td>\n",
       "      <td>261.0</td>\n",
       "      <td>1.0</td>\n",
       "      <td>371.0</td>\n",
       "      <td>26.0</td>\n",
       "      <td>4.0</td>\n",
       "      <td>26.0</td>\n",
       "    </tr>\n",
       "    <tr>\n",
       "      <th>4</th>\n",
       "      <td>9dc1a7de274444849c219cff195d0b71</td>\n",
       "      <td>utilidades_domesticas</td>\n",
       "      <td>37.0</td>\n",
       "      <td>402.0</td>\n",
       "      <td>4.0</td>\n",
       "      <td>625.0</td>\n",
       "      <td>20.0</td>\n",
       "      <td>17.0</td>\n",
       "      <td>13.0</td>\n",
       "    </tr>\n",
       "  </tbody>\n",
       "</table>\n",
       "</div>"
      ],
      "text/plain": [
       "                         product_id  product_category_name  \\\n",
       "0  1e9e8ef04dbcff4541ed26657ea517e5             perfumaria   \n",
       "1  3aa071139cb16b67ca9e5dea641aaa2f                  artes   \n",
       "2  96bd76ec8810374ed1b65e291975717f          esporte_lazer   \n",
       "3  cef67bcfe19066a932b7673e239eb23d                  bebes   \n",
       "4  9dc1a7de274444849c219cff195d0b71  utilidades_domesticas   \n",
       "\n",
       "   product_name_lenght  product_description_lenght  product_photos_qty  \\\n",
       "0                 40.0                       287.0                 1.0   \n",
       "1                 44.0                       276.0                 1.0   \n",
       "2                 46.0                       250.0                 1.0   \n",
       "3                 27.0                       261.0                 1.0   \n",
       "4                 37.0                       402.0                 4.0   \n",
       "\n",
       "   product_weight_g  product_length_cm  product_height_cm  product_width_cm  \n",
       "0             225.0               16.0               10.0              14.0  \n",
       "1            1000.0               30.0               18.0              20.0  \n",
       "2             154.0               18.0                9.0              15.0  \n",
       "3             371.0               26.0                4.0              26.0  \n",
       "4             625.0               20.0               17.0              13.0  "
      ]
     },
     "execution_count": 747,
     "metadata": {},
     "output_type": "execute_result"
    }
   ],
   "source": [
    "urunler = products_data.copy()\n",
    "\n",
    "urunler.dropna(subset = ['product_category_name', 'product_name_lenght', 'product_description_lenght', 'product_photos_qty',\n",
    "                        'product_weight_g', 'product_length_cm', 'product_height_cm', 'product_width_cm'], axis=0, inplace=True)\n",
    "\n",
    "urunler.head()"
   ]
  },
  {
   "cell_type": "code",
   "execution_count": 748,
   "metadata": {},
   "outputs": [
    {
     "data": {
      "text/html": [
       "<div>\n",
       "<style scoped>\n",
       "    .dataframe tbody tr th:only-of-type {\n",
       "        vertical-align: middle;\n",
       "    }\n",
       "\n",
       "    .dataframe tbody tr th {\n",
       "        vertical-align: top;\n",
       "    }\n",
       "\n",
       "    .dataframe thead th {\n",
       "        text-align: right;\n",
       "    }\n",
       "</style>\n",
       "<table border=\"1\" class=\"dataframe\">\n",
       "  <thead>\n",
       "    <tr style=\"text-align: right;\">\n",
       "      <th></th>\n",
       "      <th>urun_id</th>\n",
       "      <th>urun_kategori_pt</th>\n",
       "      <th>urun_adi_uzunluk</th>\n",
       "      <th>urun_aciklama_uzunluk</th>\n",
       "      <th>urun_fotograf_sayisi</th>\n",
       "      <th>urun_agirlik_gram</th>\n",
       "      <th>urun_uzunluk_cm</th>\n",
       "      <th>urun_yukseklik_cm</th>\n",
       "      <th>urun_genislik_cm</th>\n",
       "    </tr>\n",
       "  </thead>\n",
       "  <tbody>\n",
       "    <tr>\n",
       "      <th>0</th>\n",
       "      <td>1e9e8ef04dbcff4541ed26657ea517e5</td>\n",
       "      <td>perfumaria</td>\n",
       "      <td>40.0</td>\n",
       "      <td>287.0</td>\n",
       "      <td>1.0</td>\n",
       "      <td>225.0</td>\n",
       "      <td>16.0</td>\n",
       "      <td>10.0</td>\n",
       "      <td>14.0</td>\n",
       "    </tr>\n",
       "    <tr>\n",
       "      <th>1</th>\n",
       "      <td>3aa071139cb16b67ca9e5dea641aaa2f</td>\n",
       "      <td>artes</td>\n",
       "      <td>44.0</td>\n",
       "      <td>276.0</td>\n",
       "      <td>1.0</td>\n",
       "      <td>1000.0</td>\n",
       "      <td>30.0</td>\n",
       "      <td>18.0</td>\n",
       "      <td>20.0</td>\n",
       "    </tr>\n",
       "    <tr>\n",
       "      <th>2</th>\n",
       "      <td>96bd76ec8810374ed1b65e291975717f</td>\n",
       "      <td>esporte_lazer</td>\n",
       "      <td>46.0</td>\n",
       "      <td>250.0</td>\n",
       "      <td>1.0</td>\n",
       "      <td>154.0</td>\n",
       "      <td>18.0</td>\n",
       "      <td>9.0</td>\n",
       "      <td>15.0</td>\n",
       "    </tr>\n",
       "  </tbody>\n",
       "</table>\n",
       "</div>"
      ],
      "text/plain": [
       "                            urun_id urun_kategori_pt  urun_adi_uzunluk  \\\n",
       "0  1e9e8ef04dbcff4541ed26657ea517e5       perfumaria              40.0   \n",
       "1  3aa071139cb16b67ca9e5dea641aaa2f            artes              44.0   \n",
       "2  96bd76ec8810374ed1b65e291975717f    esporte_lazer              46.0   \n",
       "\n",
       "   urun_aciklama_uzunluk  urun_fotograf_sayisi  urun_agirlik_gram  \\\n",
       "0                  287.0                   1.0              225.0   \n",
       "1                  276.0                   1.0             1000.0   \n",
       "2                  250.0                   1.0              154.0   \n",
       "\n",
       "   urun_uzunluk_cm  urun_yukseklik_cm  urun_genislik_cm  \n",
       "0             16.0               10.0              14.0  \n",
       "1             30.0               18.0              20.0  \n",
       "2             18.0                9.0              15.0  "
      ]
     },
     "execution_count": 748,
     "metadata": {},
     "output_type": "execute_result"
    }
   ],
   "source": [
    "urunler.rename(columns = {  'product_id':                   'urun_id',\n",
    "                            'product_category_name':        'urun_kategori_pt',\n",
    "                            'product_name_lenght':          'urun_adi_uzunluk',\n",
    "                            'product_description_lenght':   'urun_aciklama_uzunluk',\n",
    "                            'product_photos_qty':           'urun_fotograf_sayisi',\n",
    "                            'product_weight_g':             'urun_agirlik_gram',\n",
    "                            'product_length_cm':            'urun_uzunluk_cm',\n",
    "                            'product_height_cm':            'urun_yukseklik_cm',\n",
    "                            'product_width_cm':             'urun_genislik_cm'\n",
    "                            }, inplace = True)\n",
    "\n",
    "urunler.head(3)"
   ]
  },
  {
   "cell_type": "code",
   "execution_count": 749,
   "metadata": {},
   "outputs": [
    {
     "data": {
      "text/plain": [
       "urun_id                  0\n",
       "urun_kategori_pt         0\n",
       "urun_adi_uzunluk         0\n",
       "urun_aciklama_uzunluk    0\n",
       "urun_fotograf_sayisi     0\n",
       "urun_agirlik_gram        0\n",
       "urun_uzunluk_cm          0\n",
       "urun_yukseklik_cm        0\n",
       "urun_genislik_cm         0\n",
       "dtype: int64"
      ]
     },
     "execution_count": 749,
     "metadata": {},
     "output_type": "execute_result"
    }
   ],
   "source": [
    "urunler.isnull().sum()"
   ]
  },
  {
   "cell_type": "code",
   "execution_count": 750,
   "metadata": {},
   "outputs": [
    {
     "data": {
      "text/plain": [
       "urun_id                   object\n",
       "urun_kategori_pt          object\n",
       "urun_adi_uzunluk         float64\n",
       "urun_aciklama_uzunluk    float64\n",
       "urun_fotograf_sayisi     float64\n",
       "urun_agirlik_gram        float64\n",
       "urun_uzunluk_cm          float64\n",
       "urun_yukseklik_cm        float64\n",
       "urun_genislik_cm         float64\n",
       "dtype: object"
      ]
     },
     "execution_count": 750,
     "metadata": {},
     "output_type": "execute_result"
    }
   ],
   "source": [
    "urunler.dtypes"
   ]
  },
  {
   "cell_type": "code",
   "execution_count": 751,
   "metadata": {},
   "outputs": [
    {
     "data": {
      "image/png": "[encoded data removed]",
      "text/plain": [
       "<Figure size 432x288 with 1 Axes>"
      ]
     },
     "metadata": {
      "needs_background": "light"
     },
     "output_type": "display_data"
    }
   ],
   "source": [
    "#En çok satılan ürün kategorileri:\n",
    "\n",
    "veri = urunler['urun_kategori_pt']\n",
    "veri_sayma = veri.value_counts()\n",
    "veri_sayma = veri_sayma[:20] #İlk n tanesini almak için\n",
    "plt.figure()\n",
    "plt.bar(veri_sayma.index, veri_sayma, color = \"darkslateblue\")\n",
    "plt.xticks(rotation = 90)\n",
    "plt.ylabel(\"Frekans\")\n",
    "plt.title(f\"Veri Sıklığı\")\n",
    "plt.show()"
   ]
  },
  {
   "cell_type": "code",
   "execution_count": 752,
   "metadata": {},
   "outputs": [
    {
     "data": {
      "text/html": [
       "<div>\n",
       "<style scoped>\n",
       "    .dataframe tbody tr th:only-of-type {\n",
       "        vertical-align: middle;\n",
       "    }\n",
       "\n",
       "    .dataframe tbody tr th {\n",
       "        vertical-align: top;\n",
       "    }\n",
       "\n",
       "    .dataframe thead th {\n",
       "        text-align: right;\n",
       "    }\n",
       "</style>\n",
       "<table border=\"1\" class=\"dataframe\">\n",
       "  <thead>\n",
       "    <tr style=\"text-align: right;\">\n",
       "      <th></th>\n",
       "      <th>index</th>\n",
       "      <th>urun_kategori_pt</th>\n",
       "    </tr>\n",
       "  </thead>\n",
       "  <tbody>\n",
       "    <tr>\n",
       "      <th>0</th>\n",
       "      <td>cama_mesa_banho</td>\n",
       "      <td>3029</td>\n",
       "    </tr>\n",
       "    <tr>\n",
       "      <th>1</th>\n",
       "      <td>esporte_lazer</td>\n",
       "      <td>2867</td>\n",
       "    </tr>\n",
       "    <tr>\n",
       "      <th>2</th>\n",
       "      <td>moveis_decoracao</td>\n",
       "      <td>2657</td>\n",
       "    </tr>\n",
       "    <tr>\n",
       "      <th>3</th>\n",
       "      <td>beleza_saude</td>\n",
       "      <td>2444</td>\n",
       "    </tr>\n",
       "    <tr>\n",
       "      <th>4</th>\n",
       "      <td>utilidades_domesticas</td>\n",
       "      <td>2335</td>\n",
       "    </tr>\n",
       "    <tr>\n",
       "      <th>5</th>\n",
       "      <td>automotivo</td>\n",
       "      <td>1900</td>\n",
       "    </tr>\n",
       "    <tr>\n",
       "      <th>6</th>\n",
       "      <td>informatica_acessorios</td>\n",
       "      <td>1639</td>\n",
       "    </tr>\n",
       "    <tr>\n",
       "      <th>7</th>\n",
       "      <td>brinquedos</td>\n",
       "      <td>1411</td>\n",
       "    </tr>\n",
       "    <tr>\n",
       "      <th>8</th>\n",
       "      <td>relogios_presentes</td>\n",
       "      <td>1329</td>\n",
       "    </tr>\n",
       "    <tr>\n",
       "      <th>9</th>\n",
       "      <td>telefonia</td>\n",
       "      <td>1134</td>\n",
       "    </tr>\n",
       "  </tbody>\n",
       "</table>\n",
       "</div>"
      ],
      "text/plain": [
       "                    index  urun_kategori_pt\n",
       "0         cama_mesa_banho              3029\n",
       "1           esporte_lazer              2867\n",
       "2        moveis_decoracao              2657\n",
       "3            beleza_saude              2444\n",
       "4   utilidades_domesticas              2335\n",
       "5              automotivo              1900\n",
       "6  informatica_acessorios              1639\n",
       "7              brinquedos              1411\n",
       "8      relogios_presentes              1329\n",
       "9               telefonia              1134"
      ]
     },
     "execution_count": 752,
     "metadata": {},
     "output_type": "execute_result"
    }
   ],
   "source": [
    "#urunler.urun_kategori_pt.value_counts().sort_values(ascending=True)\n",
    "en_cok_satanlar = urunler['urun_kategori_pt'].value_counts().reset_index().nlargest(10, 'urun_kategori_pt')\n",
    "en_cok_satanlar"
   ]
  },
  {
   "cell_type": "markdown",
   "metadata": {},
   "source": [
    "### **9. sellers_data**"
   ]
  },
  {
   "cell_type": "code",
   "execution_count": 753,
   "metadata": {},
   "outputs": [
    {
     "name": "stdout",
     "output_type": "stream",
     "text": [
      "••••••••••••••••••  Veri Seti Hakkında Özet Bilgiler  ••••••••••••••••••\n",
      "<class 'pandas.core.frame.DataFrame'>\n",
      "RangeIndex: 3095 entries, 0 to 3094\n",
      "Data columns (total 4 columns):\n",
      " #   Column                  Non-Null Count  Dtype \n",
      "---  ------                  --------------  ----- \n",
      " 0   seller_id               3095 non-null   object\n",
      " 1   seller_zip_code_prefix  3095 non-null   int64 \n",
      " 2   seller_city             3095 non-null   object\n",
      " 3   seller_state            3095 non-null   object\n",
      "dtypes: int64(1), object(3)\n",
      "memory usage: 96.8+ KB\n",
      "\n",
      "\n",
      "••••••••••••••••  Veri setindeki gözlem ve değişken sayısı:  (3095, 4)\n",
      "\n",
      "\n",
      "•••••••••••••••••••••••••  Boş Değer Kontrolü  •••••••••••••••••••••••••\n",
      "seller_id                 0\n",
      "seller_zip_code_prefix    0\n",
      "seller_city               0\n",
      "seller_state              0\n",
      "dtype: int64\n"
     ]
    }
   ],
   "source": [
    "info_func(sellers_data)"
   ]
  },
  {
   "cell_type": "code",
   "execution_count": 754,
   "metadata": {},
   "outputs": [
    {
     "data": {
      "text/html": [
       "<div>\n",
       "<style scoped>\n",
       "    .dataframe tbody tr th:only-of-type {\n",
       "        vertical-align: middle;\n",
       "    }\n",
       "\n",
       "    .dataframe tbody tr th {\n",
       "        vertical-align: top;\n",
       "    }\n",
       "\n",
       "    .dataframe thead th {\n",
       "        text-align: right;\n",
       "    }\n",
       "</style>\n",
       "<table border=\"1\" class=\"dataframe\">\n",
       "  <thead>\n",
       "    <tr style=\"text-align: right;\">\n",
       "      <th></th>\n",
       "      <th>satici_id</th>\n",
       "      <th>satici_posta_kodu</th>\n",
       "      <th>satici_sehir</th>\n",
       "      <th>satici_eyalet</th>\n",
       "    </tr>\n",
       "  </thead>\n",
       "  <tbody>\n",
       "    <tr>\n",
       "      <th>0</th>\n",
       "      <td>3442f8959a84dea7ee197c632cb2df15</td>\n",
       "      <td>13023</td>\n",
       "      <td>campinas</td>\n",
       "      <td>SP</td>\n",
       "    </tr>\n",
       "    <tr>\n",
       "      <th>1</th>\n",
       "      <td>d1b65fc7debc3361ea86b5f14c68d2e2</td>\n",
       "      <td>13844</td>\n",
       "      <td>mogi guacu</td>\n",
       "      <td>SP</td>\n",
       "    </tr>\n",
       "    <tr>\n",
       "      <th>2</th>\n",
       "      <td>ce3ad9de960102d0677a81f5d0bb7b2d</td>\n",
       "      <td>20031</td>\n",
       "      <td>rio de janeiro</td>\n",
       "      <td>RJ</td>\n",
       "    </tr>\n",
       "    <tr>\n",
       "      <th>3</th>\n",
       "      <td>c0f3eea2e14555b6faeea3dd58c1b1c3</td>\n",
       "      <td>4195</td>\n",
       "      <td>sao paulo</td>\n",
       "      <td>SP</td>\n",
       "    </tr>\n",
       "    <tr>\n",
       "      <th>4</th>\n",
       "      <td>51a04a8a6bdcb23deccc82b0b80742cf</td>\n",
       "      <td>12914</td>\n",
       "      <td>braganca paulista</td>\n",
       "      <td>SP</td>\n",
       "    </tr>\n",
       "  </tbody>\n",
       "</table>\n",
       "</div>"
      ],
      "text/plain": [
       "                          satici_id  satici_posta_kodu       satici_sehir  \\\n",
       "0  3442f8959a84dea7ee197c632cb2df15              13023           campinas   \n",
       "1  d1b65fc7debc3361ea86b5f14c68d2e2              13844         mogi guacu   \n",
       "2  ce3ad9de960102d0677a81f5d0bb7b2d              20031     rio de janeiro   \n",
       "3  c0f3eea2e14555b6faeea3dd58c1b1c3               4195          sao paulo   \n",
       "4  51a04a8a6bdcb23deccc82b0b80742cf              12914  braganca paulista   \n",
       "\n",
       "  satici_eyalet  \n",
       "0            SP  \n",
       "1            SP  \n",
       "2            RJ  \n",
       "3            SP  \n",
       "4            SP  "
      ]
     },
     "execution_count": 754,
     "metadata": {},
     "output_type": "execute_result"
    }
   ],
   "source": [
    "sellers_data.rename(columns = {'seller_id':                  'satici_id',\n",
    "                                'seller_zip_code_prefix':    'satici_posta_kodu',\n",
    "                                'seller_city':               'satici_sehir',\n",
    "                                'seller_state':              'satici_eyalet'\n",
    "                            }, inplace = True)\n",
    "\n",
    "sellers_data.head()"
   ]
  },
  {
   "cell_type": "code",
   "execution_count": 755,
   "metadata": {},
   "outputs": [
    {
     "data": {
      "image/png": "[encoded data removed]",
      "text/plain": [
       "<Figure size 432x288 with 1 Axes>"
      ]
     },
     "metadata": {
      "needs_background": "light"
     },
     "output_type": "display_data"
    },
    {
     "name": "stdout",
     "output_type": "stream",
     "text": [
      "satici_sehir:\n",
      "sao paulo         694\n",
      "curitiba          127\n",
      "rio de janeiro     96\n",
      "belo horizonte     68\n",
      "ribeirao preto     52\n",
      "guarulhos          50\n",
      "ibitinga           49\n",
      "santo andre        45\n",
      "campinas           41\n",
      "maringa            40\n",
      "Name: satici_sehir, dtype: int64\n"
     ]
    },
    {
     "data": {
      "image/png": "[encoded data removed]",
      "text/plain": [
       "<Figure size 432x288 with 1 Axes>"
      ]
     },
     "metadata": {
      "needs_background": "light"
     },
     "output_type": "display_data"
    },
    {
     "name": "stdout",
     "output_type": "stream",
     "text": [
      "satici_eyalet:\n",
      "SP    1849\n",
      "PR     349\n",
      "MG     244\n",
      "SC     190\n",
      "RJ     171\n",
      "RS     129\n",
      "GO      40\n",
      "DF      30\n",
      "ES      23\n",
      "BA      19\n",
      "Name: satici_eyalet, dtype: int64\n"
     ]
    }
   ],
   "source": [
    "def plotBar(degisken, n = 10):   #En çok görülen 10 değer\n",
    "  \n",
    "  \"\"\"\n",
    "  Girdi: Değişken/sütun ismi\n",
    "  n = Gösterilecek eşsiz, en sık rastlanan değer sayısı\n",
    "  Çıktı: Çubuk grafiği\n",
    "  \"\"\"\n",
    "\n",
    "  veri = sellers_data[degisken]\n",
    "  veri_sayma = veri.value_counts()\n",
    "  veri_sayma = veri_sayma[:n] #İlk n tanesini almak için\n",
    "  plt.figure()\n",
    "  plt.bar(veri_sayma.index, veri_sayma, color = \"thistle\")\n",
    "  plt.xticks(veri_sayma.index, veri_sayma.index.values)\n",
    "  plt.xticks(rotation = 90)\n",
    "  plt.ylabel(\"Frekans\")\n",
    "  plt.title(f\"Veri Sıklığı - {degisken}\")\n",
    "  plt.show()\n",
    "  print(f\"{degisken}:\\n{veri_sayma}\")\n",
    "\n",
    "\n",
    "satici_kategorik_degiskenler = ['satici_sehir', 'satici_eyalet']\n",
    "\n",
    "for i in satici_kategorik_degiskenler:\n",
    "  plotBar(i)"
   ]
  },
  {
   "cell_type": "markdown",
   "metadata": {},
   "source": [
    "#### merge işlemleri"
   ]
  },
  {
   "cell_type": "markdown",
   "metadata": {},
   "source": [
    "merg_data = pd.merge(customer, siparisler, on = \"musteri_id\")\n",
    "merg_data = merg_data.merge(customer_data, on = \"musteri_id\")\n",
    "merg_data = merg_data.merge(siparisler, on = \"siparis_id\")\n",
    "merg_data = merg_data.merge(urunler, on = \"urun_id\")\n",
    "merg_data = merg_data.merge(translations_data, on = \"urun_kategori_pt\")\n",
    "merg_data.head()"
   ]
  },
  {
   "cell_type": "code",
   "execution_count": 756,
   "metadata": {},
   "outputs": [
    {
     "data": {
      "text/html": [
       "<div>\n",
       "<style scoped>\n",
       "    .dataframe tbody tr th:only-of-type {\n",
       "        vertical-align: middle;\n",
       "    }\n",
       "\n",
       "    .dataframe tbody tr th {\n",
       "        vertical-align: top;\n",
       "    }\n",
       "\n",
       "    .dataframe thead th {\n",
       "        text-align: right;\n",
       "    }\n",
       "</style>\n",
       "<table border=\"1\" class=\"dataframe\">\n",
       "  <thead>\n",
       "    <tr style=\"text-align: right;\">\n",
       "      <th></th>\n",
       "      <th>musteri_id</th>\n",
       "      <th>musteri_essiz_id</th>\n",
       "      <th>musteri_posta_kodu</th>\n",
       "      <th>musteri_sehir</th>\n",
       "      <th>musteri_eyalet</th>\n",
       "      <th>musteri_adres</th>\n",
       "      <th>siparis_id</th>\n",
       "      <th>siparis_durumu</th>\n",
       "      <th>siparis_verme_tarihi</th>\n",
       "      <th>siparis_onaylanma_tarihi</th>\n",
       "      <th>siparis_yola_cikis_tarihi</th>\n",
       "      <th>siparis_teslim_tarihi</th>\n",
       "      <th>tahmini_teslim_tarihi</th>\n",
       "      <th>siparis_onay_dk</th>\n",
       "      <th>siparis_cikis_gun</th>\n",
       "      <th>siparis_teslim_gun</th>\n",
       "      <th>erken_teslim_gun</th>\n",
       "    </tr>\n",
       "  </thead>\n",
       "  <tbody>\n",
       "    <tr>\n",
       "      <th>0</th>\n",
       "      <td>06b8999e2fba1a1fbc88172c00ba8bc7</td>\n",
       "      <td>861eff4711a542e4b93843c6dd7febb0</td>\n",
       "      <td>14409</td>\n",
       "      <td>franca</td>\n",
       "      <td>SP</td>\n",
       "      <td>franca - SP</td>\n",
       "      <td>00e7ee1b050b8499577073aeb2a297a1</td>\n",
       "      <td>delivered</td>\n",
       "      <td>2017-05-16 15:05:35</td>\n",
       "      <td>2017-05-16 15:22:12</td>\n",
       "      <td>2017-05-23 10:47:57</td>\n",
       "      <td>2017-05-25 10:35:35</td>\n",
       "      <td>2017-06-05 00:00:00</td>\n",
       "      <td>16.616667</td>\n",
       "      <td>6</td>\n",
       "      <td>1</td>\n",
       "      <td>10</td>\n",
       "    </tr>\n",
       "    <tr>\n",
       "      <th>1</th>\n",
       "      <td>18955e83d337fd6b2def6b18a428ac77</td>\n",
       "      <td>290c77bc529b7ac935b93aa66c333dc3</td>\n",
       "      <td>9790</td>\n",
       "      <td>sao bernardo do campo</td>\n",
       "      <td>SP</td>\n",
       "      <td>sao bernardo do campo - SP</td>\n",
       "      <td>29150127e6685892b6eab3eec79f59c7</td>\n",
       "      <td>delivered</td>\n",
       "      <td>2018-01-12 20:48:24</td>\n",
       "      <td>2018-01-12 20:58:32</td>\n",
       "      <td>2018-01-15 17:14:59</td>\n",
       "      <td>2018-01-29 12:41:19</td>\n",
       "      <td>2018-02-06 00:00:00</td>\n",
       "      <td>10.133333</td>\n",
       "      <td>2</td>\n",
       "      <td>13</td>\n",
       "      <td>7</td>\n",
       "    </tr>\n",
       "    <tr>\n",
       "      <th>2</th>\n",
       "      <td>4e7b3e00288586ebd08712fdd0374a03</td>\n",
       "      <td>060e732b5b29e8181a18229c7b0b2b5e</td>\n",
       "      <td>1151</td>\n",
       "      <td>sao paulo</td>\n",
       "      <td>SP</td>\n",
       "      <td>sao paulo - SP</td>\n",
       "      <td>b2059ed67ce144a36e2aa97d2c9e9ad2</td>\n",
       "      <td>delivered</td>\n",
       "      <td>2018-05-19 16:07:45</td>\n",
       "      <td>2018-05-20 16:19:10</td>\n",
       "      <td>2018-06-11 14:31:00</td>\n",
       "      <td>2018-06-14 17:58:51</td>\n",
       "      <td>2018-06-13 00:00:00</td>\n",
       "      <td>11.416667</td>\n",
       "      <td>21</td>\n",
       "      <td>3</td>\n",
       "      <td>-2</td>\n",
       "    </tr>\n",
       "    <tr>\n",
       "      <th>3</th>\n",
       "      <td>b2b6027bc5c5109e529d4dc6358b12c3</td>\n",
       "      <td>259dac757896d24d7702b9acbbff3f3c</td>\n",
       "      <td>8775</td>\n",
       "      <td>mogi das cruzes</td>\n",
       "      <td>SP</td>\n",
       "      <td>mogi das cruzes - SP</td>\n",
       "      <td>951670f92359f4fe4a63112aa7306eba</td>\n",
       "      <td>delivered</td>\n",
       "      <td>2018-03-13 16:06:38</td>\n",
       "      <td>2018-03-13 17:29:19</td>\n",
       "      <td>2018-03-27 23:22:42</td>\n",
       "      <td>2018-03-28 16:04:25</td>\n",
       "      <td>2018-04-10 00:00:00</td>\n",
       "      <td>82.683333</td>\n",
       "      <td>14</td>\n",
       "      <td>0</td>\n",
       "      <td>12</td>\n",
       "    </tr>\n",
       "    <tr>\n",
       "      <th>4</th>\n",
       "      <td>4f2d8ab171c80ec8364f7c12e35b23ad</td>\n",
       "      <td>345ecd01c38d18a9036ed96c73b8d066</td>\n",
       "      <td>13056</td>\n",
       "      <td>campinas</td>\n",
       "      <td>SP</td>\n",
       "      <td>campinas - SP</td>\n",
       "      <td>6b7d50bd145f6fc7f33cebabd7e49d0f</td>\n",
       "      <td>delivered</td>\n",
       "      <td>2018-07-29 09:51:30</td>\n",
       "      <td>2018-07-29 10:10:09</td>\n",
       "      <td>2018-07-30 15:16:00</td>\n",
       "      <td>2018-08-09 20:55:48</td>\n",
       "      <td>2018-08-15 00:00:00</td>\n",
       "      <td>18.650000</td>\n",
       "      <td>1</td>\n",
       "      <td>10</td>\n",
       "      <td>5</td>\n",
       "    </tr>\n",
       "  </tbody>\n",
       "</table>\n",
       "</div>"
      ],
      "text/plain": [
       "                         musteri_id                  musteri_essiz_id  \\\n",
       "0  06b8999e2fba1a1fbc88172c00ba8bc7  861eff4711a542e4b93843c6dd7febb0   \n",
       "1  18955e83d337fd6b2def6b18a428ac77  290c77bc529b7ac935b93aa66c333dc3   \n",
       "2  4e7b3e00288586ebd08712fdd0374a03  060e732b5b29e8181a18229c7b0b2b5e   \n",
       "3  b2b6027bc5c5109e529d4dc6358b12c3  259dac757896d24d7702b9acbbff3f3c   \n",
       "4  4f2d8ab171c80ec8364f7c12e35b23ad  345ecd01c38d18a9036ed96c73b8d066   \n",
       "\n",
       "   musteri_posta_kodu          musteri_sehir musteri_eyalet  \\\n",
       "0               14409                 franca             SP   \n",
       "1                9790  sao bernardo do campo             SP   \n",
       "2                1151              sao paulo             SP   \n",
       "3                8775        mogi das cruzes             SP   \n",
       "4               13056               campinas             SP   \n",
       "\n",
       "                musteri_adres                        siparis_id  \\\n",
       "0                 franca - SP  00e7ee1b050b8499577073aeb2a297a1   \n",
       "1  sao bernardo do campo - SP  29150127e6685892b6eab3eec79f59c7   \n",
       "2              sao paulo - SP  b2059ed67ce144a36e2aa97d2c9e9ad2   \n",
       "3        mogi das cruzes - SP  951670f92359f4fe4a63112aa7306eba   \n",
       "4               campinas - SP  6b7d50bd145f6fc7f33cebabd7e49d0f   \n",
       "\n",
       "  siparis_durumu siparis_verme_tarihi siparis_onaylanma_tarihi  \\\n",
       "0      delivered  2017-05-16 15:05:35      2017-05-16 15:22:12   \n",
       "1      delivered  2018-01-12 20:48:24      2018-01-12 20:58:32   \n",
       "2      delivered  2018-05-19 16:07:45      2018-05-20 16:19:10   \n",
       "3      delivered  2018-03-13 16:06:38      2018-03-13 17:29:19   \n",
       "4      delivered  2018-07-29 09:51:30      2018-07-29 10:10:09   \n",
       "\n",
       "  siparis_yola_cikis_tarihi siparis_teslim_tarihi tahmini_teslim_tarihi  \\\n",
       "0       2017-05-23 10:47:57   2017-05-25 10:35:35   2017-06-05 00:00:00   \n",
       "1       2018-01-15 17:14:59   2018-01-29 12:41:19   2018-02-06 00:00:00   \n",
       "2       2018-06-11 14:31:00   2018-06-14 17:58:51   2018-06-13 00:00:00   \n",
       "3       2018-03-27 23:22:42   2018-03-28 16:04:25   2018-04-10 00:00:00   \n",
       "4       2018-07-30 15:16:00   2018-08-09 20:55:48   2018-08-15 00:00:00   \n",
       "\n",
       "   siparis_onay_dk  siparis_cikis_gun  siparis_teslim_gun  erken_teslim_gun  \n",
       "0        16.616667                  6                   1                10  \n",
       "1        10.133333                  2                  13                 7  \n",
       "2        11.416667                 21                   3                -2  \n",
       "3        82.683333                 14                   0                12  \n",
       "4        18.650000                  1                  10                 5  "
      ]
     },
     "execution_count": 756,
     "metadata": {},
     "output_type": "execute_result"
    }
   ],
   "source": [
    "merg_data = pd.merge(customer_data, siparisler, on = \"musteri_id\")\n",
    "merg_data.head()"
   ]
  },
  {
   "cell_type": "code",
   "execution_count": 757,
   "metadata": {},
   "outputs": [
    {
     "data": {
      "text/html": [
       "<div>\n",
       "<style scoped>\n",
       "    .dataframe tbody tr th:only-of-type {\n",
       "        vertical-align: middle;\n",
       "    }\n",
       "\n",
       "    .dataframe tbody tr th {\n",
       "        vertical-align: top;\n",
       "    }\n",
       "\n",
       "    .dataframe thead th {\n",
       "        text-align: right;\n",
       "    }\n",
       "</style>\n",
       "<table border=\"1\" class=\"dataframe\">\n",
       "  <thead>\n",
       "    <tr style=\"text-align: right;\">\n",
       "      <th></th>\n",
       "      <th>yorum_id</th>\n",
       "      <th>siparis_id</th>\n",
       "      <th>yorum_puan</th>\n",
       "      <th>yorum_olusturma_tarihi</th>\n",
       "      <th>yoruma_donus_tarihi</th>\n",
       "      <th>musteri_id</th>\n",
       "      <th>siparis_durumu</th>\n",
       "      <th>siparis_verme_tarihi</th>\n",
       "      <th>siparis_onaylanma_tarihi</th>\n",
       "      <th>siparis_yola_cikis_tarihi</th>\n",
       "      <th>siparis_teslim_tarihi</th>\n",
       "      <th>tahmini_teslim_tarihi</th>\n",
       "      <th>siparis_onay_dk</th>\n",
       "      <th>siparis_cikis_gun</th>\n",
       "      <th>siparis_teslim_gun</th>\n",
       "      <th>erken_teslim_gun</th>\n",
       "    </tr>\n",
       "  </thead>\n",
       "  <tbody>\n",
       "    <tr>\n",
       "      <th>0</th>\n",
       "      <td>7bc2406110b926393aa56f80a40eba40</td>\n",
       "      <td>73fc7af87114b39712e6da79b0a377eb</td>\n",
       "      <td>4</td>\n",
       "      <td>2018-01-18 00:00:00</td>\n",
       "      <td>2018-01-18 21:46:59</td>\n",
       "      <td>41dcb106f807e993532d446263290104</td>\n",
       "      <td>delivered</td>\n",
       "      <td>2018-01-11 15:30:49</td>\n",
       "      <td>2018-01-11 15:47:59</td>\n",
       "      <td>2018-01-12 21:57:22</td>\n",
       "      <td>2018-01-17 18:42:41</td>\n",
       "      <td>2018-02-02 00:00:00</td>\n",
       "      <td>17.166667</td>\n",
       "      <td>1</td>\n",
       "      <td>4</td>\n",
       "      <td>15</td>\n",
       "    </tr>\n",
       "    <tr>\n",
       "      <th>1</th>\n",
       "      <td>80e641a11e56f04c1ad469d5645fdfde</td>\n",
       "      <td>a548910a1c6147796b98fdf73dbeba33</td>\n",
       "      <td>5</td>\n",
       "      <td>2018-03-10 00:00:00</td>\n",
       "      <td>2018-03-11 03:05:13</td>\n",
       "      <td>8a2e7ef9053dea531e4dc76bd6d853e6</td>\n",
       "      <td>delivered</td>\n",
       "      <td>2018-02-28 12:25:19</td>\n",
       "      <td>2018-02-28 12:48:39</td>\n",
       "      <td>2018-03-02 19:08:15</td>\n",
       "      <td>2018-03-09 23:17:20</td>\n",
       "      <td>2018-03-14 00:00:00</td>\n",
       "      <td>23.333333</td>\n",
       "      <td>2</td>\n",
       "      <td>7</td>\n",
       "      <td>4</td>\n",
       "    </tr>\n",
       "    <tr>\n",
       "      <th>2</th>\n",
       "      <td>228ce5500dc1d8e020d8d1322874b6f0</td>\n",
       "      <td>f9e4b658b201a9f2ecdecbb34bed034b</td>\n",
       "      <td>5</td>\n",
       "      <td>2018-02-17 00:00:00</td>\n",
       "      <td>2018-02-18 14:36:24</td>\n",
       "      <td>e226dfed6544df5b7b87a48208690feb</td>\n",
       "      <td>delivered</td>\n",
       "      <td>2018-02-03 09:56:22</td>\n",
       "      <td>2018-02-03 10:33:41</td>\n",
       "      <td>2018-02-06 16:18:28</td>\n",
       "      <td>2018-02-16 17:28:48</td>\n",
       "      <td>2018-03-09 00:00:00</td>\n",
       "      <td>37.316667</td>\n",
       "      <td>3</td>\n",
       "      <td>10</td>\n",
       "      <td>20</td>\n",
       "    </tr>\n",
       "    <tr>\n",
       "      <th>3</th>\n",
       "      <td>e64fb393e7b32834bb789ff8bb30750e</td>\n",
       "      <td>658677c97b385a9be170737859d3511b</td>\n",
       "      <td>5</td>\n",
       "      <td>2017-04-21 00:00:00</td>\n",
       "      <td>2017-04-21 22:02:06</td>\n",
       "      <td>de6dff97e5f1ba84a3cd9a3bc97df5f6</td>\n",
       "      <td>delivered</td>\n",
       "      <td>2017-04-09 17:41:13</td>\n",
       "      <td>2017-04-09 17:55:19</td>\n",
       "      <td>2017-04-10 14:24:47</td>\n",
       "      <td>2017-04-20 09:08:35</td>\n",
       "      <td>2017-05-10 00:00:00</td>\n",
       "      <td>14.100000</td>\n",
       "      <td>0</td>\n",
       "      <td>9</td>\n",
       "      <td>19</td>\n",
       "    </tr>\n",
       "    <tr>\n",
       "      <th>4</th>\n",
       "      <td>f7c4243c7fe1938f181bec41a392bdeb</td>\n",
       "      <td>8e6bfb81e283fa7e4f11123a3fb894f1</td>\n",
       "      <td>5</td>\n",
       "      <td>2018-03-01 00:00:00</td>\n",
       "      <td>2018-03-02 10:26:53</td>\n",
       "      <td>5986b333ca0d44534a156a52a8e33a83</td>\n",
       "      <td>delivered</td>\n",
       "      <td>2018-02-10 10:59:03</td>\n",
       "      <td>2018-02-10 15:48:21</td>\n",
       "      <td>2018-02-15 19:36:14</td>\n",
       "      <td>2018-02-28 16:33:35</td>\n",
       "      <td>2018-03-09 00:00:00</td>\n",
       "      <td>289.300000</td>\n",
       "      <td>5</td>\n",
       "      <td>12</td>\n",
       "      <td>8</td>\n",
       "    </tr>\n",
       "    <tr>\n",
       "      <th>...</th>\n",
       "      <td>...</td>\n",
       "      <td>...</td>\n",
       "      <td>...</td>\n",
       "      <td>...</td>\n",
       "      <td>...</td>\n",
       "      <td>...</td>\n",
       "      <td>...</td>\n",
       "      <td>...</td>\n",
       "      <td>...</td>\n",
       "      <td>...</td>\n",
       "      <td>...</td>\n",
       "      <td>...</td>\n",
       "      <td>...</td>\n",
       "      <td>...</td>\n",
       "      <td>...</td>\n",
       "      <td>...</td>\n",
       "    </tr>\n",
       "    <tr>\n",
       "      <th>96339</th>\n",
       "      <td>574ed12dd733e5fa530cfd4bbf39d7c9</td>\n",
       "      <td>2a8c23fee101d4d5662fa670396eb8da</td>\n",
       "      <td>5</td>\n",
       "      <td>2018-07-07 00:00:00</td>\n",
       "      <td>2018-07-14 17:18:30</td>\n",
       "      <td>d8c466a3e7c4cda36cd4ae7d577f44f4</td>\n",
       "      <td>delivered</td>\n",
       "      <td>2018-06-27 17:31:29</td>\n",
       "      <td>2018-06-28 17:30:45</td>\n",
       "      <td>2018-06-29 14:25:00</td>\n",
       "      <td>2018-07-06 13:22:37</td>\n",
       "      <td>2018-07-20 00:00:00</td>\n",
       "      <td>1439.266667</td>\n",
       "      <td>0</td>\n",
       "      <td>6</td>\n",
       "      <td>13</td>\n",
       "    </tr>\n",
       "    <tr>\n",
       "      <th>96340</th>\n",
       "      <td>f3897127253a9592a73be9bdfdf4ed7a</td>\n",
       "      <td>22ec9f0669f784db00fa86d035cf8602</td>\n",
       "      <td>5</td>\n",
       "      <td>2017-12-09 00:00:00</td>\n",
       "      <td>2017-12-11 20:06:42</td>\n",
       "      <td>d0d7086dea6fcf42b9b690b9f3745c58</td>\n",
       "      <td>delivered</td>\n",
       "      <td>2017-12-03 21:45:23</td>\n",
       "      <td>2017-12-03 22:08:00</td>\n",
       "      <td>2017-12-07 19:17:29</td>\n",
       "      <td>2017-12-08 17:19:00</td>\n",
       "      <td>2017-12-20 00:00:00</td>\n",
       "      <td>22.616667</td>\n",
       "      <td>3</td>\n",
       "      <td>0</td>\n",
       "      <td>11</td>\n",
       "    </tr>\n",
       "    <tr>\n",
       "      <th>96341</th>\n",
       "      <td>b3de70c89b1510c4cd3d0649fd302472</td>\n",
       "      <td>55d4004744368f5571d1f590031933e4</td>\n",
       "      <td>5</td>\n",
       "      <td>2018-03-22 00:00:00</td>\n",
       "      <td>2018-03-23 09:10:43</td>\n",
       "      <td>fcc7b1caafe3b77fd587bab964c4d1fb</td>\n",
       "      <td>delivered</td>\n",
       "      <td>2018-03-18 09:52:19</td>\n",
       "      <td>2018-03-18 10:08:04</td>\n",
       "      <td>2018-03-19 23:51:29</td>\n",
       "      <td>2018-03-21 17:44:08</td>\n",
       "      <td>2018-04-06 00:00:00</td>\n",
       "      <td>15.750000</td>\n",
       "      <td>1</td>\n",
       "      <td>1</td>\n",
       "      <td>15</td>\n",
       "    </tr>\n",
       "    <tr>\n",
       "      <th>96342</th>\n",
       "      <td>1adeb9d84d72fe4e337617733eb85149</td>\n",
       "      <td>7725825d039fc1f0ceb7635e3f7d9206</td>\n",
       "      <td>4</td>\n",
       "      <td>2018-07-01 00:00:00</td>\n",
       "      <td>2018-07-02 12:59:13</td>\n",
       "      <td>3aa00401736823c73e9fe8683328fa6b</td>\n",
       "      <td>delivered</td>\n",
       "      <td>2018-06-22 16:47:28</td>\n",
       "      <td>2018-06-22 18:15:29</td>\n",
       "      <td>2018-06-25 12:58:00</td>\n",
       "      <td>2018-06-30 12:57:51</td>\n",
       "      <td>2018-07-16 00:00:00</td>\n",
       "      <td>88.016667</td>\n",
       "      <td>2</td>\n",
       "      <td>4</td>\n",
       "      <td>15</td>\n",
       "    </tr>\n",
       "    <tr>\n",
       "      <th>96343</th>\n",
       "      <td>efe49f1d6f951dd88b51e6ccd4cc548f</td>\n",
       "      <td>90531360ecb1eec2a1fbb265a0db0508</td>\n",
       "      <td>1</td>\n",
       "      <td>2017-07-03 00:00:00</td>\n",
       "      <td>2017-07-03 21:01:49</td>\n",
       "      <td>f6fff47846276bed044b63474bd38884</td>\n",
       "      <td>delivered</td>\n",
       "      <td>2017-06-29 10:43:25</td>\n",
       "      <td>2017-06-30 02:45:15</td>\n",
       "      <td>2017-06-30 13:53:54</td>\n",
       "      <td>2017-07-02 09:44:54</td>\n",
       "      <td>2017-07-12 00:00:00</td>\n",
       "      <td>961.833333</td>\n",
       "      <td>0</td>\n",
       "      <td>1</td>\n",
       "      <td>9</td>\n",
       "    </tr>\n",
       "  </tbody>\n",
       "</table>\n",
       "<p>96344 rows × 16 columns</p>\n",
       "</div>"
      ],
      "text/plain": [
       "                               yorum_id                        siparis_id  \\\n",
       "0      7bc2406110b926393aa56f80a40eba40  73fc7af87114b39712e6da79b0a377eb   \n",
       "1      80e641a11e56f04c1ad469d5645fdfde  a548910a1c6147796b98fdf73dbeba33   \n",
       "2      228ce5500dc1d8e020d8d1322874b6f0  f9e4b658b201a9f2ecdecbb34bed034b   \n",
       "3      e64fb393e7b32834bb789ff8bb30750e  658677c97b385a9be170737859d3511b   \n",
       "4      f7c4243c7fe1938f181bec41a392bdeb  8e6bfb81e283fa7e4f11123a3fb894f1   \n",
       "...                                 ...                               ...   \n",
       "96339  574ed12dd733e5fa530cfd4bbf39d7c9  2a8c23fee101d4d5662fa670396eb8da   \n",
       "96340  f3897127253a9592a73be9bdfdf4ed7a  22ec9f0669f784db00fa86d035cf8602   \n",
       "96341  b3de70c89b1510c4cd3d0649fd302472  55d4004744368f5571d1f590031933e4   \n",
       "96342  1adeb9d84d72fe4e337617733eb85149  7725825d039fc1f0ceb7635e3f7d9206   \n",
       "96343  efe49f1d6f951dd88b51e6ccd4cc548f  90531360ecb1eec2a1fbb265a0db0508   \n",
       "\n",
       "       yorum_puan yorum_olusturma_tarihi  yoruma_donus_tarihi  \\\n",
       "0               4    2018-01-18 00:00:00  2018-01-18 21:46:59   \n",
       "1               5    2018-03-10 00:00:00  2018-03-11 03:05:13   \n",
       "2               5    2018-02-17 00:00:00  2018-02-18 14:36:24   \n",
       "3               5    2017-04-21 00:00:00  2017-04-21 22:02:06   \n",
       "4               5    2018-03-01 00:00:00  2018-03-02 10:26:53   \n",
       "...           ...                    ...                  ...   \n",
       "96339           5    2018-07-07 00:00:00  2018-07-14 17:18:30   \n",
       "96340           5    2017-12-09 00:00:00  2017-12-11 20:06:42   \n",
       "96341           5    2018-03-22 00:00:00  2018-03-23 09:10:43   \n",
       "96342           4    2018-07-01 00:00:00  2018-07-02 12:59:13   \n",
       "96343           1    2017-07-03 00:00:00  2017-07-03 21:01:49   \n",
       "\n",
       "                             musteri_id siparis_durumu siparis_verme_tarihi  \\\n",
       "0      41dcb106f807e993532d446263290104      delivered  2018-01-11 15:30:49   \n",
       "1      8a2e7ef9053dea531e4dc76bd6d853e6      delivered  2018-02-28 12:25:19   \n",
       "2      e226dfed6544df5b7b87a48208690feb      delivered  2018-02-03 09:56:22   \n",
       "3      de6dff97e5f1ba84a3cd9a3bc97df5f6      delivered  2017-04-09 17:41:13   \n",
       "4      5986b333ca0d44534a156a52a8e33a83      delivered  2018-02-10 10:59:03   \n",
       "...                                 ...            ...                  ...   \n",
       "96339  d8c466a3e7c4cda36cd4ae7d577f44f4      delivered  2018-06-27 17:31:29   \n",
       "96340  d0d7086dea6fcf42b9b690b9f3745c58      delivered  2017-12-03 21:45:23   \n",
       "96341  fcc7b1caafe3b77fd587bab964c4d1fb      delivered  2018-03-18 09:52:19   \n",
       "96342  3aa00401736823c73e9fe8683328fa6b      delivered  2018-06-22 16:47:28   \n",
       "96343  f6fff47846276bed044b63474bd38884      delivered  2017-06-29 10:43:25   \n",
       "\n",
       "      siparis_onaylanma_tarihi siparis_yola_cikis_tarihi  \\\n",
       "0          2018-01-11 15:47:59       2018-01-12 21:57:22   \n",
       "1          2018-02-28 12:48:39       2018-03-02 19:08:15   \n",
       "2          2018-02-03 10:33:41       2018-02-06 16:18:28   \n",
       "3          2017-04-09 17:55:19       2017-04-10 14:24:47   \n",
       "4          2018-02-10 15:48:21       2018-02-15 19:36:14   \n",
       "...                        ...                       ...   \n",
       "96339      2018-06-28 17:30:45       2018-06-29 14:25:00   \n",
       "96340      2017-12-03 22:08:00       2017-12-07 19:17:29   \n",
       "96341      2018-03-18 10:08:04       2018-03-19 23:51:29   \n",
       "96342      2018-06-22 18:15:29       2018-06-25 12:58:00   \n",
       "96343      2017-06-30 02:45:15       2017-06-30 13:53:54   \n",
       "\n",
       "      siparis_teslim_tarihi tahmini_teslim_tarihi  siparis_onay_dk  \\\n",
       "0       2018-01-17 18:42:41   2018-02-02 00:00:00        17.166667   \n",
       "1       2018-03-09 23:17:20   2018-03-14 00:00:00        23.333333   \n",
       "2       2018-02-16 17:28:48   2018-03-09 00:00:00        37.316667   \n",
       "3       2017-04-20 09:08:35   2017-05-10 00:00:00        14.100000   \n",
       "4       2018-02-28 16:33:35   2018-03-09 00:00:00       289.300000   \n",
       "...                     ...                   ...              ...   \n",
       "96339   2018-07-06 13:22:37   2018-07-20 00:00:00      1439.266667   \n",
       "96340   2017-12-08 17:19:00   2017-12-20 00:00:00        22.616667   \n",
       "96341   2018-03-21 17:44:08   2018-04-06 00:00:00        15.750000   \n",
       "96342   2018-06-30 12:57:51   2018-07-16 00:00:00        88.016667   \n",
       "96343   2017-07-02 09:44:54   2017-07-12 00:00:00       961.833333   \n",
       "\n",
       "       siparis_cikis_gun  siparis_teslim_gun  erken_teslim_gun  \n",
       "0                      1                   4                15  \n",
       "1                      2                   7                 4  \n",
       "2                      3                  10                20  \n",
       "3                      0                   9                19  \n",
       "4                      5                  12                 8  \n",
       "...                  ...                 ...               ...  \n",
       "96339                  0                   6                13  \n",
       "96340                  3                   0                11  \n",
       "96341                  1                   1                15  \n",
       "96342                  2                   4                15  \n",
       "96343                  0                   1                 9  \n",
       "\n",
       "[96344 rows x 16 columns]"
      ]
     },
     "execution_count": 757,
     "metadata": {},
     "output_type": "execute_result"
    }
   ],
   "source": [
    "merg_data2 = pd.merge(yorumlar, siparisler, on = \"siparis_id\")\n",
    "merg_data2"
   ]
  },
  {
   "cell_type": "code",
   "execution_count": 758,
   "metadata": {},
   "outputs": [
    {
     "data": {
      "text/plain": [
       "siparis_durumu\n",
       "canceled     2.00000\n",
       "delivered    4.15565\n",
       "Name: yorum_puan, dtype: float64"
      ]
     },
     "execution_count": 758,
     "metadata": {},
     "output_type": "execute_result"
    }
   ],
   "source": [
    "#Sipariş durumuna göre ürün puanı\n",
    "\n",
    "merg_data2.groupby(\"siparis_durumu\")[\"yorum_puan\"].mean()"
   ]
  },
  {
   "cell_type": "code",
   "execution_count": 759,
   "metadata": {},
   "outputs": [
    {
     "data": {
      "text/html": [
       "<div>\n",
       "<style scoped>\n",
       "    .dataframe tbody tr th:only-of-type {\n",
       "        vertical-align: middle;\n",
       "    }\n",
       "\n",
       "    .dataframe tbody tr th {\n",
       "        vertical-align: top;\n",
       "    }\n",
       "\n",
       "    .dataframe thead th {\n",
       "        text-align: right;\n",
       "    }\n",
       "</style>\n",
       "<table border=\"1\" class=\"dataframe\">\n",
       "  <thead>\n",
       "    <tr style=\"text-align: right;\">\n",
       "      <th></th>\n",
       "      <th>count</th>\n",
       "      <th>mean</th>\n",
       "      <th>std</th>\n",
       "      <th>min</th>\n",
       "      <th>25%</th>\n",
       "      <th>50%</th>\n",
       "      <th>75%</th>\n",
       "      <th>max</th>\n",
       "    </tr>\n",
       "    <tr>\n",
       "      <th>siparis_durumu</th>\n",
       "      <th></th>\n",
       "      <th></th>\n",
       "      <th></th>\n",
       "      <th></th>\n",
       "      <th></th>\n",
       "      <th></th>\n",
       "      <th></th>\n",
       "      <th></th>\n",
       "    </tr>\n",
       "  </thead>\n",
       "  <tbody>\n",
       "    <tr>\n",
       "      <th>canceled</th>\n",
       "      <td>6.0</td>\n",
       "      <td>2.00000</td>\n",
       "      <td>1.673320</td>\n",
       "      <td>1.0</td>\n",
       "      <td>1.0</td>\n",
       "      <td>1.0</td>\n",
       "      <td>2.5</td>\n",
       "      <td>5.0</td>\n",
       "    </tr>\n",
       "    <tr>\n",
       "      <th>delivered</th>\n",
       "      <td>96338.0</td>\n",
       "      <td>4.15565</td>\n",
       "      <td>1.285028</td>\n",
       "      <td>1.0</td>\n",
       "      <td>4.0</td>\n",
       "      <td>5.0</td>\n",
       "      <td>5.0</td>\n",
       "      <td>5.0</td>\n",
       "    </tr>\n",
       "  </tbody>\n",
       "</table>\n",
       "</div>"
      ],
      "text/plain": [
       "                  count     mean       std  min  25%  50%  75%  max\n",
       "siparis_durumu                                                     \n",
       "canceled            6.0  2.00000  1.673320  1.0  1.0  1.0  2.5  5.0\n",
       "delivered       96338.0  4.15565  1.285028  1.0  4.0  5.0  5.0  5.0"
      ]
     },
     "execution_count": 759,
     "metadata": {},
     "output_type": "execute_result"
    }
   ],
   "source": [
    "merg_data2.groupby(\"siparis_durumu\")[\"yorum_puan\"].describe()"
   ]
  },
  {
   "cell_type": "code",
   "execution_count": 760,
   "metadata": {},
   "outputs": [
    {
     "data": {
      "text/html": [
       "<div>\n",
       "<style scoped>\n",
       "    .dataframe tbody tr th:only-of-type {\n",
       "        vertical-align: middle;\n",
       "    }\n",
       "\n",
       "    .dataframe tbody tr th {\n",
       "        vertical-align: top;\n",
       "    }\n",
       "\n",
       "    .dataframe thead th {\n",
       "        text-align: right;\n",
       "    }\n",
       "</style>\n",
       "<table border=\"1\" class=\"dataframe\">\n",
       "  <thead>\n",
       "    <tr style=\"text-align: right;\">\n",
       "      <th></th>\n",
       "      <th>siparis_id</th>\n",
       "      <th>siparis_adet</th>\n",
       "      <th>urun_id</th>\n",
       "      <th>satici_id</th>\n",
       "      <th>nakliye_son_tarih</th>\n",
       "      <th>urun_fiyat</th>\n",
       "      <th>nakliye_ucreti</th>\n",
       "      <th>odeme_seq</th>\n",
       "      <th>odeme_sekli</th>\n",
       "      <th>taksit_sayisi</th>\n",
       "      <th>odeme_degeri</th>\n",
       "    </tr>\n",
       "  </thead>\n",
       "  <tbody>\n",
       "    <tr>\n",
       "      <th>0</th>\n",
       "      <td>00010242fe8c5a6d1ba2dd792cb16214</td>\n",
       "      <td>1</td>\n",
       "      <td>4244733e06e7ecb4970a6e2683c13e61</td>\n",
       "      <td>48436dade18ac8b2bce089ec2a041202</td>\n",
       "      <td>2017-09-19 09:45:35</td>\n",
       "      <td>58.9</td>\n",
       "      <td>13.29</td>\n",
       "      <td>1</td>\n",
       "      <td>credit_card</td>\n",
       "      <td>2</td>\n",
       "      <td>72.19</td>\n",
       "    </tr>\n",
       "    <tr>\n",
       "      <th>1</th>\n",
       "      <td>00018f77f2f0320c557190d7a144bdd3</td>\n",
       "      <td>1</td>\n",
       "      <td>e5f2d52b802189ee658865ca93d83a8f</td>\n",
       "      <td>dd7ddc04e1b6c2c614352b383efe2d36</td>\n",
       "      <td>2017-05-03 11:05:13</td>\n",
       "      <td>239.9</td>\n",
       "      <td>19.93</td>\n",
       "      <td>1</td>\n",
       "      <td>credit_card</td>\n",
       "      <td>3</td>\n",
       "      <td>259.83</td>\n",
       "    </tr>\n",
       "    <tr>\n",
       "      <th>2</th>\n",
       "      <td>000229ec398224ef6ca0657da4fc703e</td>\n",
       "      <td>1</td>\n",
       "      <td>c777355d18b72b67abbeef9df44fd0fd</td>\n",
       "      <td>5b51032eddd242adc84c38acab88f23d</td>\n",
       "      <td>2018-01-18 14:48:30</td>\n",
       "      <td>199.0</td>\n",
       "      <td>17.87</td>\n",
       "      <td>1</td>\n",
       "      <td>credit_card</td>\n",
       "      <td>5</td>\n",
       "      <td>216.87</td>\n",
       "    </tr>\n",
       "  </tbody>\n",
       "</table>\n",
       "</div>"
      ],
      "text/plain": [
       "                         siparis_id  siparis_adet  \\\n",
       "0  00010242fe8c5a6d1ba2dd792cb16214             1   \n",
       "1  00018f77f2f0320c557190d7a144bdd3             1   \n",
       "2  000229ec398224ef6ca0657da4fc703e             1   \n",
       "\n",
       "                            urun_id                         satici_id  \\\n",
       "0  4244733e06e7ecb4970a6e2683c13e61  48436dade18ac8b2bce089ec2a041202   \n",
       "1  e5f2d52b802189ee658865ca93d83a8f  dd7ddc04e1b6c2c614352b383efe2d36   \n",
       "2  c777355d18b72b67abbeef9df44fd0fd  5b51032eddd242adc84c38acab88f23d   \n",
       "\n",
       "     nakliye_son_tarih  urun_fiyat  nakliye_ucreti  odeme_seq  odeme_sekli  \\\n",
       "0  2017-09-19 09:45:35        58.9           13.29          1  credit_card   \n",
       "1  2017-05-03 11:05:13       239.9           19.93          1  credit_card   \n",
       "2  2018-01-18 14:48:30       199.0           17.87          1  credit_card   \n",
       "\n",
       "   taksit_sayisi  odeme_degeri  \n",
       "0              2         72.19  \n",
       "1              3        259.83  \n",
       "2              5        216.87  "
      ]
     },
     "execution_count": 760,
     "metadata": {},
     "output_type": "execute_result"
    }
   ],
   "source": [
    "merg_data3 = pd.merge(items_data, payments_data, on = \"siparis_id\")\n",
    "merg_data3.head(3)"
   ]
  },
  {
   "cell_type": "code",
   "execution_count": 763,
   "metadata": {},
   "outputs": [
    {
     "data": {
      "text/plain": [
       "odeme_degeri\n",
       "0.00        1.0\n",
       "0.01        1.0\n",
       "0.03        1.0\n",
       "0.05        1.0\n",
       "0.08        1.0\n",
       "           ... \n",
       "6726.66     1.0\n",
       "6922.21     1.0\n",
       "6929.31     8.0\n",
       "7274.88     1.0\n",
       "13664.08    1.0\n",
       "Name: taksit_sayisi, Length: 28938, dtype: float64"
      ]
     },
     "execution_count": 763,
     "metadata": {},
     "output_type": "execute_result"
    }
   ],
   "source": [
    "merg_data3.groupby(\"odeme_degeri\")[\"taksit_sayisi\"].mean()"
   ]
  },
  {
   "cell_type": "code",
   "execution_count": 796,
   "metadata": {},
   "outputs": [
    {
     "data": {
      "text/html": [
       "<div>\n",
       "<style scoped>\n",
       "    .dataframe tbody tr th:only-of-type {\n",
       "        vertical-align: middle;\n",
       "    }\n",
       "\n",
       "    .dataframe tbody tr th {\n",
       "        vertical-align: top;\n",
       "    }\n",
       "\n",
       "    .dataframe thead th {\n",
       "        text-align: right;\n",
       "    }\n",
       "</style>\n",
       "<table border=\"1\" class=\"dataframe\">\n",
       "  <thead>\n",
       "    <tr style=\"text-align: right;\">\n",
       "      <th></th>\n",
       "      <th>siparis_id</th>\n",
       "      <th>siparis_adet</th>\n",
       "      <th>urun_id</th>\n",
       "      <th>satici_id</th>\n",
       "      <th>nakliye_son_tarih</th>\n",
       "      <th>urun_fiyat</th>\n",
       "      <th>nakliye_ucreti</th>\n",
       "      <th>satici_posta_kodu</th>\n",
       "      <th>satici_sehir</th>\n",
       "      <th>satici_eyalet</th>\n",
       "    </tr>\n",
       "  </thead>\n",
       "  <tbody>\n",
       "    <tr>\n",
       "      <th>0</th>\n",
       "      <td>00010242fe8c5a6d1ba2dd792cb16214</td>\n",
       "      <td>1</td>\n",
       "      <td>4244733e06e7ecb4970a6e2683c13e61</td>\n",
       "      <td>48436dade18ac8b2bce089ec2a041202</td>\n",
       "      <td>2017-09-19 09:45:35</td>\n",
       "      <td>58.9</td>\n",
       "      <td>13.29</td>\n",
       "      <td>27277</td>\n",
       "      <td>volta redonda</td>\n",
       "      <td>SP</td>\n",
       "    </tr>\n",
       "    <tr>\n",
       "      <th>1</th>\n",
       "      <td>0188777fe321843a18be24a6e9aa1e53</td>\n",
       "      <td>1</td>\n",
       "      <td>436c8d57ff8d4aa254318e9bd9b48c83</td>\n",
       "      <td>48436dade18ac8b2bce089ec2a041202</td>\n",
       "      <td>2017-07-31 14:35:11</td>\n",
       "      <td>55.9</td>\n",
       "      <td>9.94</td>\n",
       "      <td>27277</td>\n",
       "      <td>volta redonda</td>\n",
       "      <td>SP</td>\n",
       "    </tr>\n",
       "    <tr>\n",
       "      <th>2</th>\n",
       "      <td>0191bbb5166d4b9a68df11797d5acfa9</td>\n",
       "      <td>1</td>\n",
       "      <td>ec02a5d380128f7a188e9ce8f3ddd832</td>\n",
       "      <td>48436dade18ac8b2bce089ec2a041202</td>\n",
       "      <td>2017-08-16 12:30:15</td>\n",
       "      <td>132.9</td>\n",
       "      <td>20.17</td>\n",
       "      <td>27277</td>\n",
       "      <td>volta redonda</td>\n",
       "      <td>SP</td>\n",
       "    </tr>\n",
       "    <tr>\n",
       "      <th>3</th>\n",
       "      <td>03054d8a8eefc2981cfad06f58e27979</td>\n",
       "      <td>1</td>\n",
       "      <td>3e31fd1419cc4cd6adad1925e72e3a03</td>\n",
       "      <td>48436dade18ac8b2bce089ec2a041202</td>\n",
       "      <td>2017-10-09 10:35:11</td>\n",
       "      <td>58.9</td>\n",
       "      <td>15.16</td>\n",
       "      <td>27277</td>\n",
       "      <td>volta redonda</td>\n",
       "      <td>SP</td>\n",
       "    </tr>\n",
       "    <tr>\n",
       "      <th>4</th>\n",
       "      <td>0c325ea6925de749e1420be0cf43587c</td>\n",
       "      <td>1</td>\n",
       "      <td>3a135477bf41350a0b1d8afdf616d446</td>\n",
       "      <td>48436dade18ac8b2bce089ec2a041202</td>\n",
       "      <td>2017-07-06 15:43:50</td>\n",
       "      <td>139.9</td>\n",
       "      <td>16.74</td>\n",
       "      <td>27277</td>\n",
       "      <td>volta redonda</td>\n",
       "      <td>SP</td>\n",
       "    </tr>\n",
       "  </tbody>\n",
       "</table>\n",
       "</div>"
      ],
      "text/plain": [
       "                         siparis_id  siparis_adet  \\\n",
       "0  00010242fe8c5a6d1ba2dd792cb16214             1   \n",
       "1  0188777fe321843a18be24a6e9aa1e53             1   \n",
       "2  0191bbb5166d4b9a68df11797d5acfa9             1   \n",
       "3  03054d8a8eefc2981cfad06f58e27979             1   \n",
       "4  0c325ea6925de749e1420be0cf43587c             1   \n",
       "\n",
       "                            urun_id                         satici_id  \\\n",
       "0  4244733e06e7ecb4970a6e2683c13e61  48436dade18ac8b2bce089ec2a041202   \n",
       "1  436c8d57ff8d4aa254318e9bd9b48c83  48436dade18ac8b2bce089ec2a041202   \n",
       "2  ec02a5d380128f7a188e9ce8f3ddd832  48436dade18ac8b2bce089ec2a041202   \n",
       "3  3e31fd1419cc4cd6adad1925e72e3a03  48436dade18ac8b2bce089ec2a041202   \n",
       "4  3a135477bf41350a0b1d8afdf616d446  48436dade18ac8b2bce089ec2a041202   \n",
       "\n",
       "     nakliye_son_tarih  urun_fiyat  nakliye_ucreti  satici_posta_kodu  \\\n",
       "0  2017-09-19 09:45:35        58.9           13.29              27277   \n",
       "1  2017-07-31 14:35:11        55.9            9.94              27277   \n",
       "2  2017-08-16 12:30:15       132.9           20.17              27277   \n",
       "3  2017-10-09 10:35:11        58.9           15.16              27277   \n",
       "4  2017-07-06 15:43:50       139.9           16.74              27277   \n",
       "\n",
       "    satici_sehir satici_eyalet  \n",
       "0  volta redonda            SP  \n",
       "1  volta redonda            SP  \n",
       "2  volta redonda            SP  \n",
       "3  volta redonda            SP  \n",
       "4  volta redonda            SP  "
      ]
     },
     "execution_count": 796,
     "metadata": {},
     "output_type": "execute_result"
    }
   ],
   "source": [
    "merg_data4 = pd.merge(items_data, sellers_data, on = \"satici_id\")\n",
    "merg_data4.head()"
   ]
  },
  {
   "cell_type": "code",
   "execution_count": 799,
   "metadata": {},
   "outputs": [
    {
     "data": {
      "text/html": [
       "<div>\n",
       "<style scoped>\n",
       "    .dataframe tbody tr th:only-of-type {\n",
       "        vertical-align: middle;\n",
       "    }\n",
       "\n",
       "    .dataframe tbody tr th {\n",
       "        vertical-align: top;\n",
       "    }\n",
       "\n",
       "    .dataframe thead th {\n",
       "        text-align: right;\n",
       "    }\n",
       "</style>\n",
       "<table border=\"1\" class=\"dataframe\">\n",
       "  <thead>\n",
       "    <tr style=\"text-align: right;\">\n",
       "      <th></th>\n",
       "      <th>count</th>\n",
       "      <th>mean</th>\n",
       "      <th>std</th>\n",
       "      <th>min</th>\n",
       "      <th>25%</th>\n",
       "      <th>50%</th>\n",
       "      <th>75%</th>\n",
       "      <th>max</th>\n",
       "    </tr>\n",
       "    <tr>\n",
       "      <th>satici_id</th>\n",
       "      <th></th>\n",
       "      <th></th>\n",
       "      <th></th>\n",
       "      <th></th>\n",
       "      <th></th>\n",
       "      <th></th>\n",
       "      <th></th>\n",
       "      <th></th>\n",
       "    </tr>\n",
       "  </thead>\n",
       "  <tbody>\n",
       "    <tr>\n",
       "      <th>0015a82c2db000af6aaaf3ae2ecb0532</th>\n",
       "      <td>3.0</td>\n",
       "      <td>1.000000</td>\n",
       "      <td>0.000000</td>\n",
       "      <td>1.0</td>\n",
       "      <td>1.0</td>\n",
       "      <td>1.0</td>\n",
       "      <td>1.0</td>\n",
       "      <td>1.0</td>\n",
       "    </tr>\n",
       "    <tr>\n",
       "      <th>001cca7ae9ae17fb1caed9dfb1094831</th>\n",
       "      <td>239.0</td>\n",
       "      <td>1.221757</td>\n",
       "      <td>0.577036</td>\n",
       "      <td>1.0</td>\n",
       "      <td>1.0</td>\n",
       "      <td>1.0</td>\n",
       "      <td>1.0</td>\n",
       "      <td>5.0</td>\n",
       "    </tr>\n",
       "    <tr>\n",
       "      <th>001e6ad469a905060d959994f1b41e4f</th>\n",
       "      <td>1.0</td>\n",
       "      <td>1.000000</td>\n",
       "      <td>NaN</td>\n",
       "      <td>1.0</td>\n",
       "      <td>1.0</td>\n",
       "      <td>1.0</td>\n",
       "      <td>1.0</td>\n",
       "      <td>1.0</td>\n",
       "    </tr>\n",
       "    <tr>\n",
       "      <th>002100f778ceb8431b7a1020ff7ab48f</th>\n",
       "      <td>55.0</td>\n",
       "      <td>1.090909</td>\n",
       "      <td>0.290129</td>\n",
       "      <td>1.0</td>\n",
       "      <td>1.0</td>\n",
       "      <td>1.0</td>\n",
       "      <td>1.0</td>\n",
       "      <td>2.0</td>\n",
       "    </tr>\n",
       "    <tr>\n",
       "      <th>003554e2dce176b5555353e4f3555ac8</th>\n",
       "      <td>1.0</td>\n",
       "      <td>1.000000</td>\n",
       "      <td>NaN</td>\n",
       "      <td>1.0</td>\n",
       "      <td>1.0</td>\n",
       "      <td>1.0</td>\n",
       "      <td>1.0</td>\n",
       "      <td>1.0</td>\n",
       "    </tr>\n",
       "    <tr>\n",
       "      <th>...</th>\n",
       "      <td>...</td>\n",
       "      <td>...</td>\n",
       "      <td>...</td>\n",
       "      <td>...</td>\n",
       "      <td>...</td>\n",
       "      <td>...</td>\n",
       "      <td>...</td>\n",
       "      <td>...</td>\n",
       "    </tr>\n",
       "    <tr>\n",
       "      <th>ffcfefa19b08742c5d315f2791395ee5</th>\n",
       "      <td>1.0</td>\n",
       "      <td>1.000000</td>\n",
       "      <td>NaN</td>\n",
       "      <td>1.0</td>\n",
       "      <td>1.0</td>\n",
       "      <td>1.0</td>\n",
       "      <td>1.0</td>\n",
       "      <td>1.0</td>\n",
       "    </tr>\n",
       "    <tr>\n",
       "      <th>ffdd9f82b9a447f6f8d4b91554cc7dd3</th>\n",
       "      <td>20.0</td>\n",
       "      <td>1.100000</td>\n",
       "      <td>0.307794</td>\n",
       "      <td>1.0</td>\n",
       "      <td>1.0</td>\n",
       "      <td>1.0</td>\n",
       "      <td>1.0</td>\n",
       "      <td>2.0</td>\n",
       "    </tr>\n",
       "    <tr>\n",
       "      <th>ffeee66ac5d5a62fe688b9d26f83f534</th>\n",
       "      <td>14.0</td>\n",
       "      <td>1.000000</td>\n",
       "      <td>0.000000</td>\n",
       "      <td>1.0</td>\n",
       "      <td>1.0</td>\n",
       "      <td>1.0</td>\n",
       "      <td>1.0</td>\n",
       "      <td>1.0</td>\n",
       "    </tr>\n",
       "    <tr>\n",
       "      <th>fffd5413c0700ac820c7069d66d98c89</th>\n",
       "      <td>61.0</td>\n",
       "      <td>1.081967</td>\n",
       "      <td>0.331415</td>\n",
       "      <td>1.0</td>\n",
       "      <td>1.0</td>\n",
       "      <td>1.0</td>\n",
       "      <td>1.0</td>\n",
       "      <td>3.0</td>\n",
       "    </tr>\n",
       "    <tr>\n",
       "      <th>ffff564a4f9085cd26170f4732393726</th>\n",
       "      <td>20.0</td>\n",
       "      <td>1.000000</td>\n",
       "      <td>0.000000</td>\n",
       "      <td>1.0</td>\n",
       "      <td>1.0</td>\n",
       "      <td>1.0</td>\n",
       "      <td>1.0</td>\n",
       "      <td>1.0</td>\n",
       "    </tr>\n",
       "  </tbody>\n",
       "</table>\n",
       "<p>3095 rows × 8 columns</p>\n",
       "</div>"
      ],
      "text/plain": [
       "                                  count      mean       std  min  25%  50%  \\\n",
       "satici_id                                                                    \n",
       "0015a82c2db000af6aaaf3ae2ecb0532    3.0  1.000000  0.000000  1.0  1.0  1.0   \n",
       "001cca7ae9ae17fb1caed9dfb1094831  239.0  1.221757  0.577036  1.0  1.0  1.0   \n",
       "001e6ad469a905060d959994f1b41e4f    1.0  1.000000       NaN  1.0  1.0  1.0   \n",
       "002100f778ceb8431b7a1020ff7ab48f   55.0  1.090909  0.290129  1.0  1.0  1.0   \n",
       "003554e2dce176b5555353e4f3555ac8    1.0  1.000000       NaN  1.0  1.0  1.0   \n",
       "...                                 ...       ...       ...  ...  ...  ...   \n",
       "ffcfefa19b08742c5d315f2791395ee5    1.0  1.000000       NaN  1.0  1.0  1.0   \n",
       "ffdd9f82b9a447f6f8d4b91554cc7dd3   20.0  1.100000  0.307794  1.0  1.0  1.0   \n",
       "ffeee66ac5d5a62fe688b9d26f83f534   14.0  1.000000  0.000000  1.0  1.0  1.0   \n",
       "fffd5413c0700ac820c7069d66d98c89   61.0  1.081967  0.331415  1.0  1.0  1.0   \n",
       "ffff564a4f9085cd26170f4732393726   20.0  1.000000  0.000000  1.0  1.0  1.0   \n",
       "\n",
       "                                  75%  max  \n",
       "satici_id                                   \n",
       "0015a82c2db000af6aaaf3ae2ecb0532  1.0  1.0  \n",
       "001cca7ae9ae17fb1caed9dfb1094831  1.0  5.0  \n",
       "001e6ad469a905060d959994f1b41e4f  1.0  1.0  \n",
       "002100f778ceb8431b7a1020ff7ab48f  1.0  2.0  \n",
       "003554e2dce176b5555353e4f3555ac8  1.0  1.0  \n",
       "...                               ...  ...  \n",
       "ffcfefa19b08742c5d315f2791395ee5  1.0  1.0  \n",
       "ffdd9f82b9a447f6f8d4b91554cc7dd3  1.0  2.0  \n",
       "ffeee66ac5d5a62fe688b9d26f83f534  1.0  1.0  \n",
       "fffd5413c0700ac820c7069d66d98c89  1.0  3.0  \n",
       "ffff564a4f9085cd26170f4732393726  1.0  1.0  \n",
       "\n",
       "[3095 rows x 8 columns]"
      ]
     },
     "execution_count": 799,
     "metadata": {},
     "output_type": "execute_result"
    }
   ],
   "source": [
    "#Hangi satıcının ne kadar ürün sattığı:\n",
    "\n",
    "merg_data4.groupby(\"satici_id\")[\"siparis_adet\"].describe()"
   ]
  },
  {
   "cell_type": "code",
   "execution_count": 813,
   "metadata": {},
   "outputs": [
    {
     "data": {
      "text/plain": [
       "Text(0, 0.5, 'Satılan Ürün Sayısı')"
      ]
     },
     "execution_count": 813,
     "metadata": {},
     "output_type": "execute_result"
    },
    {
     "data": {
      "image/png": "[encoded data removed]",
      "text/plain": [
       "<Figure size 1296x504 with 1 Axes>"
      ]
     },
     "metadata": {
      "needs_background": "light"
     },
     "output_type": "display_data"
    }
   ],
   "source": [
    "plt.figure(figsize = (18,7))\n",
    "sns.countplot(x = 'satici_id', data = merg_data4)\n",
    "plt.title('Satıcı - Satılan Ürün Sayısı')\n",
    "plt.xlabel('Satıcı')\n",
    "plt.ylabel('Satılan Ürün Sayısı')"
   ]
  },
  {
   "cell_type": "code",
   "execution_count": 821,
   "metadata": {},
   "outputs": [
    {
     "data": {
      "text/plain": [
       "<AxesSubplot: xlabel='satici_id,siparis_adet', ylabel='Galibiyet Sayısı'>"
      ]
     },
     "execution_count": 821,
     "metadata": {},
     "output_type": "execute_result"
    },
    {
     "data": {
      "image/png": "[encoded data removed]",
      "text/plain": [
       "<Figure size 720x360 with 1 Axes>"
      ]
     },
     "metadata": {
      "needs_background": "light"
     },
     "output_type": "display_data"
    }
   ],
   "source": [
    "plt.figure(figsize=(10,5))\n",
    "plt.ylabel('Galibiyet Sayısı')\n",
    "#games.groupby(\"Sezon\")[\"Ana_Takım_Kazanma\"].value_counts().sort_values(ascending=False).plot.bar(width= 0.50, color=\"#87CEEB\")\n",
    "merg_data4.groupby(\"satici_id\")[\"siparis_adet\"].value_counts().sort_values(ascending=False).plot.bar(width= 0.50, color=\"#87CEEB\")"
   ]
  },
  {
   "cell_type": "code",
   "execution_count": null,
   "metadata": {},
   "outputs": [],
   "source": []
  }
 ],
 "metadata": {
  "kernelspec": {
   "display_name": "Python 3.10.6 64-bit",
   "language": "python",
   "name": "python3"
  },
  "language_info": {
   "codemirror_mode": {
    "name": "ipython",
    "version": 3
   },
   "file_extension": ".py",
   "mimetype": "text/x-python",
   "name": "python",
   "nbconvert_exporter": "python",
   "pygments_lexer": "ipython3",
   "version": "3.10.6"
  },
  "orig_nbformat": 4,
  "vscode": {
   "interpreter": {
    "hash": "7abdeb0200ebd754690cbcec56174444248875cf3a24ec2c75e7a8e48165272e"
   }
  }
 },
 "nbformat": 4,
 "nbformat_minor": 2
}
